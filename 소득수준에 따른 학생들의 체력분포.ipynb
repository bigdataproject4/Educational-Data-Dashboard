{
 "cells": [
  {
   "cell_type": "markdown",
   "id": "16de7591",
   "metadata": {},
   "source": [
    "### 각 데이터 변수명에 해당되는 내용은 다음과 같습니다.\n",
    "\n",
    "* df = 공시가격 원본파일\n",
    "* df_2 = 학생체력 원본파일\n",
    "\n",
    "* df1 = 전처리 완료된 공시가격 데이터\n",
    "\n",
    "\n",
    "* df_2_A = 원본데이터에서 필요한 열만 가져온 데이터(열이름 변경까지)\n",
    "\n",
    "* df_2_cou_sum =  지역 학년을 그룹화 한 뒤 %지수가 0인 데이터 제거\n",
    "* df_2_cou_sum_log = % 지수 log데이터로 변환\n",
    "\n",
    "* df_2_AAA = 전지역 전처리된 데이터에서 서울과 경북데이터만 가져온 데이터\n",
    "\n",
    "* df_2_region = 서울, 경북기준으로 그룹합\n",
    "* df_2_grade = 서울, 경북 학년별 그룹합\n",
    "\n",
    "* df2 = 그룹한 한 데이터데이블을 합한 뒤 % 지수를 log 데이터로 변환 ( 최종 데이터)\n",
    "\n"
   ]
  },
  {
   "cell_type": "code",
   "execution_count": 1,
   "id": "7784fa7b",
   "metadata": {},
   "outputs": [],
   "source": [
    "\n",
    "import pandas as pd\n",
    "import matplotlib.pyplot as plt\n",
    "import seaborn as sns\n",
    "from scipy import stats\n",
    "import numpy as np\n",
    "import matplotlib as mpl\n",
    "import plotly.express as px\n",
    "\n",
    "from dash import Dash, html, dcc, callback, Output, Input,dash_table\n",
    "import plotly.graph_objects as go\n",
    "\n",
    "\n",
    "plt.rc('font', family='Malgun Gothic')  #고딕체 설정\n",
    "mpl.rcParams['axes.unicode_minus'] = False"
   ]
  },
  {
   "cell_type": "code",
   "execution_count": 2,
   "id": "e4f0a55f",
   "metadata": {},
   "outputs": [
    {
     "name": "stderr",
     "output_type": "stream",
     "text": [
      "C:\\Users\\user\\AppData\\Local\\Temp\\ipykernel_24220\\3589909784.py:1: DtypeWarning: Columns (5,6,11,14) have mixed types. Specify dtype option on import or set low_memory=False.\n",
      "  df = pd.read_csv(\"./data/2022년 공동주택 공시가격 정보.csv\", encoding = 'cp949')\n"
     ]
    }
   ],
   "source": [
    "df = pd.read_csv(\"./data/2022년 공동주택 공시가격 정보.csv\", encoding = 'cp949')\n",
    "df_2 = pd.read_csv(\"./data/2022년도_학생의 체력 증진에 관한 사항(고)_전체.csv\")"
   ]
  },
  {
   "cell_type": "code",
   "execution_count": 3,
   "id": "c8dcb1bc",
   "metadata": {},
   "outputs": [],
   "source": [
    "df_3= pd.read_csv(\"./data/2022년도_학생의 체력 증진에 관한 사항(초)_전체.csv\")"
   ]
  },
  {
   "cell_type": "code",
   "execution_count": 4,
   "id": "d88f6bb7",
   "metadata": {},
   "outputs": [
    {
     "data": {
      "text/html": [
       "<div>\n",
       "<style scoped>\n",
       "    .dataframe tbody tr th:only-of-type {\n",
       "        vertical-align: middle;\n",
       "    }\n",
       "\n",
       "    .dataframe tbody tr th {\n",
       "        vertical-align: top;\n",
       "    }\n",
       "\n",
       "    .dataframe thead th {\n",
       "        text-align: right;\n",
       "    }\n",
       "</style>\n",
       "<table border=\"1\" class=\"dataframe\">\n",
       "  <thead>\n",
       "    <tr style=\"text-align: right;\">\n",
       "      <th></th>\n",
       "      <th>기준연도</th>\n",
       "      <th>기준월</th>\n",
       "      <th>법정동코드</th>\n",
       "      <th>도로명주소</th>\n",
       "      <th>시도</th>\n",
       "      <th>시군구</th>\n",
       "      <th>읍면</th>\n",
       "      <th>동리</th>\n",
       "      <th>특수지코드</th>\n",
       "      <th>본번</th>\n",
       "      <th>부번</th>\n",
       "      <th>특수지명</th>\n",
       "      <th>단지명</th>\n",
       "      <th>동명</th>\n",
       "      <th>호명</th>\n",
       "      <th>전용면적</th>\n",
       "      <th>공시가격</th>\n",
       "      <th>단지코드</th>\n",
       "      <th>동코드</th>\n",
       "      <th>호코드</th>\n",
       "    </tr>\n",
       "  </thead>\n",
       "  <tbody>\n",
       "    <tr>\n",
       "      <th>0</th>\n",
       "      <td>2022</td>\n",
       "      <td>1</td>\n",
       "      <td>1111010100</td>\n",
       "      <td>서울특별시 종로구 자하문로36길 16-14</td>\n",
       "      <td>서울특별시</td>\n",
       "      <td>종로구</td>\n",
       "      <td>NaN</td>\n",
       "      <td>청운동</td>\n",
       "      <td>0</td>\n",
       "      <td>1</td>\n",
       "      <td>0</td>\n",
       "      <td>NaN</td>\n",
       "      <td>청운벽산빌리지</td>\n",
       "      <td>1</td>\n",
       "      <td>111</td>\n",
       "      <td>187.49</td>\n",
       "      <td>989000000</td>\n",
       "      <td>3</td>\n",
       "      <td>1</td>\n",
       "      <td>1</td>\n",
       "    </tr>\n",
       "    <tr>\n",
       "      <th>1</th>\n",
       "      <td>2022</td>\n",
       "      <td>1</td>\n",
       "      <td>1111010100</td>\n",
       "      <td>서울특별시 종로구 자하문로36길 16-14</td>\n",
       "      <td>서울특별시</td>\n",
       "      <td>종로구</td>\n",
       "      <td>NaN</td>\n",
       "      <td>청운동</td>\n",
       "      <td>0</td>\n",
       "      <td>1</td>\n",
       "      <td>0</td>\n",
       "      <td>NaN</td>\n",
       "      <td>청운벽산빌리지</td>\n",
       "      <td>1</td>\n",
       "      <td>112</td>\n",
       "      <td>187.49</td>\n",
       "      <td>989000000</td>\n",
       "      <td>3</td>\n",
       "      <td>1</td>\n",
       "      <td>2</td>\n",
       "    </tr>\n",
       "    <tr>\n",
       "      <th>2</th>\n",
       "      <td>2022</td>\n",
       "      <td>1</td>\n",
       "      <td>1111010100</td>\n",
       "      <td>서울특별시 종로구 자하문로36길 16-14</td>\n",
       "      <td>서울특별시</td>\n",
       "      <td>종로구</td>\n",
       "      <td>NaN</td>\n",
       "      <td>청운동</td>\n",
       "      <td>0</td>\n",
       "      <td>1</td>\n",
       "      <td>0</td>\n",
       "      <td>NaN</td>\n",
       "      <td>청운벽산빌리지</td>\n",
       "      <td>1</td>\n",
       "      <td>121</td>\n",
       "      <td>157.25</td>\n",
       "      <td>926000000</td>\n",
       "      <td>3</td>\n",
       "      <td>1</td>\n",
       "      <td>3</td>\n",
       "    </tr>\n",
       "    <tr>\n",
       "      <th>3</th>\n",
       "      <td>2022</td>\n",
       "      <td>1</td>\n",
       "      <td>1111010100</td>\n",
       "      <td>서울특별시 종로구 자하문로36길 16-14</td>\n",
       "      <td>서울특별시</td>\n",
       "      <td>종로구</td>\n",
       "      <td>NaN</td>\n",
       "      <td>청운동</td>\n",
       "      <td>0</td>\n",
       "      <td>1</td>\n",
       "      <td>0</td>\n",
       "      <td>NaN</td>\n",
       "      <td>청운벽산빌리지</td>\n",
       "      <td>1</td>\n",
       "      <td>122</td>\n",
       "      <td>157.25</td>\n",
       "      <td>926000000</td>\n",
       "      <td>3</td>\n",
       "      <td>1</td>\n",
       "      <td>4</td>\n",
       "    </tr>\n",
       "    <tr>\n",
       "      <th>4</th>\n",
       "      <td>2022</td>\n",
       "      <td>1</td>\n",
       "      <td>1111010100</td>\n",
       "      <td>서울특별시 종로구 자하문로36길 16-14</td>\n",
       "      <td>서울특별시</td>\n",
       "      <td>종로구</td>\n",
       "      <td>NaN</td>\n",
       "      <td>청운동</td>\n",
       "      <td>0</td>\n",
       "      <td>1</td>\n",
       "      <td>0</td>\n",
       "      <td>NaN</td>\n",
       "      <td>청운벽산빌리지</td>\n",
       "      <td>1</td>\n",
       "      <td>131</td>\n",
       "      <td>152.33</td>\n",
       "      <td>905000000</td>\n",
       "      <td>3</td>\n",
       "      <td>1</td>\n",
       "      <td>5</td>\n",
       "    </tr>\n",
       "  </tbody>\n",
       "</table>\n",
       "</div>"
      ],
      "text/plain": [
       "   기준연도  기준월       법정동코드                    도로명주소     시도  시군구   읍면   동리  \\\n",
       "0  2022    1  1111010100  서울특별시 종로구 자하문로36길 16-14  서울특별시  종로구  NaN  청운동   \n",
       "1  2022    1  1111010100  서울특별시 종로구 자하문로36길 16-14  서울특별시  종로구  NaN  청운동   \n",
       "2  2022    1  1111010100  서울특별시 종로구 자하문로36길 16-14  서울특별시  종로구  NaN  청운동   \n",
       "3  2022    1  1111010100  서울특별시 종로구 자하문로36길 16-14  서울특별시  종로구  NaN  청운동   \n",
       "4  2022    1  1111010100  서울특별시 종로구 자하문로36길 16-14  서울특별시  종로구  NaN  청운동   \n",
       "\n",
       "   특수지코드  본번  부번 특수지명      단지명 동명   호명    전용면적       공시가격  단지코드  동코드  호코드  \n",
       "0      0   1   0  NaN  청운벽산빌리지  1  111  187.49  989000000     3    1    1  \n",
       "1      0   1   0  NaN  청운벽산빌리지  1  112  187.49  989000000     3    1    2  \n",
       "2      0   1   0  NaN  청운벽산빌리지  1  121  157.25  926000000     3    1    3  \n",
       "3      0   1   0  NaN  청운벽산빌리지  1  122  157.25  926000000     3    1    4  \n",
       "4      0   1   0  NaN  청운벽산빌리지  1  131  152.33  905000000     3    1    5  "
      ]
     },
     "execution_count": 4,
     "metadata": {},
     "output_type": "execute_result"
    }
   ],
   "source": [
    "df.head()"
   ]
  },
  {
   "cell_type": "code",
   "execution_count": 5,
   "id": "933bd4b0",
   "metadata": {},
   "outputs": [],
   "source": [
    "df_1 = df.copy()"
   ]
  },
  {
   "cell_type": "code",
   "execution_count": 6,
   "id": "70b9eb0c",
   "metadata": {},
   "outputs": [],
   "source": [
    "df_1['지역']=df_1['시도'] + \" \"+ df_1['시군구']"
   ]
  },
  {
   "cell_type": "code",
   "execution_count": 7,
   "id": "39d5873d",
   "metadata": {},
   "outputs": [
    {
     "name": "stderr",
     "output_type": "stream",
     "text": [
      "C:\\Users\\user\\AppData\\Local\\Temp\\ipykernel_24220\\2590490514.py:1: FutureWarning: The default value of numeric_only in DataFrameGroupBy.mean is deprecated. In a future version, numeric_only will default to False. Either specify numeric_only or select only columns which should be valid for the function.\n",
      "  df_1 = df_1.groupby('지역').mean()\n"
     ]
    }
   ],
   "source": [
    "df_1 = df_1.groupby('지역').mean()"
   ]
  },
  {
   "cell_type": "code",
   "execution_count": 8,
   "id": "1a27d341",
   "metadata": {},
   "outputs": [],
   "source": [
    "df_1 = pd.DataFrame(df_1['공시가격'])"
   ]
  },
  {
   "cell_type": "code",
   "execution_count": 9,
   "id": "822686aa",
   "metadata": {},
   "outputs": [
    {
     "data": {
      "text/html": [
       "<div>\n",
       "<style scoped>\n",
       "    .dataframe tbody tr th:only-of-type {\n",
       "        vertical-align: middle;\n",
       "    }\n",
       "\n",
       "    .dataframe tbody tr th {\n",
       "        vertical-align: top;\n",
       "    }\n",
       "\n",
       "    .dataframe thead th {\n",
       "        text-align: right;\n",
       "    }\n",
       "</style>\n",
       "<table border=\"1\" class=\"dataframe\">\n",
       "  <thead>\n",
       "    <tr style=\"text-align: right;\">\n",
       "      <th></th>\n",
       "      <th>지역</th>\n",
       "      <th>공시가격</th>\n",
       "      <th>순위</th>\n",
       "    </tr>\n",
       "  </thead>\n",
       "  <tbody>\n",
       "    <tr>\n",
       "      <th>0</th>\n",
       "      <td>서울특별시 강남구</td>\n",
       "      <td>1.377143e+09</td>\n",
       "      <td>1.0</td>\n",
       "    </tr>\n",
       "    <tr>\n",
       "      <th>1</th>\n",
       "      <td>서울특별시 서초구</td>\n",
       "      <td>1.298534e+09</td>\n",
       "      <td>2.0</td>\n",
       "    </tr>\n",
       "    <tr>\n",
       "      <th>2</th>\n",
       "      <td>경기도 과천시</td>\n",
       "      <td>1.138727e+09</td>\n",
       "      <td>3.0</td>\n",
       "    </tr>\n",
       "    <tr>\n",
       "      <th>3</th>\n",
       "      <td>서울특별시 용산구</td>\n",
       "      <td>1.017433e+09</td>\n",
       "      <td>4.0</td>\n",
       "    </tr>\n",
       "    <tr>\n",
       "      <th>4</th>\n",
       "      <td>경기도 성남분당구</td>\n",
       "      <td>8.801597e+08</td>\n",
       "      <td>5.0</td>\n",
       "    </tr>\n",
       "    <tr>\n",
       "      <th>...</th>\n",
       "      <td>...</td>\n",
       "      <td>...</td>\n",
       "      <td>...</td>\n",
       "    </tr>\n",
       "    <tr>\n",
       "      <th>244</th>\n",
       "      <td>충청북도 단양군</td>\n",
       "      <td>5.498920e+07</td>\n",
       "      <td>245.0</td>\n",
       "    </tr>\n",
       "    <tr>\n",
       "      <th>245</th>\n",
       "      <td>인천광역시 옹진군</td>\n",
       "      <td>5.185715e+07</td>\n",
       "      <td>246.0</td>\n",
       "    </tr>\n",
       "    <tr>\n",
       "      <th>246</th>\n",
       "      <td>경상북도 봉화군</td>\n",
       "      <td>4.954572e+07</td>\n",
       "      <td>247.0</td>\n",
       "    </tr>\n",
       "    <tr>\n",
       "      <th>247</th>\n",
       "      <td>강원도 태백시</td>\n",
       "      <td>4.711135e+07</td>\n",
       "      <td>248.0</td>\n",
       "    </tr>\n",
       "    <tr>\n",
       "      <th>248</th>\n",
       "      <td>전라남도 영암군</td>\n",
       "      <td>4.492680e+07</td>\n",
       "      <td>249.0</td>\n",
       "    </tr>\n",
       "  </tbody>\n",
       "</table>\n",
       "<p>249 rows × 3 columns</p>\n",
       "</div>"
      ],
      "text/plain": [
       "            지역          공시가격     순위\n",
       "0    서울특별시 강남구  1.377143e+09    1.0\n",
       "1    서울특별시 서초구  1.298534e+09    2.0\n",
       "2      경기도 과천시  1.138727e+09    3.0\n",
       "3    서울특별시 용산구  1.017433e+09    4.0\n",
       "4    경기도 성남분당구  8.801597e+08    5.0\n",
       "..         ...           ...    ...\n",
       "244   충청북도 단양군  5.498920e+07  245.0\n",
       "245  인천광역시 옹진군  5.185715e+07  246.0\n",
       "246   경상북도 봉화군  4.954572e+07  247.0\n",
       "247    강원도 태백시  4.711135e+07  248.0\n",
       "248   전라남도 영암군  4.492680e+07  249.0\n",
       "\n",
       "[249 rows x 3 columns]"
      ]
     },
     "execution_count": 9,
     "metadata": {},
     "output_type": "execute_result"
    }
   ],
   "source": [
    "df_1['순위']= df_1.rank(method='max', ascending=False)['공시가격']\n",
    "df_1 = df_1.sort_values('순위')\n",
    "df_1=df_1.reset_index(0) # 인덱스 재지정\n",
    "df_1"
   ]
  },
  {
   "cell_type": "markdown",
   "id": "dff0ab98",
   "metadata": {},
   "source": [
    "# 공시가격 데이터"
   ]
  },
  {
   "cell_type": "code",
   "execution_count": 10,
   "id": "48525be1",
   "metadata": {},
   "outputs": [
    {
     "name": "stderr",
     "output_type": "stream",
     "text": [
      "C:\\Users\\user\\AppData\\Local\\Temp\\ipykernel_24220\\992942956.py:2: FutureWarning: The default value of numeric_only in DataFrameGroupBy.mean is deprecated. In a future version, numeric_only will default to False. Either specify numeric_only or select only columns which should be valid for the function.\n",
      "  df1 = df.groupby('시도').mean()\n"
     ]
    }
   ],
   "source": [
    "# 주소지를 정리 새로운 컬럼 생성\n",
    "df1 = df.groupby('시도').mean()"
   ]
  },
  {
   "cell_type": "code",
   "execution_count": 11,
   "id": "b256e3b0",
   "metadata": {},
   "outputs": [],
   "source": [
    "# 정리된 데이터 중 공시가격만 가져옴\n",
    "df1 = pd.DataFrame(df1['공시가격'])"
   ]
  },
  {
   "cell_type": "code",
   "execution_count": 12,
   "id": "4ff3bbf7",
   "metadata": {},
   "outputs": [],
   "source": [
    "# 공시가격이 높은 순으로 순위를 매겨 새로운 열로 지정\n",
    "df1['순위']= df1.rank(method='max', ascending=False)['공시가격']\n",
    "df1 = df1.sort_values('순위')\n",
    "df1=df1.reset_index(0) # 인덱스 재지정"
   ]
  },
  {
   "cell_type": "code",
   "execution_count": 13,
   "id": "d0f9adb2",
   "metadata": {},
   "outputs": [
    {
     "data": {
      "text/html": [
       "<div>\n",
       "<style scoped>\n",
       "    .dataframe tbody tr th:only-of-type {\n",
       "        vertical-align: middle;\n",
       "    }\n",
       "\n",
       "    .dataframe tbody tr th {\n",
       "        vertical-align: top;\n",
       "    }\n",
       "\n",
       "    .dataframe thead th {\n",
       "        text-align: right;\n",
       "    }\n",
       "</style>\n",
       "<table border=\"1\" class=\"dataframe\">\n",
       "  <thead>\n",
       "    <tr style=\"text-align: right;\">\n",
       "      <th></th>\n",
       "      <th>시도</th>\n",
       "      <th>공시가격</th>\n",
       "      <th>순위</th>\n",
       "    </tr>\n",
       "  </thead>\n",
       "  <tbody>\n",
       "    <tr>\n",
       "      <th>0</th>\n",
       "      <td>서울특별시</td>\n",
       "      <td>6.055722e+08</td>\n",
       "      <td>1.0</td>\n",
       "    </tr>\n",
       "    <tr>\n",
       "      <th>1</th>\n",
       "      <td>세종특별자치시</td>\n",
       "      <td>4.029578e+08</td>\n",
       "      <td>2.0</td>\n",
       "    </tr>\n",
       "    <tr>\n",
       "      <th>2</th>\n",
       "      <td>경기도</td>\n",
       "      <td>3.318625e+08</td>\n",
       "      <td>3.0</td>\n",
       "    </tr>\n",
       "    <tr>\n",
       "      <th>3</th>\n",
       "      <td>부산광역시</td>\n",
       "      <td>2.419112e+08</td>\n",
       "      <td>4.0</td>\n",
       "    </tr>\n",
       "    <tr>\n",
       "      <th>4</th>\n",
       "      <td>대전광역시</td>\n",
       "      <td>2.395129e+08</td>\n",
       "      <td>5.0</td>\n",
       "    </tr>\n",
       "    <tr>\n",
       "      <th>5</th>\n",
       "      <td>대구광역시</td>\n",
       "      <td>2.388536e+08</td>\n",
       "      <td>6.0</td>\n",
       "    </tr>\n",
       "    <tr>\n",
       "      <th>6</th>\n",
       "      <td>인천광역시</td>\n",
       "      <td>2.320039e+08</td>\n",
       "      <td>7.0</td>\n",
       "    </tr>\n",
       "    <tr>\n",
       "      <th>7</th>\n",
       "      <td>울산광역시</td>\n",
       "      <td>1.897654e+08</td>\n",
       "      <td>8.0</td>\n",
       "    </tr>\n",
       "    <tr>\n",
       "      <th>8</th>\n",
       "      <td>광주광역시</td>\n",
       "      <td>1.801675e+08</td>\n",
       "      <td>9.0</td>\n",
       "    </tr>\n",
       "    <tr>\n",
       "      <th>9</th>\n",
       "      <td>제주특별자치도</td>\n",
       "      <td>1.763634e+08</td>\n",
       "      <td>10.0</td>\n",
       "    </tr>\n",
       "    <tr>\n",
       "      <th>10</th>\n",
       "      <td>경상남도</td>\n",
       "      <td>1.455650e+08</td>\n",
       "      <td>11.0</td>\n",
       "    </tr>\n",
       "    <tr>\n",
       "      <th>11</th>\n",
       "      <td>충청북도</td>\n",
       "      <td>1.315277e+08</td>\n",
       "      <td>12.0</td>\n",
       "    </tr>\n",
       "    <tr>\n",
       "      <th>12</th>\n",
       "      <td>충청남도</td>\n",
       "      <td>1.289338e+08</td>\n",
       "      <td>13.0</td>\n",
       "    </tr>\n",
       "    <tr>\n",
       "      <th>13</th>\n",
       "      <td>전라북도</td>\n",
       "      <td>1.184902e+08</td>\n",
       "      <td>14.0</td>\n",
       "    </tr>\n",
       "    <tr>\n",
       "      <th>14</th>\n",
       "      <td>강원도</td>\n",
       "      <td>1.179827e+08</td>\n",
       "      <td>15.0</td>\n",
       "    </tr>\n",
       "    <tr>\n",
       "      <th>15</th>\n",
       "      <td>전라남도</td>\n",
       "      <td>1.111346e+08</td>\n",
       "      <td>16.0</td>\n",
       "    </tr>\n",
       "    <tr>\n",
       "      <th>16</th>\n",
       "      <td>경상북도</td>\n",
       "      <td>1.085365e+08</td>\n",
       "      <td>17.0</td>\n",
       "    </tr>\n",
       "  </tbody>\n",
       "</table>\n",
       "</div>"
      ],
      "text/plain": [
       "         시도          공시가격    순위\n",
       "0     서울특별시  6.055722e+08   1.0\n",
       "1   세종특별자치시  4.029578e+08   2.0\n",
       "2       경기도  3.318625e+08   3.0\n",
       "3     부산광역시  2.419112e+08   4.0\n",
       "4     대전광역시  2.395129e+08   5.0\n",
       "5     대구광역시  2.388536e+08   6.0\n",
       "6     인천광역시  2.320039e+08   7.0\n",
       "7     울산광역시  1.897654e+08   8.0\n",
       "8     광주광역시  1.801675e+08   9.0\n",
       "9   제주특별자치도  1.763634e+08  10.0\n",
       "10     경상남도  1.455650e+08  11.0\n",
       "11     충청북도  1.315277e+08  12.0\n",
       "12     충청남도  1.289338e+08  13.0\n",
       "13     전라북도  1.184902e+08  14.0\n",
       "14      강원도  1.179827e+08  15.0\n",
       "15     전라남도  1.111346e+08  16.0\n",
       "16     경상북도  1.085365e+08  17.0"
      ]
     },
     "execution_count": 13,
     "metadata": {},
     "output_type": "execute_result"
    }
   ],
   "source": [
    "df1"
   ]
  },
  {
   "cell_type": "code",
   "execution_count": 14,
   "id": "228f3a32",
   "metadata": {},
   "outputs": [
    {
     "data": {
      "application/vnd.plotly.v1+json": {
       "config": {
        "plotlyServerURL": "https://plot.ly"
       },
       "data": [
        {
         "domain": {
          "x": [
           0,
           1
          ],
          "y": [
           0,
           1
          ]
         },
         "hovertemplate": "시도=%{label}<br>공시가격=%{value}<extra></extra>",
         "labels": [
          "서울특별시",
          "세종특별자치시",
          "경기도",
          "부산광역시",
          "대전광역시",
          "대구광역시",
          "인천광역시",
          "울산광역시",
          "광주광역시",
          "제주특별자치도",
          "경상남도",
          "충청북도",
          "충청남도",
          "전라북도",
          "강원도",
          "전라남도",
          "경상북도"
         ],
         "legendgroup": "",
         "name": "",
         "showlegend": true,
         "type": "pie",
         "values": [
          605572175.9217453,
          402957759.8115082,
          331862513.0732486,
          241911183.51949593,
          239512884.84938845,
          238853572.66751185,
          232003861.8936958,
          189765389.09804797,
          180167455.27281055,
          176363385.94819847,
          145564971.08174083,
          131527682.67840715,
          128933828.35348088,
          118490173.74104919,
          117982733.92960949,
          111134622.57602052,
          108536500.24453406
         ]
        }
       ],
       "layout": {
        "legend": {
         "tracegroupgap": 0
        },
        "margin": {
         "t": 60
        },
        "template": {
         "data": {
          "bar": [
           {
            "error_x": {
             "color": "#2a3f5f"
            },
            "error_y": {
             "color": "#2a3f5f"
            },
            "marker": {
             "line": {
              "color": "#E5ECF6",
              "width": 0.5
             },
             "pattern": {
              "fillmode": "overlay",
              "size": 10,
              "solidity": 0.2
             }
            },
            "type": "bar"
           }
          ],
          "barpolar": [
           {
            "marker": {
             "line": {
              "color": "#E5ECF6",
              "width": 0.5
             },
             "pattern": {
              "fillmode": "overlay",
              "size": 10,
              "solidity": 0.2
             }
            },
            "type": "barpolar"
           }
          ],
          "carpet": [
           {
            "aaxis": {
             "endlinecolor": "#2a3f5f",
             "gridcolor": "white",
             "linecolor": "white",
             "minorgridcolor": "white",
             "startlinecolor": "#2a3f5f"
            },
            "baxis": {
             "endlinecolor": "#2a3f5f",
             "gridcolor": "white",
             "linecolor": "white",
             "minorgridcolor": "white",
             "startlinecolor": "#2a3f5f"
            },
            "type": "carpet"
           }
          ],
          "choropleth": [
           {
            "colorbar": {
             "outlinewidth": 0,
             "ticks": ""
            },
            "type": "choropleth"
           }
          ],
          "contour": [
           {
            "colorbar": {
             "outlinewidth": 0,
             "ticks": ""
            },
            "colorscale": [
             [
              0,
              "#0d0887"
             ],
             [
              0.1111111111111111,
              "#46039f"
             ],
             [
              0.2222222222222222,
              "#7201a8"
             ],
             [
              0.3333333333333333,
              "#9c179e"
             ],
             [
              0.4444444444444444,
              "#bd3786"
             ],
             [
              0.5555555555555556,
              "#d8576b"
             ],
             [
              0.6666666666666666,
              "#ed7953"
             ],
             [
              0.7777777777777778,
              "#fb9f3a"
             ],
             [
              0.8888888888888888,
              "#fdca26"
             ],
             [
              1,
              "#f0f921"
             ]
            ],
            "type": "contour"
           }
          ],
          "contourcarpet": [
           {
            "colorbar": {
             "outlinewidth": 0,
             "ticks": ""
            },
            "type": "contourcarpet"
           }
          ],
          "heatmap": [
           {
            "colorbar": {
             "outlinewidth": 0,
             "ticks": ""
            },
            "colorscale": [
             [
              0,
              "#0d0887"
             ],
             [
              0.1111111111111111,
              "#46039f"
             ],
             [
              0.2222222222222222,
              "#7201a8"
             ],
             [
              0.3333333333333333,
              "#9c179e"
             ],
             [
              0.4444444444444444,
              "#bd3786"
             ],
             [
              0.5555555555555556,
              "#d8576b"
             ],
             [
              0.6666666666666666,
              "#ed7953"
             ],
             [
              0.7777777777777778,
              "#fb9f3a"
             ],
             [
              0.8888888888888888,
              "#fdca26"
             ],
             [
              1,
              "#f0f921"
             ]
            ],
            "type": "heatmap"
           }
          ],
          "heatmapgl": [
           {
            "colorbar": {
             "outlinewidth": 0,
             "ticks": ""
            },
            "colorscale": [
             [
              0,
              "#0d0887"
             ],
             [
              0.1111111111111111,
              "#46039f"
             ],
             [
              0.2222222222222222,
              "#7201a8"
             ],
             [
              0.3333333333333333,
              "#9c179e"
             ],
             [
              0.4444444444444444,
              "#bd3786"
             ],
             [
              0.5555555555555556,
              "#d8576b"
             ],
             [
              0.6666666666666666,
              "#ed7953"
             ],
             [
              0.7777777777777778,
              "#fb9f3a"
             ],
             [
              0.8888888888888888,
              "#fdca26"
             ],
             [
              1,
              "#f0f921"
             ]
            ],
            "type": "heatmapgl"
           }
          ],
          "histogram": [
           {
            "marker": {
             "pattern": {
              "fillmode": "overlay",
              "size": 10,
              "solidity": 0.2
             }
            },
            "type": "histogram"
           }
          ],
          "histogram2d": [
           {
            "colorbar": {
             "outlinewidth": 0,
             "ticks": ""
            },
            "colorscale": [
             [
              0,
              "#0d0887"
             ],
             [
              0.1111111111111111,
              "#46039f"
             ],
             [
              0.2222222222222222,
              "#7201a8"
             ],
             [
              0.3333333333333333,
              "#9c179e"
             ],
             [
              0.4444444444444444,
              "#bd3786"
             ],
             [
              0.5555555555555556,
              "#d8576b"
             ],
             [
              0.6666666666666666,
              "#ed7953"
             ],
             [
              0.7777777777777778,
              "#fb9f3a"
             ],
             [
              0.8888888888888888,
              "#fdca26"
             ],
             [
              1,
              "#f0f921"
             ]
            ],
            "type": "histogram2d"
           }
          ],
          "histogram2dcontour": [
           {
            "colorbar": {
             "outlinewidth": 0,
             "ticks": ""
            },
            "colorscale": [
             [
              0,
              "#0d0887"
             ],
             [
              0.1111111111111111,
              "#46039f"
             ],
             [
              0.2222222222222222,
              "#7201a8"
             ],
             [
              0.3333333333333333,
              "#9c179e"
             ],
             [
              0.4444444444444444,
              "#bd3786"
             ],
             [
              0.5555555555555556,
              "#d8576b"
             ],
             [
              0.6666666666666666,
              "#ed7953"
             ],
             [
              0.7777777777777778,
              "#fb9f3a"
             ],
             [
              0.8888888888888888,
              "#fdca26"
             ],
             [
              1,
              "#f0f921"
             ]
            ],
            "type": "histogram2dcontour"
           }
          ],
          "mesh3d": [
           {
            "colorbar": {
             "outlinewidth": 0,
             "ticks": ""
            },
            "type": "mesh3d"
           }
          ],
          "parcoords": [
           {
            "line": {
             "colorbar": {
              "outlinewidth": 0,
              "ticks": ""
             }
            },
            "type": "parcoords"
           }
          ],
          "pie": [
           {
            "automargin": true,
            "type": "pie"
           }
          ],
          "scatter": [
           {
            "fillpattern": {
             "fillmode": "overlay",
             "size": 10,
             "solidity": 0.2
            },
            "type": "scatter"
           }
          ],
          "scatter3d": [
           {
            "line": {
             "colorbar": {
              "outlinewidth": 0,
              "ticks": ""
             }
            },
            "marker": {
             "colorbar": {
              "outlinewidth": 0,
              "ticks": ""
             }
            },
            "type": "scatter3d"
           }
          ],
          "scattercarpet": [
           {
            "marker": {
             "colorbar": {
              "outlinewidth": 0,
              "ticks": ""
             }
            },
            "type": "scattercarpet"
           }
          ],
          "scattergeo": [
           {
            "marker": {
             "colorbar": {
              "outlinewidth": 0,
              "ticks": ""
             }
            },
            "type": "scattergeo"
           }
          ],
          "scattergl": [
           {
            "marker": {
             "colorbar": {
              "outlinewidth": 0,
              "ticks": ""
             }
            },
            "type": "scattergl"
           }
          ],
          "scattermapbox": [
           {
            "marker": {
             "colorbar": {
              "outlinewidth": 0,
              "ticks": ""
             }
            },
            "type": "scattermapbox"
           }
          ],
          "scatterpolar": [
           {
            "marker": {
             "colorbar": {
              "outlinewidth": 0,
              "ticks": ""
             }
            },
            "type": "scatterpolar"
           }
          ],
          "scatterpolargl": [
           {
            "marker": {
             "colorbar": {
              "outlinewidth": 0,
              "ticks": ""
             }
            },
            "type": "scatterpolargl"
           }
          ],
          "scatterternary": [
           {
            "marker": {
             "colorbar": {
              "outlinewidth": 0,
              "ticks": ""
             }
            },
            "type": "scatterternary"
           }
          ],
          "surface": [
           {
            "colorbar": {
             "outlinewidth": 0,
             "ticks": ""
            },
            "colorscale": [
             [
              0,
              "#0d0887"
             ],
             [
              0.1111111111111111,
              "#46039f"
             ],
             [
              0.2222222222222222,
              "#7201a8"
             ],
             [
              0.3333333333333333,
              "#9c179e"
             ],
             [
              0.4444444444444444,
              "#bd3786"
             ],
             [
              0.5555555555555556,
              "#d8576b"
             ],
             [
              0.6666666666666666,
              "#ed7953"
             ],
             [
              0.7777777777777778,
              "#fb9f3a"
             ],
             [
              0.8888888888888888,
              "#fdca26"
             ],
             [
              1,
              "#f0f921"
             ]
            ],
            "type": "surface"
           }
          ],
          "table": [
           {
            "cells": {
             "fill": {
              "color": "#EBF0F8"
             },
             "line": {
              "color": "white"
             }
            },
            "header": {
             "fill": {
              "color": "#C8D4E3"
             },
             "line": {
              "color": "white"
             }
            },
            "type": "table"
           }
          ]
         },
         "layout": {
          "annotationdefaults": {
           "arrowcolor": "#2a3f5f",
           "arrowhead": 0,
           "arrowwidth": 1
          },
          "autotypenumbers": "strict",
          "coloraxis": {
           "colorbar": {
            "outlinewidth": 0,
            "ticks": ""
           }
          },
          "colorscale": {
           "diverging": [
            [
             0,
             "#8e0152"
            ],
            [
             0.1,
             "#c51b7d"
            ],
            [
             0.2,
             "#de77ae"
            ],
            [
             0.3,
             "#f1b6da"
            ],
            [
             0.4,
             "#fde0ef"
            ],
            [
             0.5,
             "#f7f7f7"
            ],
            [
             0.6,
             "#e6f5d0"
            ],
            [
             0.7,
             "#b8e186"
            ],
            [
             0.8,
             "#7fbc41"
            ],
            [
             0.9,
             "#4d9221"
            ],
            [
             1,
             "#276419"
            ]
           ],
           "sequential": [
            [
             0,
             "#0d0887"
            ],
            [
             0.1111111111111111,
             "#46039f"
            ],
            [
             0.2222222222222222,
             "#7201a8"
            ],
            [
             0.3333333333333333,
             "#9c179e"
            ],
            [
             0.4444444444444444,
             "#bd3786"
            ],
            [
             0.5555555555555556,
             "#d8576b"
            ],
            [
             0.6666666666666666,
             "#ed7953"
            ],
            [
             0.7777777777777778,
             "#fb9f3a"
            ],
            [
             0.8888888888888888,
             "#fdca26"
            ],
            [
             1,
             "#f0f921"
            ]
           ],
           "sequentialminus": [
            [
             0,
             "#0d0887"
            ],
            [
             0.1111111111111111,
             "#46039f"
            ],
            [
             0.2222222222222222,
             "#7201a8"
            ],
            [
             0.3333333333333333,
             "#9c179e"
            ],
            [
             0.4444444444444444,
             "#bd3786"
            ],
            [
             0.5555555555555556,
             "#d8576b"
            ],
            [
             0.6666666666666666,
             "#ed7953"
            ],
            [
             0.7777777777777778,
             "#fb9f3a"
            ],
            [
             0.8888888888888888,
             "#fdca26"
            ],
            [
             1,
             "#f0f921"
            ]
           ]
          },
          "colorway": [
           "#636efa",
           "#EF553B",
           "#00cc96",
           "#ab63fa",
           "#FFA15A",
           "#19d3f3",
           "#FF6692",
           "#B6E880",
           "#FF97FF",
           "#FECB52"
          ],
          "font": {
           "color": "#2a3f5f"
          },
          "geo": {
           "bgcolor": "white",
           "lakecolor": "white",
           "landcolor": "#E5ECF6",
           "showlakes": true,
           "showland": true,
           "subunitcolor": "white"
          },
          "hoverlabel": {
           "align": "left"
          },
          "hovermode": "closest",
          "mapbox": {
           "style": "light"
          },
          "paper_bgcolor": "white",
          "plot_bgcolor": "#E5ECF6",
          "polar": {
           "angularaxis": {
            "gridcolor": "white",
            "linecolor": "white",
            "ticks": ""
           },
           "bgcolor": "#E5ECF6",
           "radialaxis": {
            "gridcolor": "white",
            "linecolor": "white",
            "ticks": ""
           }
          },
          "scene": {
           "xaxis": {
            "backgroundcolor": "#E5ECF6",
            "gridcolor": "white",
            "gridwidth": 2,
            "linecolor": "white",
            "showbackground": true,
            "ticks": "",
            "zerolinecolor": "white"
           },
           "yaxis": {
            "backgroundcolor": "#E5ECF6",
            "gridcolor": "white",
            "gridwidth": 2,
            "linecolor": "white",
            "showbackground": true,
            "ticks": "",
            "zerolinecolor": "white"
           },
           "zaxis": {
            "backgroundcolor": "#E5ECF6",
            "gridcolor": "white",
            "gridwidth": 2,
            "linecolor": "white",
            "showbackground": true,
            "ticks": "",
            "zerolinecolor": "white"
           }
          },
          "shapedefaults": {
           "line": {
            "color": "#2a3f5f"
           }
          },
          "ternary": {
           "aaxis": {
            "gridcolor": "white",
            "linecolor": "white",
            "ticks": ""
           },
           "baxis": {
            "gridcolor": "white",
            "linecolor": "white",
            "ticks": ""
           },
           "bgcolor": "#E5ECF6",
           "caxis": {
            "gridcolor": "white",
            "linecolor": "white",
            "ticks": ""
           }
          },
          "title": {
           "x": 0.05
          },
          "xaxis": {
           "automargin": true,
           "gridcolor": "white",
           "linecolor": "white",
           "ticks": "",
           "title": {
            "standoff": 15
           },
           "zerolinecolor": "white",
           "zerolinewidth": 2
          },
          "yaxis": {
           "automargin": true,
           "gridcolor": "white",
           "linecolor": "white",
           "ticks": "",
           "title": {
            "standoff": 15
           },
           "zerolinecolor": "white",
           "zerolinewidth": 2
          }
         }
        }
       }
      }
     },
     "metadata": {},
     "output_type": "display_data"
    }
   ],
   "source": [
    "import plotly.express as px\n",
    "fig = px.pie(df1, values='공시가격', names=\"시도\")\n",
    "\n",
    "fig.show()"
   ]
  },
  {
   "cell_type": "markdown",
   "id": "62ba7b79",
   "metadata": {},
   "source": [
    "# 학생체력 데이터"
   ]
  },
  {
   "cell_type": "code",
   "execution_count": 15,
   "id": "5498ba8c",
   "metadata": {},
   "outputs": [
    {
     "data": {
      "text/html": [
       "<div>\n",
       "<style scoped>\n",
       "    .dataframe tbody tr th:only-of-type {\n",
       "        vertical-align: middle;\n",
       "    }\n",
       "\n",
       "    .dataframe tbody tr th {\n",
       "        vertical-align: top;\n",
       "    }\n",
       "\n",
       "    .dataframe thead th {\n",
       "        text-align: right;\n",
       "    }\n",
       "</style>\n",
       "<table border=\"1\" class=\"dataframe\">\n",
       "  <thead>\n",
       "    <tr style=\"text-align: right;\">\n",
       "      <th></th>\n",
       "      <th>시도교육청</th>\n",
       "      <th>지역교육청</th>\n",
       "      <th>지역</th>\n",
       "      <th>정보공시 학교코드</th>\n",
       "      <th>학교명</th>\n",
       "      <th>학교급코드</th>\n",
       "      <th>설립구분</th>\n",
       "      <th>제외여부</th>\n",
       "      <th>제외사유</th>\n",
       "      <th>학년</th>\n",
       "      <th>...</th>\n",
       "      <th>%</th>\n",
       "      <th>인원.1</th>\n",
       "      <th>%.1</th>\n",
       "      <th>인원.2</th>\n",
       "      <th>%.2</th>\n",
       "      <th>인원.3</th>\n",
       "      <th>%.3</th>\n",
       "      <th>인원.4</th>\n",
       "      <th>%.4</th>\n",
       "      <th>검사인원수</th>\n",
       "    </tr>\n",
       "  </thead>\n",
       "  <tbody>\n",
       "    <tr>\n",
       "      <th>0</th>\n",
       "      <td>서울특별시교육청</td>\n",
       "      <td>교육부</td>\n",
       "      <td>서울특별시 강남구</td>\n",
       "      <td>S000003540</td>\n",
       "      <td>국립국악고등학교</td>\n",
       "      <td>4</td>\n",
       "      <td>국립</td>\n",
       "      <td>N</td>\n",
       "      <td>NaN</td>\n",
       "      <td>1학년</td>\n",
       "      <td>...</td>\n",
       "      <td>6.3</td>\n",
       "      <td>13.0</td>\n",
       "      <td>40.6</td>\n",
       "      <td>14.0</td>\n",
       "      <td>43.8</td>\n",
       "      <td>3.0</td>\n",
       "      <td>9.4</td>\n",
       "      <td>0.0</td>\n",
       "      <td>0.0</td>\n",
       "      <td>32.0</td>\n",
       "    </tr>\n",
       "    <tr>\n",
       "      <th>1</th>\n",
       "      <td>서울특별시교육청</td>\n",
       "      <td>교육부</td>\n",
       "      <td>서울특별시 강남구</td>\n",
       "      <td>S000003540</td>\n",
       "      <td>국립국악고등학교</td>\n",
       "      <td>4</td>\n",
       "      <td>국립</td>\n",
       "      <td>N</td>\n",
       "      <td>NaN</td>\n",
       "      <td>1학년</td>\n",
       "      <td>...</td>\n",
       "      <td>2.6</td>\n",
       "      <td>67.0</td>\n",
       "      <td>57.8</td>\n",
       "      <td>44.0</td>\n",
       "      <td>37.9</td>\n",
       "      <td>2.0</td>\n",
       "      <td>1.7</td>\n",
       "      <td>0.0</td>\n",
       "      <td>0.0</td>\n",
       "      <td>116.0</td>\n",
       "    </tr>\n",
       "    <tr>\n",
       "      <th>2</th>\n",
       "      <td>서울특별시교육청</td>\n",
       "      <td>교육부</td>\n",
       "      <td>서울특별시 강남구</td>\n",
       "      <td>S000003540</td>\n",
       "      <td>국립국악고등학교</td>\n",
       "      <td>4</td>\n",
       "      <td>국립</td>\n",
       "      <td>N</td>\n",
       "      <td>NaN</td>\n",
       "      <td>2학년</td>\n",
       "      <td>...</td>\n",
       "      <td>0.0</td>\n",
       "      <td>8.0</td>\n",
       "      <td>44.4</td>\n",
       "      <td>9.0</td>\n",
       "      <td>50.0</td>\n",
       "      <td>0.0</td>\n",
       "      <td>0.0</td>\n",
       "      <td>1.0</td>\n",
       "      <td>5.6</td>\n",
       "      <td>18.0</td>\n",
       "    </tr>\n",
       "    <tr>\n",
       "      <th>3</th>\n",
       "      <td>서울특별시교육청</td>\n",
       "      <td>교육부</td>\n",
       "      <td>서울특별시 강남구</td>\n",
       "      <td>S000003540</td>\n",
       "      <td>국립국악고등학교</td>\n",
       "      <td>4</td>\n",
       "      <td>국립</td>\n",
       "      <td>N</td>\n",
       "      <td>NaN</td>\n",
       "      <td>2학년</td>\n",
       "      <td>...</td>\n",
       "      <td>2.4</td>\n",
       "      <td>56.0</td>\n",
       "      <td>44.8</td>\n",
       "      <td>61.0</td>\n",
       "      <td>48.8</td>\n",
       "      <td>5.0</td>\n",
       "      <td>4.0</td>\n",
       "      <td>0.0</td>\n",
       "      <td>0.0</td>\n",
       "      <td>125.0</td>\n",
       "    </tr>\n",
       "    <tr>\n",
       "      <th>4</th>\n",
       "      <td>서울특별시교육청</td>\n",
       "      <td>교육부</td>\n",
       "      <td>서울특별시 강남구</td>\n",
       "      <td>S000003540</td>\n",
       "      <td>국립국악고등학교</td>\n",
       "      <td>4</td>\n",
       "      <td>국립</td>\n",
       "      <td>N</td>\n",
       "      <td>NaN</td>\n",
       "      <td>3학년</td>\n",
       "      <td>...</td>\n",
       "      <td>0.0</td>\n",
       "      <td>6.0</td>\n",
       "      <td>27.3</td>\n",
       "      <td>9.0</td>\n",
       "      <td>40.9</td>\n",
       "      <td>7.0</td>\n",
       "      <td>31.8</td>\n",
       "      <td>0.0</td>\n",
       "      <td>0.0</td>\n",
       "      <td>22.0</td>\n",
       "    </tr>\n",
       "    <tr>\n",
       "      <th>...</th>\n",
       "      <td>...</td>\n",
       "      <td>...</td>\n",
       "      <td>...</td>\n",
       "      <td>...</td>\n",
       "      <td>...</td>\n",
       "      <td>...</td>\n",
       "      <td>...</td>\n",
       "      <td>...</td>\n",
       "      <td>...</td>\n",
       "      <td>...</td>\n",
       "      <td>...</td>\n",
       "      <td>...</td>\n",
       "      <td>...</td>\n",
       "      <td>...</td>\n",
       "      <td>...</td>\n",
       "      <td>...</td>\n",
       "      <td>...</td>\n",
       "      <td>...</td>\n",
       "      <td>...</td>\n",
       "      <td>...</td>\n",
       "      <td>...</td>\n",
       "    </tr>\n",
       "    <tr>\n",
       "      <th>11543</th>\n",
       "      <td>제주특별자치도교육청</td>\n",
       "      <td>제주특별자치도교육청</td>\n",
       "      <td>제주특별자치도 제주시</td>\n",
       "      <td>S170000773</td>\n",
       "      <td>제주외국어고등학교</td>\n",
       "      <td>4</td>\n",
       "      <td>공립</td>\n",
       "      <td>N</td>\n",
       "      <td>NaN</td>\n",
       "      <td>1학년</td>\n",
       "      <td>...</td>\n",
       "      <td>2.9</td>\n",
       "      <td>29.0</td>\n",
       "      <td>42.6</td>\n",
       "      <td>30.0</td>\n",
       "      <td>44.1</td>\n",
       "      <td>7.0</td>\n",
       "      <td>10.3</td>\n",
       "      <td>0.0</td>\n",
       "      <td>0.0</td>\n",
       "      <td>68.0</td>\n",
       "    </tr>\n",
       "    <tr>\n",
       "      <th>11544</th>\n",
       "      <td>제주특별자치도교육청</td>\n",
       "      <td>제주특별자치도교육청</td>\n",
       "      <td>제주특별자치도 제주시</td>\n",
       "      <td>S170000773</td>\n",
       "      <td>제주외국어고등학교</td>\n",
       "      <td>4</td>\n",
       "      <td>공립</td>\n",
       "      <td>N</td>\n",
       "      <td>NaN</td>\n",
       "      <td>2학년</td>\n",
       "      <td>...</td>\n",
       "      <td>0.0</td>\n",
       "      <td>12.0</td>\n",
       "      <td>42.9</td>\n",
       "      <td>9.0</td>\n",
       "      <td>32.1</td>\n",
       "      <td>6.0</td>\n",
       "      <td>21.4</td>\n",
       "      <td>1.0</td>\n",
       "      <td>3.6</td>\n",
       "      <td>28.0</td>\n",
       "    </tr>\n",
       "    <tr>\n",
       "      <th>11545</th>\n",
       "      <td>제주특별자치도교육청</td>\n",
       "      <td>제주특별자치도교육청</td>\n",
       "      <td>제주특별자치도 제주시</td>\n",
       "      <td>S170000773</td>\n",
       "      <td>제주외국어고등학교</td>\n",
       "      <td>4</td>\n",
       "      <td>공립</td>\n",
       "      <td>N</td>\n",
       "      <td>NaN</td>\n",
       "      <td>2학년</td>\n",
       "      <td>...</td>\n",
       "      <td>3.3</td>\n",
       "      <td>16.0</td>\n",
       "      <td>26.7</td>\n",
       "      <td>29.0</td>\n",
       "      <td>48.3</td>\n",
       "      <td>13.0</td>\n",
       "      <td>21.7</td>\n",
       "      <td>0.0</td>\n",
       "      <td>0.0</td>\n",
       "      <td>60.0</td>\n",
       "    </tr>\n",
       "    <tr>\n",
       "      <th>11546</th>\n",
       "      <td>제주특별자치도교육청</td>\n",
       "      <td>제주특별자치도교육청</td>\n",
       "      <td>제주특별자치도 제주시</td>\n",
       "      <td>S170000773</td>\n",
       "      <td>제주외국어고등학교</td>\n",
       "      <td>4</td>\n",
       "      <td>공립</td>\n",
       "      <td>N</td>\n",
       "      <td>NaN</td>\n",
       "      <td>3학년</td>\n",
       "      <td>...</td>\n",
       "      <td>0.0</td>\n",
       "      <td>6.0</td>\n",
       "      <td>19.4</td>\n",
       "      <td>18.0</td>\n",
       "      <td>58.1</td>\n",
       "      <td>7.0</td>\n",
       "      <td>22.6</td>\n",
       "      <td>0.0</td>\n",
       "      <td>0.0</td>\n",
       "      <td>31.0</td>\n",
       "    </tr>\n",
       "    <tr>\n",
       "      <th>11547</th>\n",
       "      <td>제주특별자치도교육청</td>\n",
       "      <td>제주특별자치도교육청</td>\n",
       "      <td>제주특별자치도 제주시</td>\n",
       "      <td>S170000773</td>\n",
       "      <td>제주외국어고등학교</td>\n",
       "      <td>4</td>\n",
       "      <td>공립</td>\n",
       "      <td>N</td>\n",
       "      <td>NaN</td>\n",
       "      <td>3학년</td>\n",
       "      <td>...</td>\n",
       "      <td>0.0</td>\n",
       "      <td>22.0</td>\n",
       "      <td>38.6</td>\n",
       "      <td>30.0</td>\n",
       "      <td>52.6</td>\n",
       "      <td>5.0</td>\n",
       "      <td>8.8</td>\n",
       "      <td>0.0</td>\n",
       "      <td>0.0</td>\n",
       "      <td>57.0</td>\n",
       "    </tr>\n",
       "  </tbody>\n",
       "</table>\n",
       "<p>11548 rows × 34 columns</p>\n",
       "</div>"
      ],
      "text/plain": [
       "            시도교육청       지역교육청           지역   정보공시 학교코드        학교명  학교급코드 설립구분  \\\n",
       "0        서울특별시교육청         교육부    서울특별시 강남구  S000003540   국립국악고등학교      4   국립   \n",
       "1        서울특별시교육청         교육부    서울특별시 강남구  S000003540   국립국악고등학교      4   국립   \n",
       "2        서울특별시교육청         교육부    서울특별시 강남구  S000003540   국립국악고등학교      4   국립   \n",
       "3        서울특별시교육청         교육부    서울특별시 강남구  S000003540   국립국악고등학교      4   국립   \n",
       "4        서울특별시교육청         교육부    서울특별시 강남구  S000003540   국립국악고등학교      4   국립   \n",
       "...           ...         ...          ...         ...        ...    ...  ...   \n",
       "11543  제주특별자치도교육청  제주특별자치도교육청  제주특별자치도 제주시  S170000773  제주외국어고등학교      4   공립   \n",
       "11544  제주특별자치도교육청  제주특별자치도교육청  제주특별자치도 제주시  S170000773  제주외국어고등학교      4   공립   \n",
       "11545  제주특별자치도교육청  제주특별자치도교육청  제주특별자치도 제주시  S170000773  제주외국어고등학교      4   공립   \n",
       "11546  제주특별자치도교육청  제주특별자치도교육청  제주특별자치도 제주시  S170000773  제주외국어고등학교      4   공립   \n",
       "11547  제주특별자치도교육청  제주특별자치도교육청  제주특별자치도 제주시  S170000773  제주외국어고등학교      4   공립   \n",
       "\n",
       "      제외여부 제외사유   학년  ...    %  인원.1   %.1  인원.2   %.2  인원.3   %.3  인원.4  %.4  \\\n",
       "0        N  NaN  1학년  ...  6.3  13.0  40.6  14.0  43.8   3.0   9.4   0.0  0.0   \n",
       "1        N  NaN  1학년  ...  2.6  67.0  57.8  44.0  37.9   2.0   1.7   0.0  0.0   \n",
       "2        N  NaN  2학년  ...  0.0   8.0  44.4   9.0  50.0   0.0   0.0   1.0  5.6   \n",
       "3        N  NaN  2학년  ...  2.4  56.0  44.8  61.0  48.8   5.0   4.0   0.0  0.0   \n",
       "4        N  NaN  3학년  ...  0.0   6.0  27.3   9.0  40.9   7.0  31.8   0.0  0.0   \n",
       "...    ...  ...  ...  ...  ...   ...   ...   ...   ...   ...   ...   ...  ...   \n",
       "11543    N  NaN  1학년  ...  2.9  29.0  42.6  30.0  44.1   7.0  10.3   0.0  0.0   \n",
       "11544    N  NaN  2학년  ...  0.0  12.0  42.9   9.0  32.1   6.0  21.4   1.0  3.6   \n",
       "11545    N  NaN  2학년  ...  3.3  16.0  26.7  29.0  48.3  13.0  21.7   0.0  0.0   \n",
       "11546    N  NaN  3학년  ...  0.0   6.0  19.4  18.0  58.1   7.0  22.6   0.0  0.0   \n",
       "11547    N  NaN  3학년  ...  0.0  22.0  38.6  30.0  52.6   5.0   8.8   0.0  0.0   \n",
       "\n",
       "       검사인원수  \n",
       "0       32.0  \n",
       "1      116.0  \n",
       "2       18.0  \n",
       "3      125.0  \n",
       "4       22.0  \n",
       "...      ...  \n",
       "11543   68.0  \n",
       "11544   28.0  \n",
       "11545   60.0  \n",
       "11546   31.0  \n",
       "11547   57.0  \n",
       "\n",
       "[11548 rows x 34 columns]"
      ]
     },
     "execution_count": 15,
     "metadata": {},
     "output_type": "execute_result"
    }
   ],
   "source": [
    "df_2"
   ]
  },
  {
   "cell_type": "code",
   "execution_count": 16,
   "id": "685ed512",
   "metadata": {},
   "outputs": [],
   "source": [
    "# 제외여부가 Y인 데이터 삭제\n",
    "df_2.drop(df_2[df_2['제외여부']=='Y'].index, inplace = True)\n",
    "df_3.drop(df_2[df_2['제외여부']=='Y'].index, inplace = True)"
   ]
  },
  {
   "cell_type": "code",
   "execution_count": 17,
   "id": "c50b4cfb",
   "metadata": {},
   "outputs": [],
   "source": [
    "# 원하는 열만 추출\n",
    "df_2_A=df_2[['시도교육청','지역','학교명','학년','성별',\n",
    "           '인원','%','인원.1','%.1','인원.2','%.2','인원.3','%.3','인원.4','%.4','검사인원수']]\n",
    "\n",
    "\n",
    "df_3_A=df_3[['시도교육청','지역','학교명','학년','성별',\n",
    "           '인원','%','인원.1','%.1','인원.2','%.2','인원.3','%.3','인원.4','%.4','검사인원수']]"
   ]
  },
  {
   "cell_type": "code",
   "execution_count": 18,
   "id": "b3e261f6",
   "metadata": {},
   "outputs": [
    {
     "name": "stderr",
     "output_type": "stream",
     "text": [
      "C:\\Users\\user\\AppData\\Local\\Temp\\ipykernel_24220\\4161807895.py:2: SettingWithCopyWarning:\n",
      "\n",
      "\n",
      "A value is trying to be set on a copy of a slice from a DataFrame\n",
      "\n",
      "See the caveats in the documentation: https://pandas.pydata.org/pandas-docs/stable/user_guide/indexing.html#returning-a-view-versus-a-copy\n",
      "\n",
      "C:\\Users\\user\\AppData\\Local\\Temp\\ipykernel_24220\\4161807895.py:3: SettingWithCopyWarning:\n",
      "\n",
      "\n",
      "A value is trying to be set on a copy of a slice from a DataFrame\n",
      "\n",
      "See the caveats in the documentation: https://pandas.pydata.org/pandas-docs/stable/user_guide/indexing.html#returning-a-view-versus-a-copy\n",
      "\n",
      "C:\\Users\\user\\AppData\\Local\\Temp\\ipykernel_24220\\4161807895.py:6: SettingWithCopyWarning:\n",
      "\n",
      "\n",
      "A value is trying to be set on a copy of a slice from a DataFrame\n",
      "\n",
      "See the caveats in the documentation: https://pandas.pydata.org/pandas-docs/stable/user_guide/indexing.html#returning-a-view-versus-a-copy\n",
      "\n",
      "C:\\Users\\user\\AppData\\Local\\Temp\\ipykernel_24220\\4161807895.py:7: SettingWithCopyWarning:\n",
      "\n",
      "\n",
      "A value is trying to be set on a copy of a slice from a DataFrame\n",
      "\n",
      "See the caveats in the documentation: https://pandas.pydata.org/pandas-docs/stable/user_guide/indexing.html#returning-a-view-versus-a-copy\n",
      "\n",
      "C:\\Users\\user\\AppData\\Local\\Temp\\ipykernel_24220\\4161807895.py:6: SettingWithCopyWarning:\n",
      "\n",
      "\n",
      "A value is trying to be set on a copy of a slice from a DataFrame\n",
      "\n",
      "See the caveats in the documentation: https://pandas.pydata.org/pandas-docs/stable/user_guide/indexing.html#returning-a-view-versus-a-copy\n",
      "\n",
      "C:\\Users\\user\\AppData\\Local\\Temp\\ipykernel_24220\\4161807895.py:7: SettingWithCopyWarning:\n",
      "\n",
      "\n",
      "A value is trying to be set on a copy of a slice from a DataFrame\n",
      "\n",
      "See the caveats in the documentation: https://pandas.pydata.org/pandas-docs/stable/user_guide/indexing.html#returning-a-view-versus-a-copy\n",
      "\n",
      "C:\\Users\\user\\AppData\\Local\\Temp\\ipykernel_24220\\4161807895.py:6: SettingWithCopyWarning:\n",
      "\n",
      "\n",
      "A value is trying to be set on a copy of a slice from a DataFrame\n",
      "\n",
      "See the caveats in the documentation: https://pandas.pydata.org/pandas-docs/stable/user_guide/indexing.html#returning-a-view-versus-a-copy\n",
      "\n",
      "C:\\Users\\user\\AppData\\Local\\Temp\\ipykernel_24220\\4161807895.py:7: SettingWithCopyWarning:\n",
      "\n",
      "\n",
      "A value is trying to be set on a copy of a slice from a DataFrame\n",
      "\n",
      "See the caveats in the documentation: https://pandas.pydata.org/pandas-docs/stable/user_guide/indexing.html#returning-a-view-versus-a-copy\n",
      "\n",
      "C:\\Users\\user\\AppData\\Local\\Temp\\ipykernel_24220\\4161807895.py:6: SettingWithCopyWarning:\n",
      "\n",
      "\n",
      "A value is trying to be set on a copy of a slice from a DataFrame\n",
      "\n",
      "See the caveats in the documentation: https://pandas.pydata.org/pandas-docs/stable/user_guide/indexing.html#returning-a-view-versus-a-copy\n",
      "\n",
      "C:\\Users\\user\\AppData\\Local\\Temp\\ipykernel_24220\\4161807895.py:7: SettingWithCopyWarning:\n",
      "\n",
      "\n",
      "A value is trying to be set on a copy of a slice from a DataFrame\n",
      "\n",
      "See the caveats in the documentation: https://pandas.pydata.org/pandas-docs/stable/user_guide/indexing.html#returning-a-view-versus-a-copy\n",
      "\n",
      "C:\\Users\\user\\AppData\\Local\\Temp\\ipykernel_24220\\4161807895.py:12: SettingWithCopyWarning:\n",
      "\n",
      "\n",
      "A value is trying to be set on a copy of a slice from a DataFrame\n",
      "\n",
      "See the caveats in the documentation: https://pandas.pydata.org/pandas-docs/stable/user_guide/indexing.html#returning-a-view-versus-a-copy\n",
      "\n",
      "C:\\Users\\user\\AppData\\Local\\Temp\\ipykernel_24220\\4161807895.py:13: SettingWithCopyWarning:\n",
      "\n",
      "\n",
      "A value is trying to be set on a copy of a slice from a DataFrame\n",
      "\n",
      "See the caveats in the documentation: https://pandas.pydata.org/pandas-docs/stable/user_guide/indexing.html#returning-a-view-versus-a-copy\n",
      "\n",
      "C:\\Users\\user\\AppData\\Local\\Temp\\ipykernel_24220\\4161807895.py:16: SettingWithCopyWarning:\n",
      "\n",
      "\n",
      "A value is trying to be set on a copy of a slice from a DataFrame\n",
      "\n",
      "See the caveats in the documentation: https://pandas.pydata.org/pandas-docs/stable/user_guide/indexing.html#returning-a-view-versus-a-copy\n",
      "\n",
      "C:\\Users\\user\\AppData\\Local\\Temp\\ipykernel_24220\\4161807895.py:17: SettingWithCopyWarning:\n",
      "\n",
      "\n",
      "A value is trying to be set on a copy of a slice from a DataFrame\n",
      "\n",
      "See the caveats in the documentation: https://pandas.pydata.org/pandas-docs/stable/user_guide/indexing.html#returning-a-view-versus-a-copy\n",
      "\n",
      "C:\\Users\\user\\AppData\\Local\\Temp\\ipykernel_24220\\4161807895.py:16: SettingWithCopyWarning:\n",
      "\n",
      "\n",
      "A value is trying to be set on a copy of a slice from a DataFrame\n",
      "\n",
      "See the caveats in the documentation: https://pandas.pydata.org/pandas-docs/stable/user_guide/indexing.html#returning-a-view-versus-a-copy\n",
      "\n",
      "C:\\Users\\user\\AppData\\Local\\Temp\\ipykernel_24220\\4161807895.py:17: SettingWithCopyWarning:\n",
      "\n",
      "\n",
      "A value is trying to be set on a copy of a slice from a DataFrame\n",
      "\n",
      "See the caveats in the documentation: https://pandas.pydata.org/pandas-docs/stable/user_guide/indexing.html#returning-a-view-versus-a-copy\n",
      "\n",
      "C:\\Users\\user\\AppData\\Local\\Temp\\ipykernel_24220\\4161807895.py:16: SettingWithCopyWarning:\n",
      "\n",
      "\n",
      "A value is trying to be set on a copy of a slice from a DataFrame\n",
      "\n",
      "See the caveats in the documentation: https://pandas.pydata.org/pandas-docs/stable/user_guide/indexing.html#returning-a-view-versus-a-copy\n",
      "\n",
      "C:\\Users\\user\\AppData\\Local\\Temp\\ipykernel_24220\\4161807895.py:17: SettingWithCopyWarning:\n",
      "\n",
      "\n",
      "A value is trying to be set on a copy of a slice from a DataFrame\n",
      "\n",
      "See the caveats in the documentation: https://pandas.pydata.org/pandas-docs/stable/user_guide/indexing.html#returning-a-view-versus-a-copy\n",
      "\n",
      "C:\\Users\\user\\AppData\\Local\\Temp\\ipykernel_24220\\4161807895.py:16: SettingWithCopyWarning:\n",
      "\n",
      "\n",
      "A value is trying to be set on a copy of a slice from a DataFrame\n",
      "\n",
      "See the caveats in the documentation: https://pandas.pydata.org/pandas-docs/stable/user_guide/indexing.html#returning-a-view-versus-a-copy\n",
      "\n",
      "C:\\Users\\user\\AppData\\Local\\Temp\\ipykernel_24220\\4161807895.py:17: SettingWithCopyWarning:\n",
      "\n",
      "\n",
      "A value is trying to be set on a copy of a slice from a DataFrame\n",
      "\n",
      "See the caveats in the documentation: https://pandas.pydata.org/pandas-docs/stable/user_guide/indexing.html#returning-a-view-versus-a-copy\n",
      "\n"
     ]
    }
   ],
   "source": [
    "# 열이름 변경\n",
    "df_2_A.rename(columns = {'%':'1등급 %'}, inplace = True)\n",
    "df_2_A.rename(columns = {'인원':'1등급 인원'}, inplace = True)\n",
    "\n",
    "for i in range(4):\n",
    "    df_2_A.rename(columns = {f'%.{i+1}':f'{i+2}등급 %'}, inplace = True)\n",
    "    df_2_A.rename(columns = {f'인원.{i+1}':f'{i+2}등급 인원'}, inplace = True)\n",
    "    \n",
    "    \n",
    "    \n",
    "# 열이름 변경\n",
    "df_3_A.rename(columns = {'%':'1등급 %'}, inplace = True)\n",
    "df_3_A.rename(columns = {'인원':'1등급 인원'}, inplace = True)\n",
    "\n",
    "for i in range(4):\n",
    "    df_3_A.rename(columns = {f'%.{i+1}':f'{i+2}등급 %'}, inplace = True)\n",
    "    df_3_A.rename(columns = {f'인원.{i+1}':f'{i+2}등급 인원'}, inplace = True)"
   ]
  },
  {
   "cell_type": "code",
   "execution_count": 19,
   "id": "82cfe78f",
   "metadata": {},
   "outputs": [],
   "source": [
    "df_2_AA = df_2_A.copy()\n",
    "df_3_AA = df_3_A.copy()"
   ]
  },
  {
   "cell_type": "code",
   "execution_count": 20,
   "id": "924d32ef",
   "metadata": {},
   "outputs": [
    {
     "data": {
      "text/html": [
       "<div>\n",
       "<style scoped>\n",
       "    .dataframe tbody tr th:only-of-type {\n",
       "        vertical-align: middle;\n",
       "    }\n",
       "\n",
       "    .dataframe tbody tr th {\n",
       "        vertical-align: top;\n",
       "    }\n",
       "\n",
       "    .dataframe thead th {\n",
       "        text-align: right;\n",
       "    }\n",
       "</style>\n",
       "<table border=\"1\" class=\"dataframe\">\n",
       "  <thead>\n",
       "    <tr style=\"text-align: right;\">\n",
       "      <th></th>\n",
       "      <th>시도교육청</th>\n",
       "      <th>지역</th>\n",
       "      <th>학교명</th>\n",
       "      <th>학년</th>\n",
       "      <th>성별</th>\n",
       "      <th>1등급 인원</th>\n",
       "      <th>1등급 %</th>\n",
       "      <th>2등급 인원</th>\n",
       "      <th>2등급 %</th>\n",
       "      <th>3등급 인원</th>\n",
       "      <th>3등급 %</th>\n",
       "      <th>4등급 인원</th>\n",
       "      <th>4등급 %</th>\n",
       "      <th>5등급 인원</th>\n",
       "      <th>5등급 %</th>\n",
       "      <th>검사인원수</th>\n",
       "    </tr>\n",
       "  </thead>\n",
       "  <tbody>\n",
       "    <tr>\n",
       "      <th>0</th>\n",
       "      <td>서울특별시교육청</td>\n",
       "      <td>서울특별시 강남구</td>\n",
       "      <td>국립국악고등학교</td>\n",
       "      <td>1학년</td>\n",
       "      <td>남자</td>\n",
       "      <td>2.0</td>\n",
       "      <td>6.3</td>\n",
       "      <td>13.0</td>\n",
       "      <td>40.6</td>\n",
       "      <td>14.0</td>\n",
       "      <td>43.8</td>\n",
       "      <td>3.0</td>\n",
       "      <td>9.4</td>\n",
       "      <td>0.0</td>\n",
       "      <td>0.0</td>\n",
       "      <td>32.0</td>\n",
       "    </tr>\n",
       "    <tr>\n",
       "      <th>1</th>\n",
       "      <td>서울특별시교육청</td>\n",
       "      <td>서울특별시 강남구</td>\n",
       "      <td>국립국악고등학교</td>\n",
       "      <td>1학년</td>\n",
       "      <td>여자</td>\n",
       "      <td>3.0</td>\n",
       "      <td>2.6</td>\n",
       "      <td>67.0</td>\n",
       "      <td>57.8</td>\n",
       "      <td>44.0</td>\n",
       "      <td>37.9</td>\n",
       "      <td>2.0</td>\n",
       "      <td>1.7</td>\n",
       "      <td>0.0</td>\n",
       "      <td>0.0</td>\n",
       "      <td>116.0</td>\n",
       "    </tr>\n",
       "    <tr>\n",
       "      <th>2</th>\n",
       "      <td>서울특별시교육청</td>\n",
       "      <td>서울특별시 강남구</td>\n",
       "      <td>국립국악고등학교</td>\n",
       "      <td>2학년</td>\n",
       "      <td>남자</td>\n",
       "      <td>0.0</td>\n",
       "      <td>0.0</td>\n",
       "      <td>8.0</td>\n",
       "      <td>44.4</td>\n",
       "      <td>9.0</td>\n",
       "      <td>50.0</td>\n",
       "      <td>0.0</td>\n",
       "      <td>0.0</td>\n",
       "      <td>1.0</td>\n",
       "      <td>5.6</td>\n",
       "      <td>18.0</td>\n",
       "    </tr>\n",
       "    <tr>\n",
       "      <th>3</th>\n",
       "      <td>서울특별시교육청</td>\n",
       "      <td>서울특별시 강남구</td>\n",
       "      <td>국립국악고등학교</td>\n",
       "      <td>2학년</td>\n",
       "      <td>여자</td>\n",
       "      <td>3.0</td>\n",
       "      <td>2.4</td>\n",
       "      <td>56.0</td>\n",
       "      <td>44.8</td>\n",
       "      <td>61.0</td>\n",
       "      <td>48.8</td>\n",
       "      <td>5.0</td>\n",
       "      <td>4.0</td>\n",
       "      <td>0.0</td>\n",
       "      <td>0.0</td>\n",
       "      <td>125.0</td>\n",
       "    </tr>\n",
       "    <tr>\n",
       "      <th>4</th>\n",
       "      <td>서울특별시교육청</td>\n",
       "      <td>서울특별시 강남구</td>\n",
       "      <td>국립국악고등학교</td>\n",
       "      <td>3학년</td>\n",
       "      <td>남자</td>\n",
       "      <td>0.0</td>\n",
       "      <td>0.0</td>\n",
       "      <td>6.0</td>\n",
       "      <td>27.3</td>\n",
       "      <td>9.0</td>\n",
       "      <td>40.9</td>\n",
       "      <td>7.0</td>\n",
       "      <td>31.8</td>\n",
       "      <td>0.0</td>\n",
       "      <td>0.0</td>\n",
       "      <td>22.0</td>\n",
       "    </tr>\n",
       "    <tr>\n",
       "      <th>...</th>\n",
       "      <td>...</td>\n",
       "      <td>...</td>\n",
       "      <td>...</td>\n",
       "      <td>...</td>\n",
       "      <td>...</td>\n",
       "      <td>...</td>\n",
       "      <td>...</td>\n",
       "      <td>...</td>\n",
       "      <td>...</td>\n",
       "      <td>...</td>\n",
       "      <td>...</td>\n",
       "      <td>...</td>\n",
       "      <td>...</td>\n",
       "      <td>...</td>\n",
       "      <td>...</td>\n",
       "      <td>...</td>\n",
       "    </tr>\n",
       "    <tr>\n",
       "      <th>11543</th>\n",
       "      <td>제주특별자치도교육청</td>\n",
       "      <td>제주특별자치도 제주시</td>\n",
       "      <td>제주외국어고등학교</td>\n",
       "      <td>1학년</td>\n",
       "      <td>여자</td>\n",
       "      <td>2.0</td>\n",
       "      <td>2.9</td>\n",
       "      <td>29.0</td>\n",
       "      <td>42.6</td>\n",
       "      <td>30.0</td>\n",
       "      <td>44.1</td>\n",
       "      <td>7.0</td>\n",
       "      <td>10.3</td>\n",
       "      <td>0.0</td>\n",
       "      <td>0.0</td>\n",
       "      <td>68.0</td>\n",
       "    </tr>\n",
       "    <tr>\n",
       "      <th>11544</th>\n",
       "      <td>제주특별자치도교육청</td>\n",
       "      <td>제주특별자치도 제주시</td>\n",
       "      <td>제주외국어고등학교</td>\n",
       "      <td>2학년</td>\n",
       "      <td>남자</td>\n",
       "      <td>0.0</td>\n",
       "      <td>0.0</td>\n",
       "      <td>12.0</td>\n",
       "      <td>42.9</td>\n",
       "      <td>9.0</td>\n",
       "      <td>32.1</td>\n",
       "      <td>6.0</td>\n",
       "      <td>21.4</td>\n",
       "      <td>1.0</td>\n",
       "      <td>3.6</td>\n",
       "      <td>28.0</td>\n",
       "    </tr>\n",
       "    <tr>\n",
       "      <th>11545</th>\n",
       "      <td>제주특별자치도교육청</td>\n",
       "      <td>제주특별자치도 제주시</td>\n",
       "      <td>제주외국어고등학교</td>\n",
       "      <td>2학년</td>\n",
       "      <td>여자</td>\n",
       "      <td>2.0</td>\n",
       "      <td>3.3</td>\n",
       "      <td>16.0</td>\n",
       "      <td>26.7</td>\n",
       "      <td>29.0</td>\n",
       "      <td>48.3</td>\n",
       "      <td>13.0</td>\n",
       "      <td>21.7</td>\n",
       "      <td>0.0</td>\n",
       "      <td>0.0</td>\n",
       "      <td>60.0</td>\n",
       "    </tr>\n",
       "    <tr>\n",
       "      <th>11546</th>\n",
       "      <td>제주특별자치도교육청</td>\n",
       "      <td>제주특별자치도 제주시</td>\n",
       "      <td>제주외국어고등학교</td>\n",
       "      <td>3학년</td>\n",
       "      <td>남자</td>\n",
       "      <td>0.0</td>\n",
       "      <td>0.0</td>\n",
       "      <td>6.0</td>\n",
       "      <td>19.4</td>\n",
       "      <td>18.0</td>\n",
       "      <td>58.1</td>\n",
       "      <td>7.0</td>\n",
       "      <td>22.6</td>\n",
       "      <td>0.0</td>\n",
       "      <td>0.0</td>\n",
       "      <td>31.0</td>\n",
       "    </tr>\n",
       "    <tr>\n",
       "      <th>11547</th>\n",
       "      <td>제주특별자치도교육청</td>\n",
       "      <td>제주특별자치도 제주시</td>\n",
       "      <td>제주외국어고등학교</td>\n",
       "      <td>3학년</td>\n",
       "      <td>여자</td>\n",
       "      <td>0.0</td>\n",
       "      <td>0.0</td>\n",
       "      <td>22.0</td>\n",
       "      <td>38.6</td>\n",
       "      <td>30.0</td>\n",
       "      <td>52.6</td>\n",
       "      <td>5.0</td>\n",
       "      <td>8.8</td>\n",
       "      <td>0.0</td>\n",
       "      <td>0.0</td>\n",
       "      <td>57.0</td>\n",
       "    </tr>\n",
       "  </tbody>\n",
       "</table>\n",
       "<p>11537 rows × 16 columns</p>\n",
       "</div>"
      ],
      "text/plain": [
       "            시도교육청           지역        학교명   학년  성별  1등급 인원  1등급 %  2등급 인원  \\\n",
       "0        서울특별시교육청    서울특별시 강남구   국립국악고등학교  1학년  남자     2.0    6.3    13.0   \n",
       "1        서울특별시교육청    서울특별시 강남구   국립국악고등학교  1학년  여자     3.0    2.6    67.0   \n",
       "2        서울특별시교육청    서울특별시 강남구   국립국악고등학교  2학년  남자     0.0    0.0     8.0   \n",
       "3        서울특별시교육청    서울특별시 강남구   국립국악고등학교  2학년  여자     3.0    2.4    56.0   \n",
       "4        서울특별시교육청    서울특별시 강남구   국립국악고등학교  3학년  남자     0.0    0.0     6.0   \n",
       "...           ...          ...        ...  ...  ..     ...    ...     ...   \n",
       "11543  제주특별자치도교육청  제주특별자치도 제주시  제주외국어고등학교  1학년  여자     2.0    2.9    29.0   \n",
       "11544  제주특별자치도교육청  제주특별자치도 제주시  제주외국어고등학교  2학년  남자     0.0    0.0    12.0   \n",
       "11545  제주특별자치도교육청  제주특별자치도 제주시  제주외국어고등학교  2학년  여자     2.0    3.3    16.0   \n",
       "11546  제주특별자치도교육청  제주특별자치도 제주시  제주외국어고등학교  3학년  남자     0.0    0.0     6.0   \n",
       "11547  제주특별자치도교육청  제주특별자치도 제주시  제주외국어고등학교  3학년  여자     0.0    0.0    22.0   \n",
       "\n",
       "       2등급 %  3등급 인원  3등급 %  4등급 인원  4등급 %  5등급 인원  5등급 %  검사인원수  \n",
       "0       40.6    14.0   43.8     3.0    9.4     0.0    0.0   32.0  \n",
       "1       57.8    44.0   37.9     2.0    1.7     0.0    0.0  116.0  \n",
       "2       44.4     9.0   50.0     0.0    0.0     1.0    5.6   18.0  \n",
       "3       44.8    61.0   48.8     5.0    4.0     0.0    0.0  125.0  \n",
       "4       27.3     9.0   40.9     7.0   31.8     0.0    0.0   22.0  \n",
       "...      ...     ...    ...     ...    ...     ...    ...    ...  \n",
       "11543   42.6    30.0   44.1     7.0   10.3     0.0    0.0   68.0  \n",
       "11544   42.9     9.0   32.1     6.0   21.4     1.0    3.6   28.0  \n",
       "11545   26.7    29.0   48.3    13.0   21.7     0.0    0.0   60.0  \n",
       "11546   19.4    18.0   58.1     7.0   22.6     0.0    0.0   31.0  \n",
       "11547   38.6    30.0   52.6     5.0    8.8     0.0    0.0   57.0  \n",
       "\n",
       "[11537 rows x 16 columns]"
      ]
     },
     "execution_count": 20,
     "metadata": {},
     "output_type": "execute_result"
    }
   ],
   "source": [
    "df_2_AA"
   ]
  },
  {
   "cell_type": "code",
   "execution_count": 21,
   "id": "a6786c64",
   "metadata": {},
   "outputs": [
    {
     "name": "stderr",
     "output_type": "stream",
     "text": [
      "C:\\Users\\user\\AppData\\Local\\Temp\\ipykernel_24220\\2566860598.py:3: FutureWarning:\n",
      "\n",
      "The default value of numeric_only in DataFrameGroupBy.sum is deprecated. In a future version, numeric_only will default to False. Either specify numeric_only or select only columns which should be valid for the function.\n",
      "\n",
      "C:\\Users\\user\\AppData\\Local\\Temp\\ipykernel_24220\\2566860598.py:7: FutureWarning:\n",
      "\n",
      "The default value of numeric_only in DataFrameGroupBy.sum is deprecated. In a future version, numeric_only will default to False. Either specify numeric_only or select only columns which should be valid for the function.\n",
      "\n"
     ]
    }
   ],
   "source": [
    "# 지역과 학년을 한번에 묶어 그룹합을 진행한다.\n",
    "df_2_AA['지역']= df_2_AA['지역']+\" \"+ df_2_AA['학년']\n",
    "df_2_AA_group = df_2_AA.groupby('지역').sum()\n",
    "\n",
    "\n",
    "df_3_AA['지역']= df_3_AA['지역']+\" \"+ df_3_AA['학년']\n",
    "df_3_AA_group = df_3_AA.groupby('지역').sum()"
   ]
  },
  {
   "cell_type": "code",
   "execution_count": 22,
   "id": "31febb0b",
   "metadata": {},
   "outputs": [],
   "source": [
    "df_2_cou_sum=df_2_AA_group.reset_index(drop=False) #인덱스 재지정\n",
    "\n",
    "\n",
    "\n",
    "df_3_cou_sum=df_3_AA_group.reset_index(drop=False) #인덱스 재지정"
   ]
  },
  {
   "cell_type": "code",
   "execution_count": 23,
   "id": "c391a7db",
   "metadata": {},
   "outputs": [],
   "source": [
    "# 지역과 학년으로 열을 구분함\n",
    "df_2_cou_sum['학년']=df_2_cou_sum['지역']\n",
    "df_2_cou_sum['학년']=(df_2_cou_sum['학년'].apply(lambda x : x.split(' ')[-1]))\n",
    "df_2_cou_sum['지역']=df_2_cou_sum['지역'].apply(lambda x : x.split(' ')[0])\n",
    "# %값을 새로 구해준다\n",
    "for i in range(5):\n",
    "    df_2_cou_sum[f'{i+1}등급 %']= round(df_2_cou_sum[f'{i+1}등급 인원']/df_2_cou_sum['검사인원수'] * 100,3)\n",
    "    \n",
    "    \n",
    "    \n",
    "# 지역과 학년으로 열을 구분함\n",
    "df_3_cou_sum['학년']=df_3_cou_sum['지역']\n",
    "df_3_cou_sum['학년']=(df_3_cou_sum['학년'].apply(lambda x : x.split(' ')[-1]))\n",
    "df_3_cou_sum['지역']=df_3_cou_sum['지역'].apply(lambda x : x.split(' ')[0])\n",
    "# %값을 새로 구해준다\n",
    "for i in range(5):\n",
    "    df_3_cou_sum[f'{i+1}등급 %']= round(df_3_cou_sum[f'{i+1}등급 인원']/df_3_cou_sum['검사인원수'] * 100,3)"
   ]
  },
  {
   "cell_type": "code",
   "execution_count": 24,
   "id": "d90a3e35",
   "metadata": {},
   "outputs": [
    {
     "data": {
      "text/html": [
       "<div>\n",
       "<style scoped>\n",
       "    .dataframe tbody tr th:only-of-type {\n",
       "        vertical-align: middle;\n",
       "    }\n",
       "\n",
       "    .dataframe tbody tr th {\n",
       "        vertical-align: top;\n",
       "    }\n",
       "\n",
       "    .dataframe thead th {\n",
       "        text-align: right;\n",
       "    }\n",
       "</style>\n",
       "<table border=\"1\" class=\"dataframe\">\n",
       "  <thead>\n",
       "    <tr style=\"text-align: right;\">\n",
       "      <th></th>\n",
       "      <th>지역</th>\n",
       "      <th>1등급 인원</th>\n",
       "      <th>1등급 %</th>\n",
       "      <th>2등급 인원</th>\n",
       "      <th>2등급 %</th>\n",
       "      <th>3등급 인원</th>\n",
       "      <th>3등급 %</th>\n",
       "      <th>4등급 인원</th>\n",
       "      <th>4등급 %</th>\n",
       "      <th>5등급 인원</th>\n",
       "      <th>5등급 %</th>\n",
       "      <th>검사인원수</th>\n",
       "      <th>학년</th>\n",
       "    </tr>\n",
       "  </thead>\n",
       "  <tbody>\n",
       "    <tr>\n",
       "      <th>0</th>\n",
       "      <td>강원특별자치도</td>\n",
       "      <td>106.0</td>\n",
       "      <td>6.389</td>\n",
       "      <td>527.0</td>\n",
       "      <td>31.766</td>\n",
       "      <td>792.0</td>\n",
       "      <td>47.740</td>\n",
       "      <td>214.0</td>\n",
       "      <td>12.899</td>\n",
       "      <td>20.0</td>\n",
       "      <td>1.206</td>\n",
       "      <td>1659.0</td>\n",
       "      <td>1학년</td>\n",
       "    </tr>\n",
       "    <tr>\n",
       "      <th>1</th>\n",
       "      <td>강원특별자치도</td>\n",
       "      <td>83.0</td>\n",
       "      <td>4.598</td>\n",
       "      <td>564.0</td>\n",
       "      <td>31.247</td>\n",
       "      <td>862.0</td>\n",
       "      <td>47.756</td>\n",
       "      <td>270.0</td>\n",
       "      <td>14.958</td>\n",
       "      <td>26.0</td>\n",
       "      <td>1.440</td>\n",
       "      <td>1805.0</td>\n",
       "      <td>2학년</td>\n",
       "    </tr>\n",
       "    <tr>\n",
       "      <th>2</th>\n",
       "      <td>강원특별자치도</td>\n",
       "      <td>93.0</td>\n",
       "      <td>5.038</td>\n",
       "      <td>550.0</td>\n",
       "      <td>29.794</td>\n",
       "      <td>880.0</td>\n",
       "      <td>47.671</td>\n",
       "      <td>277.0</td>\n",
       "      <td>15.005</td>\n",
       "      <td>46.0</td>\n",
       "      <td>2.492</td>\n",
       "      <td>1846.0</td>\n",
       "      <td>3학년</td>\n",
       "    </tr>\n",
       "    <tr>\n",
       "      <th>3</th>\n",
       "      <td>강원특별자치도</td>\n",
       "      <td>6.0</td>\n",
       "      <td>4.762</td>\n",
       "      <td>56.0</td>\n",
       "      <td>44.444</td>\n",
       "      <td>51.0</td>\n",
       "      <td>40.476</td>\n",
       "      <td>13.0</td>\n",
       "      <td>10.317</td>\n",
       "      <td>0.0</td>\n",
       "      <td>0.000</td>\n",
       "      <td>126.0</td>\n",
       "      <td>1학년</td>\n",
       "    </tr>\n",
       "    <tr>\n",
       "      <th>4</th>\n",
       "      <td>강원특별자치도</td>\n",
       "      <td>9.0</td>\n",
       "      <td>7.500</td>\n",
       "      <td>61.0</td>\n",
       "      <td>50.833</td>\n",
       "      <td>39.0</td>\n",
       "      <td>32.500</td>\n",
       "      <td>10.0</td>\n",
       "      <td>8.333</td>\n",
       "      <td>1.0</td>\n",
       "      <td>0.833</td>\n",
       "      <td>120.0</td>\n",
       "      <td>2학년</td>\n",
       "    </tr>\n",
       "    <tr>\n",
       "      <th>...</th>\n",
       "      <td>...</td>\n",
       "      <td>...</td>\n",
       "      <td>...</td>\n",
       "      <td>...</td>\n",
       "      <td>...</td>\n",
       "      <td>...</td>\n",
       "      <td>...</td>\n",
       "      <td>...</td>\n",
       "      <td>...</td>\n",
       "      <td>...</td>\n",
       "      <td>...</td>\n",
       "      <td>...</td>\n",
       "      <td>...</td>\n",
       "    </tr>\n",
       "    <tr>\n",
       "      <th>745</th>\n",
       "      <td>충청북도</td>\n",
       "      <td>69.0</td>\n",
       "      <td>3.136</td>\n",
       "      <td>526.0</td>\n",
       "      <td>23.909</td>\n",
       "      <td>1059.0</td>\n",
       "      <td>48.136</td>\n",
       "      <td>477.0</td>\n",
       "      <td>21.682</td>\n",
       "      <td>69.0</td>\n",
       "      <td>3.136</td>\n",
       "      <td>2200.0</td>\n",
       "      <td>2학년</td>\n",
       "    </tr>\n",
       "    <tr>\n",
       "      <th>746</th>\n",
       "      <td>충청북도</td>\n",
       "      <td>45.0</td>\n",
       "      <td>2.030</td>\n",
       "      <td>473.0</td>\n",
       "      <td>21.335</td>\n",
       "      <td>997.0</td>\n",
       "      <td>44.971</td>\n",
       "      <td>603.0</td>\n",
       "      <td>27.199</td>\n",
       "      <td>99.0</td>\n",
       "      <td>4.465</td>\n",
       "      <td>2217.0</td>\n",
       "      <td>3학년</td>\n",
       "    </tr>\n",
       "    <tr>\n",
       "      <th>747</th>\n",
       "      <td>충청북도</td>\n",
       "      <td>54.0</td>\n",
       "      <td>3.396</td>\n",
       "      <td>400.0</td>\n",
       "      <td>25.157</td>\n",
       "      <td>687.0</td>\n",
       "      <td>43.208</td>\n",
       "      <td>368.0</td>\n",
       "      <td>23.145</td>\n",
       "      <td>81.0</td>\n",
       "      <td>5.094</td>\n",
       "      <td>1590.0</td>\n",
       "      <td>1학년</td>\n",
       "    </tr>\n",
       "    <tr>\n",
       "      <th>748</th>\n",
       "      <td>충청북도</td>\n",
       "      <td>55.0</td>\n",
       "      <td>3.148</td>\n",
       "      <td>395.0</td>\n",
       "      <td>22.610</td>\n",
       "      <td>790.0</td>\n",
       "      <td>45.220</td>\n",
       "      <td>399.0</td>\n",
       "      <td>22.839</td>\n",
       "      <td>108.0</td>\n",
       "      <td>6.182</td>\n",
       "      <td>1747.0</td>\n",
       "      <td>2학년</td>\n",
       "    </tr>\n",
       "    <tr>\n",
       "      <th>749</th>\n",
       "      <td>충청북도</td>\n",
       "      <td>36.0</td>\n",
       "      <td>2.108</td>\n",
       "      <td>329.0</td>\n",
       "      <td>19.262</td>\n",
       "      <td>722.0</td>\n",
       "      <td>42.272</td>\n",
       "      <td>502.0</td>\n",
       "      <td>29.391</td>\n",
       "      <td>119.0</td>\n",
       "      <td>6.967</td>\n",
       "      <td>1708.0</td>\n",
       "      <td>3학년</td>\n",
       "    </tr>\n",
       "  </tbody>\n",
       "</table>\n",
       "<p>750 rows × 13 columns</p>\n",
       "</div>"
      ],
      "text/plain": [
       "          지역  1등급 인원  1등급 %  2등급 인원   2등급 %  3등급 인원   3등급 %  4등급 인원   4등급 %  \\\n",
       "0    강원특별자치도   106.0  6.389   527.0  31.766   792.0  47.740   214.0  12.899   \n",
       "1    강원특별자치도    83.0  4.598   564.0  31.247   862.0  47.756   270.0  14.958   \n",
       "2    강원특별자치도    93.0  5.038   550.0  29.794   880.0  47.671   277.0  15.005   \n",
       "3    강원특별자치도     6.0  4.762    56.0  44.444    51.0  40.476    13.0  10.317   \n",
       "4    강원특별자치도     9.0  7.500    61.0  50.833    39.0  32.500    10.0   8.333   \n",
       "..       ...     ...    ...     ...     ...     ...     ...     ...     ...   \n",
       "745     충청북도    69.0  3.136   526.0  23.909  1059.0  48.136   477.0  21.682   \n",
       "746     충청북도    45.0  2.030   473.0  21.335   997.0  44.971   603.0  27.199   \n",
       "747     충청북도    54.0  3.396   400.0  25.157   687.0  43.208   368.0  23.145   \n",
       "748     충청북도    55.0  3.148   395.0  22.610   790.0  45.220   399.0  22.839   \n",
       "749     충청북도    36.0  2.108   329.0  19.262   722.0  42.272   502.0  29.391   \n",
       "\n",
       "     5등급 인원  5등급 %   검사인원수   학년  \n",
       "0      20.0  1.206  1659.0  1학년  \n",
       "1      26.0  1.440  1805.0  2학년  \n",
       "2      46.0  2.492  1846.0  3학년  \n",
       "3       0.0  0.000   126.0  1학년  \n",
       "4       1.0  0.833   120.0  2학년  \n",
       "..      ...    ...     ...  ...  \n",
       "745    69.0  3.136  2200.0  2학년  \n",
       "746    99.0  4.465  2217.0  3학년  \n",
       "747    81.0  5.094  1590.0  1학년  \n",
       "748   108.0  6.182  1747.0  2학년  \n",
       "749   119.0  6.967  1708.0  3학년  \n",
       "\n",
       "[750 rows x 13 columns]"
      ]
     },
     "execution_count": 24,
     "metadata": {},
     "output_type": "execute_result"
    }
   ],
   "source": [
    "df_2_cou_sum"
   ]
  },
  {
   "cell_type": "code",
   "execution_count": 25,
   "id": "6e1ddfed",
   "metadata": {},
   "outputs": [],
   "source": [
    "for i in range(5):\n",
    "    df_2_cou_sum=df_2_cou_sum[df_2_cou_sum[f'{i+1}등급 %']>0]\n",
    "    \n",
    "    \n",
    "for i in range(5):\n",
    "    df_3_cou_sum=df_3_cou_sum[df_3_cou_sum[f'{i+1}등급 %']>0]"
   ]
  },
  {
   "cell_type": "code",
   "execution_count": 26,
   "id": "e0aa5527",
   "metadata": {},
   "outputs": [
    {
     "data": {
      "text/html": [
       "<div>\n",
       "<style scoped>\n",
       "    .dataframe tbody tr th:only-of-type {\n",
       "        vertical-align: middle;\n",
       "    }\n",
       "\n",
       "    .dataframe tbody tr th {\n",
       "        vertical-align: top;\n",
       "    }\n",
       "\n",
       "    .dataframe thead th {\n",
       "        text-align: right;\n",
       "    }\n",
       "</style>\n",
       "<table border=\"1\" class=\"dataframe\">\n",
       "  <thead>\n",
       "    <tr style=\"text-align: right;\">\n",
       "      <th></th>\n",
       "      <th>지역</th>\n",
       "      <th>1등급 인원</th>\n",
       "      <th>1등급 %</th>\n",
       "      <th>2등급 인원</th>\n",
       "      <th>2등급 %</th>\n",
       "      <th>3등급 인원</th>\n",
       "      <th>3등급 %</th>\n",
       "      <th>4등급 인원</th>\n",
       "      <th>4등급 %</th>\n",
       "      <th>5등급 인원</th>\n",
       "      <th>5등급 %</th>\n",
       "      <th>검사인원수</th>\n",
       "      <th>학년</th>\n",
       "    </tr>\n",
       "  </thead>\n",
       "  <tbody>\n",
       "    <tr>\n",
       "      <th>0</th>\n",
       "      <td>강원특별자치도</td>\n",
       "      <td>106.0</td>\n",
       "      <td>6.389</td>\n",
       "      <td>527.0</td>\n",
       "      <td>31.766</td>\n",
       "      <td>792.0</td>\n",
       "      <td>47.740</td>\n",
       "      <td>214.0</td>\n",
       "      <td>12.899</td>\n",
       "      <td>20.0</td>\n",
       "      <td>1.206</td>\n",
       "      <td>1659.0</td>\n",
       "      <td>1학년</td>\n",
       "    </tr>\n",
       "    <tr>\n",
       "      <th>1</th>\n",
       "      <td>강원특별자치도</td>\n",
       "      <td>83.0</td>\n",
       "      <td>4.598</td>\n",
       "      <td>564.0</td>\n",
       "      <td>31.247</td>\n",
       "      <td>862.0</td>\n",
       "      <td>47.756</td>\n",
       "      <td>270.0</td>\n",
       "      <td>14.958</td>\n",
       "      <td>26.0</td>\n",
       "      <td>1.440</td>\n",
       "      <td>1805.0</td>\n",
       "      <td>2학년</td>\n",
       "    </tr>\n",
       "    <tr>\n",
       "      <th>2</th>\n",
       "      <td>강원특별자치도</td>\n",
       "      <td>93.0</td>\n",
       "      <td>5.038</td>\n",
       "      <td>550.0</td>\n",
       "      <td>29.794</td>\n",
       "      <td>880.0</td>\n",
       "      <td>47.671</td>\n",
       "      <td>277.0</td>\n",
       "      <td>15.005</td>\n",
       "      <td>46.0</td>\n",
       "      <td>2.492</td>\n",
       "      <td>1846.0</td>\n",
       "      <td>3학년</td>\n",
       "    </tr>\n",
       "    <tr>\n",
       "      <th>4</th>\n",
       "      <td>강원특별자치도</td>\n",
       "      <td>9.0</td>\n",
       "      <td>7.500</td>\n",
       "      <td>61.0</td>\n",
       "      <td>50.833</td>\n",
       "      <td>39.0</td>\n",
       "      <td>32.500</td>\n",
       "      <td>10.0</td>\n",
       "      <td>8.333</td>\n",
       "      <td>1.0</td>\n",
       "      <td>0.833</td>\n",
       "      <td>120.0</td>\n",
       "      <td>2학년</td>\n",
       "    </tr>\n",
       "    <tr>\n",
       "      <th>5</th>\n",
       "      <td>강원특별자치도</td>\n",
       "      <td>4.0</td>\n",
       "      <td>2.837</td>\n",
       "      <td>58.0</td>\n",
       "      <td>41.135</td>\n",
       "      <td>61.0</td>\n",
       "      <td>43.262</td>\n",
       "      <td>16.0</td>\n",
       "      <td>11.348</td>\n",
       "      <td>2.0</td>\n",
       "      <td>1.418</td>\n",
       "      <td>141.0</td>\n",
       "      <td>3학년</td>\n",
       "    </tr>\n",
       "    <tr>\n",
       "      <th>...</th>\n",
       "      <td>...</td>\n",
       "      <td>...</td>\n",
       "      <td>...</td>\n",
       "      <td>...</td>\n",
       "      <td>...</td>\n",
       "      <td>...</td>\n",
       "      <td>...</td>\n",
       "      <td>...</td>\n",
       "      <td>...</td>\n",
       "      <td>...</td>\n",
       "      <td>...</td>\n",
       "      <td>...</td>\n",
       "      <td>...</td>\n",
       "    </tr>\n",
       "    <tr>\n",
       "      <th>745</th>\n",
       "      <td>충청북도</td>\n",
       "      <td>69.0</td>\n",
       "      <td>3.136</td>\n",
       "      <td>526.0</td>\n",
       "      <td>23.909</td>\n",
       "      <td>1059.0</td>\n",
       "      <td>48.136</td>\n",
       "      <td>477.0</td>\n",
       "      <td>21.682</td>\n",
       "      <td>69.0</td>\n",
       "      <td>3.136</td>\n",
       "      <td>2200.0</td>\n",
       "      <td>2학년</td>\n",
       "    </tr>\n",
       "    <tr>\n",
       "      <th>746</th>\n",
       "      <td>충청북도</td>\n",
       "      <td>45.0</td>\n",
       "      <td>2.030</td>\n",
       "      <td>473.0</td>\n",
       "      <td>21.335</td>\n",
       "      <td>997.0</td>\n",
       "      <td>44.971</td>\n",
       "      <td>603.0</td>\n",
       "      <td>27.199</td>\n",
       "      <td>99.0</td>\n",
       "      <td>4.465</td>\n",
       "      <td>2217.0</td>\n",
       "      <td>3학년</td>\n",
       "    </tr>\n",
       "    <tr>\n",
       "      <th>747</th>\n",
       "      <td>충청북도</td>\n",
       "      <td>54.0</td>\n",
       "      <td>3.396</td>\n",
       "      <td>400.0</td>\n",
       "      <td>25.157</td>\n",
       "      <td>687.0</td>\n",
       "      <td>43.208</td>\n",
       "      <td>368.0</td>\n",
       "      <td>23.145</td>\n",
       "      <td>81.0</td>\n",
       "      <td>5.094</td>\n",
       "      <td>1590.0</td>\n",
       "      <td>1학년</td>\n",
       "    </tr>\n",
       "    <tr>\n",
       "      <th>748</th>\n",
       "      <td>충청북도</td>\n",
       "      <td>55.0</td>\n",
       "      <td>3.148</td>\n",
       "      <td>395.0</td>\n",
       "      <td>22.610</td>\n",
       "      <td>790.0</td>\n",
       "      <td>45.220</td>\n",
       "      <td>399.0</td>\n",
       "      <td>22.839</td>\n",
       "      <td>108.0</td>\n",
       "      <td>6.182</td>\n",
       "      <td>1747.0</td>\n",
       "      <td>2학년</td>\n",
       "    </tr>\n",
       "    <tr>\n",
       "      <th>749</th>\n",
       "      <td>충청북도</td>\n",
       "      <td>36.0</td>\n",
       "      <td>2.108</td>\n",
       "      <td>329.0</td>\n",
       "      <td>19.262</td>\n",
       "      <td>722.0</td>\n",
       "      <td>42.272</td>\n",
       "      <td>502.0</td>\n",
       "      <td>29.391</td>\n",
       "      <td>119.0</td>\n",
       "      <td>6.967</td>\n",
       "      <td>1708.0</td>\n",
       "      <td>3학년</td>\n",
       "    </tr>\n",
       "  </tbody>\n",
       "</table>\n",
       "<p>726 rows × 13 columns</p>\n",
       "</div>"
      ],
      "text/plain": [
       "          지역  1등급 인원  1등급 %  2등급 인원   2등급 %  3등급 인원   3등급 %  4등급 인원   4등급 %  \\\n",
       "0    강원특별자치도   106.0  6.389   527.0  31.766   792.0  47.740   214.0  12.899   \n",
       "1    강원특별자치도    83.0  4.598   564.0  31.247   862.0  47.756   270.0  14.958   \n",
       "2    강원특별자치도    93.0  5.038   550.0  29.794   880.0  47.671   277.0  15.005   \n",
       "4    강원특별자치도     9.0  7.500    61.0  50.833    39.0  32.500    10.0   8.333   \n",
       "5    강원특별자치도     4.0  2.837    58.0  41.135    61.0  43.262    16.0  11.348   \n",
       "..       ...     ...    ...     ...     ...     ...     ...     ...     ...   \n",
       "745     충청북도    69.0  3.136   526.0  23.909  1059.0  48.136   477.0  21.682   \n",
       "746     충청북도    45.0  2.030   473.0  21.335   997.0  44.971   603.0  27.199   \n",
       "747     충청북도    54.0  3.396   400.0  25.157   687.0  43.208   368.0  23.145   \n",
       "748     충청북도    55.0  3.148   395.0  22.610   790.0  45.220   399.0  22.839   \n",
       "749     충청북도    36.0  2.108   329.0  19.262   722.0  42.272   502.0  29.391   \n",
       "\n",
       "     5등급 인원  5등급 %   검사인원수   학년  \n",
       "0      20.0  1.206  1659.0  1학년  \n",
       "1      26.0  1.440  1805.0  2학년  \n",
       "2      46.0  2.492  1846.0  3학년  \n",
       "4       1.0  0.833   120.0  2학년  \n",
       "5       2.0  1.418   141.0  3학년  \n",
       "..      ...    ...     ...  ...  \n",
       "745    69.0  3.136  2200.0  2학년  \n",
       "746    99.0  4.465  2217.0  3학년  \n",
       "747    81.0  5.094  1590.0  1학년  \n",
       "748   108.0  6.182  1747.0  2학년  \n",
       "749   119.0  6.967  1708.0  3학년  \n",
       "\n",
       "[726 rows x 13 columns]"
      ]
     },
     "execution_count": 26,
     "metadata": {},
     "output_type": "execute_result"
    }
   ],
   "source": [
    "df_2_cou_sum"
   ]
  },
  {
   "cell_type": "code",
   "execution_count": 27,
   "id": "0f22c90b",
   "metadata": {},
   "outputs": [],
   "source": [
    "df_2_cou_sum_log = df_2_cou_sum.copy()\n",
    "\n",
    "\n",
    "df_3_cou_sum_log = df_3_cou_sum.copy()"
   ]
  },
  {
   "cell_type": "code",
   "execution_count": 28,
   "id": "6c8b6b0e",
   "metadata": {},
   "outputs": [
    {
     "data": {
      "text/html": [
       "<div>\n",
       "<style scoped>\n",
       "    .dataframe tbody tr th:only-of-type {\n",
       "        vertical-align: middle;\n",
       "    }\n",
       "\n",
       "    .dataframe tbody tr th {\n",
       "        vertical-align: top;\n",
       "    }\n",
       "\n",
       "    .dataframe thead th {\n",
       "        text-align: right;\n",
       "    }\n",
       "</style>\n",
       "<table border=\"1\" class=\"dataframe\">\n",
       "  <thead>\n",
       "    <tr style=\"text-align: right;\">\n",
       "      <th></th>\n",
       "      <th>지역</th>\n",
       "      <th>1등급 인원</th>\n",
       "      <th>1등급 %</th>\n",
       "      <th>2등급 인원</th>\n",
       "      <th>2등급 %</th>\n",
       "      <th>3등급 인원</th>\n",
       "      <th>3등급 %</th>\n",
       "      <th>4등급 인원</th>\n",
       "      <th>4등급 %</th>\n",
       "      <th>5등급 인원</th>\n",
       "      <th>5등급 %</th>\n",
       "      <th>검사인원수</th>\n",
       "      <th>학년</th>\n",
       "    </tr>\n",
       "  </thead>\n",
       "  <tbody>\n",
       "    <tr>\n",
       "      <th>0</th>\n",
       "      <td>강원특별자치도</td>\n",
       "      <td>106.0</td>\n",
       "      <td>6.389</td>\n",
       "      <td>527.0</td>\n",
       "      <td>31.766</td>\n",
       "      <td>792.0</td>\n",
       "      <td>47.740</td>\n",
       "      <td>214.0</td>\n",
       "      <td>12.899</td>\n",
       "      <td>20.0</td>\n",
       "      <td>1.206</td>\n",
       "      <td>1659.0</td>\n",
       "      <td>1학년</td>\n",
       "    </tr>\n",
       "    <tr>\n",
       "      <th>1</th>\n",
       "      <td>강원특별자치도</td>\n",
       "      <td>83.0</td>\n",
       "      <td>4.598</td>\n",
       "      <td>564.0</td>\n",
       "      <td>31.247</td>\n",
       "      <td>862.0</td>\n",
       "      <td>47.756</td>\n",
       "      <td>270.0</td>\n",
       "      <td>14.958</td>\n",
       "      <td>26.0</td>\n",
       "      <td>1.440</td>\n",
       "      <td>1805.0</td>\n",
       "      <td>2학년</td>\n",
       "    </tr>\n",
       "    <tr>\n",
       "      <th>2</th>\n",
       "      <td>강원특별자치도</td>\n",
       "      <td>93.0</td>\n",
       "      <td>5.038</td>\n",
       "      <td>550.0</td>\n",
       "      <td>29.794</td>\n",
       "      <td>880.0</td>\n",
       "      <td>47.671</td>\n",
       "      <td>277.0</td>\n",
       "      <td>15.005</td>\n",
       "      <td>46.0</td>\n",
       "      <td>2.492</td>\n",
       "      <td>1846.0</td>\n",
       "      <td>3학년</td>\n",
       "    </tr>\n",
       "    <tr>\n",
       "      <th>4</th>\n",
       "      <td>강원특별자치도</td>\n",
       "      <td>9.0</td>\n",
       "      <td>7.500</td>\n",
       "      <td>61.0</td>\n",
       "      <td>50.833</td>\n",
       "      <td>39.0</td>\n",
       "      <td>32.500</td>\n",
       "      <td>10.0</td>\n",
       "      <td>8.333</td>\n",
       "      <td>1.0</td>\n",
       "      <td>0.833</td>\n",
       "      <td>120.0</td>\n",
       "      <td>2학년</td>\n",
       "    </tr>\n",
       "    <tr>\n",
       "      <th>5</th>\n",
       "      <td>강원특별자치도</td>\n",
       "      <td>4.0</td>\n",
       "      <td>2.837</td>\n",
       "      <td>58.0</td>\n",
       "      <td>41.135</td>\n",
       "      <td>61.0</td>\n",
       "      <td>43.262</td>\n",
       "      <td>16.0</td>\n",
       "      <td>11.348</td>\n",
       "      <td>2.0</td>\n",
       "      <td>1.418</td>\n",
       "      <td>141.0</td>\n",
       "      <td>3학년</td>\n",
       "    </tr>\n",
       "    <tr>\n",
       "      <th>...</th>\n",
       "      <td>...</td>\n",
       "      <td>...</td>\n",
       "      <td>...</td>\n",
       "      <td>...</td>\n",
       "      <td>...</td>\n",
       "      <td>...</td>\n",
       "      <td>...</td>\n",
       "      <td>...</td>\n",
       "      <td>...</td>\n",
       "      <td>...</td>\n",
       "      <td>...</td>\n",
       "      <td>...</td>\n",
       "      <td>...</td>\n",
       "    </tr>\n",
       "    <tr>\n",
       "      <th>745</th>\n",
       "      <td>충청북도</td>\n",
       "      <td>69.0</td>\n",
       "      <td>3.136</td>\n",
       "      <td>526.0</td>\n",
       "      <td>23.909</td>\n",
       "      <td>1059.0</td>\n",
       "      <td>48.136</td>\n",
       "      <td>477.0</td>\n",
       "      <td>21.682</td>\n",
       "      <td>69.0</td>\n",
       "      <td>3.136</td>\n",
       "      <td>2200.0</td>\n",
       "      <td>2학년</td>\n",
       "    </tr>\n",
       "    <tr>\n",
       "      <th>746</th>\n",
       "      <td>충청북도</td>\n",
       "      <td>45.0</td>\n",
       "      <td>2.030</td>\n",
       "      <td>473.0</td>\n",
       "      <td>21.335</td>\n",
       "      <td>997.0</td>\n",
       "      <td>44.971</td>\n",
       "      <td>603.0</td>\n",
       "      <td>27.199</td>\n",
       "      <td>99.0</td>\n",
       "      <td>4.465</td>\n",
       "      <td>2217.0</td>\n",
       "      <td>3학년</td>\n",
       "    </tr>\n",
       "    <tr>\n",
       "      <th>747</th>\n",
       "      <td>충청북도</td>\n",
       "      <td>54.0</td>\n",
       "      <td>3.396</td>\n",
       "      <td>400.0</td>\n",
       "      <td>25.157</td>\n",
       "      <td>687.0</td>\n",
       "      <td>43.208</td>\n",
       "      <td>368.0</td>\n",
       "      <td>23.145</td>\n",
       "      <td>81.0</td>\n",
       "      <td>5.094</td>\n",
       "      <td>1590.0</td>\n",
       "      <td>1학년</td>\n",
       "    </tr>\n",
       "    <tr>\n",
       "      <th>748</th>\n",
       "      <td>충청북도</td>\n",
       "      <td>55.0</td>\n",
       "      <td>3.148</td>\n",
       "      <td>395.0</td>\n",
       "      <td>22.610</td>\n",
       "      <td>790.0</td>\n",
       "      <td>45.220</td>\n",
       "      <td>399.0</td>\n",
       "      <td>22.839</td>\n",
       "      <td>108.0</td>\n",
       "      <td>6.182</td>\n",
       "      <td>1747.0</td>\n",
       "      <td>2학년</td>\n",
       "    </tr>\n",
       "    <tr>\n",
       "      <th>749</th>\n",
       "      <td>충청북도</td>\n",
       "      <td>36.0</td>\n",
       "      <td>2.108</td>\n",
       "      <td>329.0</td>\n",
       "      <td>19.262</td>\n",
       "      <td>722.0</td>\n",
       "      <td>42.272</td>\n",
       "      <td>502.0</td>\n",
       "      <td>29.391</td>\n",
       "      <td>119.0</td>\n",
       "      <td>6.967</td>\n",
       "      <td>1708.0</td>\n",
       "      <td>3학년</td>\n",
       "    </tr>\n",
       "  </tbody>\n",
       "</table>\n",
       "<p>726 rows × 13 columns</p>\n",
       "</div>"
      ],
      "text/plain": [
       "          지역  1등급 인원  1등급 %  2등급 인원   2등급 %  3등급 인원   3등급 %  4등급 인원   4등급 %  \\\n",
       "0    강원특별자치도   106.0  6.389   527.0  31.766   792.0  47.740   214.0  12.899   \n",
       "1    강원특별자치도    83.0  4.598   564.0  31.247   862.0  47.756   270.0  14.958   \n",
       "2    강원특별자치도    93.0  5.038   550.0  29.794   880.0  47.671   277.0  15.005   \n",
       "4    강원특별자치도     9.0  7.500    61.0  50.833    39.0  32.500    10.0   8.333   \n",
       "5    강원특별자치도     4.0  2.837    58.0  41.135    61.0  43.262    16.0  11.348   \n",
       "..       ...     ...    ...     ...     ...     ...     ...     ...     ...   \n",
       "745     충청북도    69.0  3.136   526.0  23.909  1059.0  48.136   477.0  21.682   \n",
       "746     충청북도    45.0  2.030   473.0  21.335   997.0  44.971   603.0  27.199   \n",
       "747     충청북도    54.0  3.396   400.0  25.157   687.0  43.208   368.0  23.145   \n",
       "748     충청북도    55.0  3.148   395.0  22.610   790.0  45.220   399.0  22.839   \n",
       "749     충청북도    36.0  2.108   329.0  19.262   722.0  42.272   502.0  29.391   \n",
       "\n",
       "     5등급 인원  5등급 %   검사인원수   학년  \n",
       "0      20.0  1.206  1659.0  1학년  \n",
       "1      26.0  1.440  1805.0  2학년  \n",
       "2      46.0  2.492  1846.0  3학년  \n",
       "4       1.0  0.833   120.0  2학년  \n",
       "5       2.0  1.418   141.0  3학년  \n",
       "..      ...    ...     ...  ...  \n",
       "745    69.0  3.136  2200.0  2학년  \n",
       "746    99.0  4.465  2217.0  3학년  \n",
       "747    81.0  5.094  1590.0  1학년  \n",
       "748   108.0  6.182  1747.0  2학년  \n",
       "749   119.0  6.967  1708.0  3학년  \n",
       "\n",
       "[726 rows x 13 columns]"
      ]
     },
     "execution_count": 28,
     "metadata": {},
     "output_type": "execute_result"
    }
   ],
   "source": [
    "df_2_cou_sum"
   ]
  },
  {
   "cell_type": "code",
   "execution_count": 29,
   "id": "5751f46e",
   "metadata": {},
   "outputs": [
    {
     "data": {
      "text/plain": [
       "<Axes: xlabel='1등급 %', ylabel='Density'>"
      ]
     },
     "execution_count": 29,
     "metadata": {},
     "output_type": "execute_result"
    },
    {
     "data": {
      "image/png": "[encoded data removed]",
      "text/plain": [
       "<Figure size 640x480 with 1 Axes>"
      ]
     },
     "metadata": {},
     "output_type": "display_data"
    }
   ],
   "source": [
    "sns.kdeplot(df_2_cou_sum['1등급 %'])"
   ]
  },
  {
   "cell_type": "code",
   "execution_count": 30,
   "id": "9e0cbb4e",
   "metadata": {},
   "outputs": [
    {
     "data": {
      "text/plain": [
       "<Axes: xlabel='1등급 %', ylabel='Density'>"
      ]
     },
     "execution_count": 30,
     "metadata": {},
     "output_type": "execute_result"
    },
    {
     "data": {
      "image/png": "[encoded data removed]",
      "text/plain": [
       "<Figure size 640x480 with 1 Axes>"
      ]
     },
     "metadata": {},
     "output_type": "display_data"
    }
   ],
   "source": [
    "sns.kdeplot(df_3_cou_sum['1등급 %'])"
   ]
  },
  {
   "cell_type": "code",
   "execution_count": null,
   "id": "a9584a9b",
   "metadata": {},
   "outputs": [],
   "source": []
  },
  {
   "cell_type": "code",
   "execution_count": null,
   "id": "2cbcce2b",
   "metadata": {},
   "outputs": [],
   "source": []
  },
  {
   "cell_type": "code",
   "execution_count": 31,
   "id": "a02062e0",
   "metadata": {},
   "outputs": [],
   "source": [
    "# %지수를 로그데이터로 반환\n",
    "for i in range(5):\n",
    "    df_2_cou_sum_log[f'{i+1}등급 %']= np.log2(df_2_cou_sum_log[f'{i+1}등급 %'])\n",
    "    \n",
    "    \n",
    "for i in range(5):\n",
    "    df_3_cou_sum_log[f'{i+1}등급 %']= np.log2(df_3_cou_sum_log[f'{i+1}등급 %'])"
   ]
  },
  {
   "cell_type": "code",
   "execution_count": 32,
   "id": "3d5292f5",
   "metadata": {
    "scrolled": false
   },
   "outputs": [
    {
     "data": {
      "text/html": [
       "<div>\n",
       "<style scoped>\n",
       "    .dataframe tbody tr th:only-of-type {\n",
       "        vertical-align: middle;\n",
       "    }\n",
       "\n",
       "    .dataframe tbody tr th {\n",
       "        vertical-align: top;\n",
       "    }\n",
       "\n",
       "    .dataframe thead th {\n",
       "        text-align: right;\n",
       "    }\n",
       "</style>\n",
       "<table border=\"1\" class=\"dataframe\">\n",
       "  <thead>\n",
       "    <tr style=\"text-align: right;\">\n",
       "      <th></th>\n",
       "      <th>지역</th>\n",
       "      <th>1등급 인원</th>\n",
       "      <th>1등급 %</th>\n",
       "      <th>2등급 인원</th>\n",
       "      <th>2등급 %</th>\n",
       "      <th>3등급 인원</th>\n",
       "      <th>3등급 %</th>\n",
       "      <th>4등급 인원</th>\n",
       "      <th>4등급 %</th>\n",
       "      <th>5등급 인원</th>\n",
       "      <th>5등급 %</th>\n",
       "      <th>검사인원수</th>\n",
       "      <th>학년</th>\n",
       "    </tr>\n",
       "  </thead>\n",
       "  <tbody>\n",
       "    <tr>\n",
       "      <th>0</th>\n",
       "      <td>강원특별자치도</td>\n",
       "      <td>106.0</td>\n",
       "      <td>2.675590</td>\n",
       "      <td>527.0</td>\n",
       "      <td>4.989412</td>\n",
       "      <td>792.0</td>\n",
       "      <td>5.577127</td>\n",
       "      <td>214.0</td>\n",
       "      <td>3.689187</td>\n",
       "      <td>20.0</td>\n",
       "      <td>0.270230</td>\n",
       "      <td>1659.0</td>\n",
       "      <td>1학년</td>\n",
       "    </tr>\n",
       "    <tr>\n",
       "      <th>1</th>\n",
       "      <td>강원특별자치도</td>\n",
       "      <td>83.0</td>\n",
       "      <td>2.201006</td>\n",
       "      <td>564.0</td>\n",
       "      <td>4.965646</td>\n",
       "      <td>862.0</td>\n",
       "      <td>5.577610</td>\n",
       "      <td>270.0</td>\n",
       "      <td>3.902845</td>\n",
       "      <td>26.0</td>\n",
       "      <td>0.526069</td>\n",
       "      <td>1805.0</td>\n",
       "      <td>2학년</td>\n",
       "    </tr>\n",
       "    <tr>\n",
       "      <th>2</th>\n",
       "      <td>강원특별자치도</td>\n",
       "      <td>93.0</td>\n",
       "      <td>2.332851</td>\n",
       "      <td>550.0</td>\n",
       "      <td>4.896950</td>\n",
       "      <td>880.0</td>\n",
       "      <td>5.575040</td>\n",
       "      <td>277.0</td>\n",
       "      <td>3.907371</td>\n",
       "      <td>46.0</td>\n",
       "      <td>1.317304</td>\n",
       "      <td>1846.0</td>\n",
       "      <td>3학년</td>\n",
       "    </tr>\n",
       "    <tr>\n",
       "      <th>4</th>\n",
       "      <td>강원특별자치도</td>\n",
       "      <td>9.0</td>\n",
       "      <td>2.906891</td>\n",
       "      <td>61.0</td>\n",
       "      <td>5.667693</td>\n",
       "      <td>39.0</td>\n",
       "      <td>5.022368</td>\n",
       "      <td>10.0</td>\n",
       "      <td>3.058836</td>\n",
       "      <td>1.0</td>\n",
       "      <td>-0.263612</td>\n",
       "      <td>120.0</td>\n",
       "      <td>2학년</td>\n",
       "    </tr>\n",
       "    <tr>\n",
       "      <th>5</th>\n",
       "      <td>강원특별자치도</td>\n",
       "      <td>4.0</td>\n",
       "      <td>1.504366</td>\n",
       "      <td>58.0</td>\n",
       "      <td>5.362295</td>\n",
       "      <td>61.0</td>\n",
       "      <td>5.435028</td>\n",
       "      <td>16.0</td>\n",
       "      <td>3.504366</td>\n",
       "      <td>2.0</td>\n",
       "      <td>0.503858</td>\n",
       "      <td>141.0</td>\n",
       "      <td>3학년</td>\n",
       "    </tr>\n",
       "    <tr>\n",
       "      <th>...</th>\n",
       "      <td>...</td>\n",
       "      <td>...</td>\n",
       "      <td>...</td>\n",
       "      <td>...</td>\n",
       "      <td>...</td>\n",
       "      <td>...</td>\n",
       "      <td>...</td>\n",
       "      <td>...</td>\n",
       "      <td>...</td>\n",
       "      <td>...</td>\n",
       "      <td>...</td>\n",
       "      <td>...</td>\n",
       "      <td>...</td>\n",
       "    </tr>\n",
       "    <tr>\n",
       "      <th>745</th>\n",
       "      <td>충청북도</td>\n",
       "      <td>69.0</td>\n",
       "      <td>1.648926</td>\n",
       "      <td>526.0</td>\n",
       "      <td>4.579482</td>\n",
       "      <td>1059.0</td>\n",
       "      <td>5.589044</td>\n",
       "      <td>477.0</td>\n",
       "      <td>4.438426</td>\n",
       "      <td>69.0</td>\n",
       "      <td>1.648926</td>\n",
       "      <td>2200.0</td>\n",
       "      <td>2학년</td>\n",
       "    </tr>\n",
       "    <tr>\n",
       "      <th>746</th>\n",
       "      <td>충청북도</td>\n",
       "      <td>45.0</td>\n",
       "      <td>1.021480</td>\n",
       "      <td>473.0</td>\n",
       "      <td>4.415150</td>\n",
       "      <td>997.0</td>\n",
       "      <td>5.490923</td>\n",
       "      <td>603.0</td>\n",
       "      <td>4.765482</td>\n",
       "      <td>99.0</td>\n",
       "      <td>2.158660</td>\n",
       "      <td>2217.0</td>\n",
       "      <td>3학년</td>\n",
       "    </tr>\n",
       "    <tr>\n",
       "      <th>747</th>\n",
       "      <td>충청북도</td>\n",
       "      <td>54.0</td>\n",
       "      <td>1.763836</td>\n",
       "      <td>400.0</td>\n",
       "      <td>4.652888</td>\n",
       "      <td>687.0</td>\n",
       "      <td>5.433227</td>\n",
       "      <td>368.0</td>\n",
       "      <td>4.532629</td>\n",
       "      <td>81.0</td>\n",
       "      <td>2.348799</td>\n",
       "      <td>1590.0</td>\n",
       "      <td>1학년</td>\n",
       "    </tr>\n",
       "    <tr>\n",
       "      <th>748</th>\n",
       "      <td>충청북도</td>\n",
       "      <td>55.0</td>\n",
       "      <td>1.654436</td>\n",
       "      <td>395.0</td>\n",
       "      <td>4.498889</td>\n",
       "      <td>790.0</td>\n",
       "      <td>5.498889</td>\n",
       "      <td>399.0</td>\n",
       "      <td>4.513428</td>\n",
       "      <td>108.0</td>\n",
       "      <td>2.628074</td>\n",
       "      <td>1747.0</td>\n",
       "      <td>2학년</td>\n",
       "    </tr>\n",
       "    <tr>\n",
       "      <th>749</th>\n",
       "      <td>충청북도</td>\n",
       "      <td>36.0</td>\n",
       "      <td>1.075875</td>\n",
       "      <td>329.0</td>\n",
       "      <td>4.267686</td>\n",
       "      <td>722.0</td>\n",
       "      <td>5.401630</td>\n",
       "      <td>502.0</td>\n",
       "      <td>4.877303</td>\n",
       "      <td>119.0</td>\n",
       "      <td>2.800538</td>\n",
       "      <td>1708.0</td>\n",
       "      <td>3학년</td>\n",
       "    </tr>\n",
       "  </tbody>\n",
       "</table>\n",
       "<p>726 rows × 13 columns</p>\n",
       "</div>"
      ],
      "text/plain": [
       "          지역  1등급 인원     1등급 %  2등급 인원     2등급 %  3등급 인원     3등급 %  4등급 인원  \\\n",
       "0    강원특별자치도   106.0  2.675590   527.0  4.989412   792.0  5.577127   214.0   \n",
       "1    강원특별자치도    83.0  2.201006   564.0  4.965646   862.0  5.577610   270.0   \n",
       "2    강원특별자치도    93.0  2.332851   550.0  4.896950   880.0  5.575040   277.0   \n",
       "4    강원특별자치도     9.0  2.906891    61.0  5.667693    39.0  5.022368    10.0   \n",
       "5    강원특별자치도     4.0  1.504366    58.0  5.362295    61.0  5.435028    16.0   \n",
       "..       ...     ...       ...     ...       ...     ...       ...     ...   \n",
       "745     충청북도    69.0  1.648926   526.0  4.579482  1059.0  5.589044   477.0   \n",
       "746     충청북도    45.0  1.021480   473.0  4.415150   997.0  5.490923   603.0   \n",
       "747     충청북도    54.0  1.763836   400.0  4.652888   687.0  5.433227   368.0   \n",
       "748     충청북도    55.0  1.654436   395.0  4.498889   790.0  5.498889   399.0   \n",
       "749     충청북도    36.0  1.075875   329.0  4.267686   722.0  5.401630   502.0   \n",
       "\n",
       "        4등급 %  5등급 인원     5등급 %   검사인원수   학년  \n",
       "0    3.689187    20.0  0.270230  1659.0  1학년  \n",
       "1    3.902845    26.0  0.526069  1805.0  2학년  \n",
       "2    3.907371    46.0  1.317304  1846.0  3학년  \n",
       "4    3.058836     1.0 -0.263612   120.0  2학년  \n",
       "5    3.504366     2.0  0.503858   141.0  3학년  \n",
       "..        ...     ...       ...     ...  ...  \n",
       "745  4.438426    69.0  1.648926  2200.0  2학년  \n",
       "746  4.765482    99.0  2.158660  2217.0  3학년  \n",
       "747  4.532629    81.0  2.348799  1590.0  1학년  \n",
       "748  4.513428   108.0  2.628074  1747.0  2학년  \n",
       "749  4.877303   119.0  2.800538  1708.0  3학년  \n",
       "\n",
       "[726 rows x 13 columns]"
      ]
     },
     "execution_count": 32,
     "metadata": {},
     "output_type": "execute_result"
    }
   ],
   "source": [
    "df_2_cou_sum_log"
   ]
  },
  {
   "cell_type": "code",
   "execution_count": 33,
   "id": "76240024",
   "metadata": {},
   "outputs": [],
   "source": [
    "# 로그값이 음수인것을 통계에서 제외시킴\n",
    "for i in range(5):\n",
    "    df_2_cou_sum_log=df_2_cou_sum_log[df_2_cou_sum_log[f'{i+1}등급 %']>0]\n",
    "    \n",
    "    \n",
    "for i in range(5):\n",
    "    df_3_cou_sum_log=df_3_cou_sum_log[df_3_cou_sum_log[f'{i+1}등급 %']>0]\n",
    "    "
   ]
  },
  {
   "cell_type": "code",
   "execution_count": 34,
   "id": "382639b3",
   "metadata": {
    "scrolled": false
   },
   "outputs": [
    {
     "data": {
      "image/png": "[encoded data removed]",
      "text/plain": [
       "<Figure size 640x480 with 1 Axes>"
      ]
     },
     "metadata": {},
     "output_type": "display_data"
    }
   ],
   "source": [
    "import statsmodels.api as smi\n",
    "import pylab\n",
    "\n",
    "sample_data = df_2_cou_sum_log['1등급 %']\n",
    "\n",
    "smi.qqplot(sample_data, line = 'r')\n",
    "pylab.show()"
   ]
  },
  {
   "cell_type": "code",
   "execution_count": 35,
   "id": "535f56d1",
   "metadata": {},
   "outputs": [
    {
     "data": {
      "image/png": "[encoded data removed]",
      "text/plain": [
       "<Figure size 640x480 with 1 Axes>"
      ]
     },
     "metadata": {},
     "output_type": "display_data"
    }
   ],
   "source": [
    "import statsmodels.api as smi\n",
    "import pylab\n",
    "\n",
    "sample_data = df_3_cou_sum_log['1등급 %']\n",
    "\n",
    "smi.qqplot(sample_data, line = 'r')\n",
    "pylab.show()"
   ]
  },
  {
   "cell_type": "code",
   "execution_count": 36,
   "id": "d27490c4",
   "metadata": {},
   "outputs": [
    {
     "data": {
      "text/plain": [
       "<Axes: xlabel='1등급 %', ylabel='Density'>"
      ]
     },
     "execution_count": 36,
     "metadata": {},
     "output_type": "execute_result"
    },
    {
     "data": {
      "image/png": "[encoded data removed]",
      "text/plain": [
       "<Figure size 640x480 with 1 Axes>"
      ]
     },
     "metadata": {},
     "output_type": "display_data"
    }
   ],
   "source": [
    "sns.kdeplot((df_2_cou_sum_log['1등급 %']))"
   ]
  },
  {
   "cell_type": "code",
   "execution_count": 37,
   "id": "c583b8e8",
   "metadata": {},
   "outputs": [],
   "source": [
    "# 위의 그래프에서 보이듯 정규성을 만족한다 볼 수 있다"
   ]
  },
  {
   "cell_type": "code",
   "execution_count": 38,
   "id": "42b2aa82",
   "metadata": {},
   "outputs": [
    {
     "data": {
      "text/plain": [
       "<Axes: xlabel='1등급 %', ylabel='Density'>"
      ]
     },
     "execution_count": 38,
     "metadata": {},
     "output_type": "execute_result"
    },
    {
     "data": {
      "image/png": "[encoded data removed]",
      "text/plain": [
       "<Figure size 640x480 with 1 Axes>"
      ]
     },
     "metadata": {},
     "output_type": "display_data"
    }
   ],
   "source": [
    "sns.kdeplot((df_3_cou_sum_log['1등급 %']))"
   ]
  },
  {
   "cell_type": "code",
   "execution_count": null,
   "id": "952c1496",
   "metadata": {},
   "outputs": [],
   "source": []
  },
  {
   "cell_type": "code",
   "execution_count": null,
   "id": "92cea874",
   "metadata": {},
   "outputs": [],
   "source": []
  },
  {
   "cell_type": "code",
   "execution_count": null,
   "id": "572329a9",
   "metadata": {},
   "outputs": [],
   "source": []
  },
  {
   "cell_type": "code",
   "execution_count": null,
   "id": "426b40b3",
   "metadata": {},
   "outputs": [],
   "source": []
  },
  {
   "cell_type": "code",
   "execution_count": 39,
   "id": "81f3048e",
   "metadata": {},
   "outputs": [
    {
     "data": {
      "text/html": [
       "<div>\n",
       "<style scoped>\n",
       "    .dataframe tbody tr th:only-of-type {\n",
       "        vertical-align: middle;\n",
       "    }\n",
       "\n",
       "    .dataframe tbody tr th {\n",
       "        vertical-align: top;\n",
       "    }\n",
       "\n",
       "    .dataframe thead th {\n",
       "        text-align: right;\n",
       "    }\n",
       "</style>\n",
       "<table border=\"1\" class=\"dataframe\">\n",
       "  <thead>\n",
       "    <tr style=\"text-align: right;\">\n",
       "      <th></th>\n",
       "      <th>지역</th>\n",
       "      <th>1등급 인원</th>\n",
       "      <th>1등급 %</th>\n",
       "      <th>2등급 인원</th>\n",
       "      <th>2등급 %</th>\n",
       "      <th>3등급 인원</th>\n",
       "      <th>3등급 %</th>\n",
       "      <th>4등급 인원</th>\n",
       "      <th>4등급 %</th>\n",
       "      <th>5등급 인원</th>\n",
       "      <th>5등급 %</th>\n",
       "      <th>검사인원수</th>\n",
       "      <th>학년</th>\n",
       "    </tr>\n",
       "  </thead>\n",
       "  <tbody>\n",
       "    <tr>\n",
       "      <th>0</th>\n",
       "      <td>경상북도</td>\n",
       "      <td>72.0</td>\n",
       "      <td>1.975997</td>\n",
       "      <td>506.0</td>\n",
       "      <td>4.789208</td>\n",
       "      <td>867.0</td>\n",
       "      <td>5.566115</td>\n",
       "      <td>359.0</td>\n",
       "      <td>4.294033</td>\n",
       "      <td>26.0</td>\n",
       "      <td>0.506907</td>\n",
       "      <td>1830.0</td>\n",
       "      <td>1학년</td>\n",
       "    </tr>\n",
       "    <tr>\n",
       "      <th>1</th>\n",
       "      <td>경상북도</td>\n",
       "      <td>67.0</td>\n",
       "      <td>1.811471</td>\n",
       "      <td>543.0</td>\n",
       "      <td>4.830052</td>\n",
       "      <td>893.0</td>\n",
       "      <td>5.547758</td>\n",
       "      <td>372.0</td>\n",
       "      <td>4.284440</td>\n",
       "      <td>34.0</td>\n",
       "      <td>0.832688</td>\n",
       "      <td>1909.0</td>\n",
       "      <td>2학년</td>\n",
       "    </tr>\n",
       "    <tr>\n",
       "      <th>2</th>\n",
       "      <td>경상북도</td>\n",
       "      <td>62.0</td>\n",
       "      <td>1.678973</td>\n",
       "      <td>482.0</td>\n",
       "      <td>4.637900</td>\n",
       "      <td>833.0</td>\n",
       "      <td>5.427170</td>\n",
       "      <td>472.0</td>\n",
       "      <td>4.607626</td>\n",
       "      <td>87.0</td>\n",
       "      <td>2.168000</td>\n",
       "      <td>1936.0</td>\n",
       "      <td>3학년</td>\n",
       "    </tr>\n",
       "    <tr>\n",
       "      <th>3</th>\n",
       "      <td>경상북도</td>\n",
       "      <td>154.0</td>\n",
       "      <td>2.862154</td>\n",
       "      <td>829.0</td>\n",
       "      <td>5.290609</td>\n",
       "      <td>814.0</td>\n",
       "      <td>5.264236</td>\n",
       "      <td>292.0</td>\n",
       "      <td>3.785237</td>\n",
       "      <td>29.0</td>\n",
       "      <td>0.453122</td>\n",
       "      <td>2118.0</td>\n",
       "      <td>1학년</td>\n",
       "    </tr>\n",
       "    <tr>\n",
       "      <th>4</th>\n",
       "      <td>경상북도</td>\n",
       "      <td>91.0</td>\n",
       "      <td>2.083384</td>\n",
       "      <td>767.0</td>\n",
       "      <td>5.158822</td>\n",
       "      <td>996.0</td>\n",
       "      <td>5.535742</td>\n",
       "      <td>269.0</td>\n",
       "      <td>3.647199</td>\n",
       "      <td>24.0</td>\n",
       "      <td>0.160920</td>\n",
       "      <td>2147.0</td>\n",
       "      <td>2학년</td>\n",
       "    </tr>\n",
       "    <tr>\n",
       "      <th>...</th>\n",
       "      <td>...</td>\n",
       "      <td>...</td>\n",
       "      <td>...</td>\n",
       "      <td>...</td>\n",
       "      <td>...</td>\n",
       "      <td>...</td>\n",
       "      <td>...</td>\n",
       "      <td>...</td>\n",
       "      <td>...</td>\n",
       "      <td>...</td>\n",
       "      <td>...</td>\n",
       "      <td>...</td>\n",
       "      <td>...</td>\n",
       "    </tr>\n",
       "    <tr>\n",
       "      <th>120</th>\n",
       "      <td>서울특별시</td>\n",
       "      <td>95.0</td>\n",
       "      <td>2.424116</td>\n",
       "      <td>592.0</td>\n",
       "      <td>5.063762</td>\n",
       "      <td>824.0</td>\n",
       "      <td>5.540833</td>\n",
       "      <td>222.0</td>\n",
       "      <td>3.648696</td>\n",
       "      <td>37.0</td>\n",
       "      <td>1.063503</td>\n",
       "      <td>1770.0</td>\n",
       "      <td>1학년</td>\n",
       "    </tr>\n",
       "    <tr>\n",
       "      <th>121</th>\n",
       "      <td>서울특별시</td>\n",
       "      <td>95.0</td>\n",
       "      <td>2.224349</td>\n",
       "      <td>567.0</td>\n",
       "      <td>4.801676</td>\n",
       "      <td>977.0</td>\n",
       "      <td>5.586675</td>\n",
       "      <td>348.0</td>\n",
       "      <td>4.097442</td>\n",
       "      <td>46.0</td>\n",
       "      <td>1.178237</td>\n",
       "      <td>2033.0</td>\n",
       "      <td>2학년</td>\n",
       "    </tr>\n",
       "    <tr>\n",
       "      <th>122</th>\n",
       "      <td>서울특별시</td>\n",
       "      <td>84.0</td>\n",
       "      <td>1.922578</td>\n",
       "      <td>610.0</td>\n",
       "      <td>4.782775</td>\n",
       "      <td>1077.0</td>\n",
       "      <td>5.602914</td>\n",
       "      <td>382.0</td>\n",
       "      <td>4.107520</td>\n",
       "      <td>63.0</td>\n",
       "      <td>1.507414</td>\n",
       "      <td>2216.0</td>\n",
       "      <td>3학년</td>\n",
       "    </tr>\n",
       "    <tr>\n",
       "      <th>123</th>\n",
       "      <td>서울특별시</td>\n",
       "      <td>74.0</td>\n",
       "      <td>1.912267</td>\n",
       "      <td>616.0</td>\n",
       "      <td>4.969611</td>\n",
       "      <td>974.0</td>\n",
       "      <td>5.630580</td>\n",
       "      <td>273.0</td>\n",
       "      <td>3.795559</td>\n",
       "      <td>29.0</td>\n",
       "      <td>0.560715</td>\n",
       "      <td>1966.0</td>\n",
       "      <td>2학년</td>\n",
       "    </tr>\n",
       "    <tr>\n",
       "      <th>124</th>\n",
       "      <td>서울특별시</td>\n",
       "      <td>70.0</td>\n",
       "      <td>1.812293</td>\n",
       "      <td>613.0</td>\n",
       "      <td>4.942890</td>\n",
       "      <td>982.0</td>\n",
       "      <td>5.622696</td>\n",
       "      <td>296.0</td>\n",
       "      <td>3.892585</td>\n",
       "      <td>32.0</td>\n",
       "      <td>0.683472</td>\n",
       "      <td>1993.0</td>\n",
       "      <td>3학년</td>\n",
       "    </tr>\n",
       "  </tbody>\n",
       "</table>\n",
       "<p>125 rows × 13 columns</p>\n",
       "</div>"
      ],
      "text/plain": [
       "        지역  1등급 인원     1등급 %  2등급 인원     2등급 %  3등급 인원     3등급 %  4등급 인원  \\\n",
       "0     경상북도    72.0  1.975997   506.0  4.789208   867.0  5.566115   359.0   \n",
       "1     경상북도    67.0  1.811471   543.0  4.830052   893.0  5.547758   372.0   \n",
       "2     경상북도    62.0  1.678973   482.0  4.637900   833.0  5.427170   472.0   \n",
       "3     경상북도   154.0  2.862154   829.0  5.290609   814.0  5.264236   292.0   \n",
       "4     경상북도    91.0  2.083384   767.0  5.158822   996.0  5.535742   269.0   \n",
       "..     ...     ...       ...     ...       ...     ...       ...     ...   \n",
       "120  서울특별시    95.0  2.424116   592.0  5.063762   824.0  5.540833   222.0   \n",
       "121  서울특별시    95.0  2.224349   567.0  4.801676   977.0  5.586675   348.0   \n",
       "122  서울특별시    84.0  1.922578   610.0  4.782775  1077.0  5.602914   382.0   \n",
       "123  서울특별시    74.0  1.912267   616.0  4.969611   974.0  5.630580   273.0   \n",
       "124  서울특별시    70.0  1.812293   613.0  4.942890   982.0  5.622696   296.0   \n",
       "\n",
       "        4등급 %  5등급 인원     5등급 %   검사인원수   학년  \n",
       "0    4.294033    26.0  0.506907  1830.0  1학년  \n",
       "1    4.284440    34.0  0.832688  1909.0  2학년  \n",
       "2    4.607626    87.0  2.168000  1936.0  3학년  \n",
       "3    3.785237    29.0  0.453122  2118.0  1학년  \n",
       "4    3.647199    24.0  0.160920  2147.0  2학년  \n",
       "..        ...     ...       ...     ...  ...  \n",
       "120  3.648696    37.0  1.063503  1770.0  1학년  \n",
       "121  4.097442    46.0  1.178237  2033.0  2학년  \n",
       "122  4.107520    63.0  1.507414  2216.0  3학년  \n",
       "123  3.795559    29.0  0.560715  1966.0  2학년  \n",
       "124  3.892585    32.0  0.683472  1993.0  3학년  \n",
       "\n",
       "[125 rows x 13 columns]"
      ]
     },
     "execution_count": 39,
     "metadata": {},
     "output_type": "execute_result"
    }
   ],
   "source": [
    "# 지역이 서울과 경북에 해당되는 데이터만 가져옴\n",
    "str_expr = \"지역 in ['서울특별시' , '경상북도']\"\n",
    "df_2_AAA=df_2_cou_sum_log.query(str_expr)\n",
    "df_2_AAA.reset_index(drop=True, inplace=True) # 인덱스 재지정\n",
    "df_2_AAA"
   ]
  },
  {
   "cell_type": "code",
   "execution_count": 40,
   "id": "4ac6e1a2",
   "metadata": {},
   "outputs": [
    {
     "data": {
      "text/html": [
       "<div>\n",
       "<style scoped>\n",
       "    .dataframe tbody tr th:only-of-type {\n",
       "        vertical-align: middle;\n",
       "    }\n",
       "\n",
       "    .dataframe tbody tr th {\n",
       "        vertical-align: top;\n",
       "    }\n",
       "\n",
       "    .dataframe thead th {\n",
       "        text-align: right;\n",
       "    }\n",
       "</style>\n",
       "<table border=\"1\" class=\"dataframe\">\n",
       "  <thead>\n",
       "    <tr style=\"text-align: right;\">\n",
       "      <th></th>\n",
       "      <th>지역</th>\n",
       "      <th>1등급 인원</th>\n",
       "      <th>1등급 %</th>\n",
       "      <th>2등급 인원</th>\n",
       "      <th>2등급 %</th>\n",
       "      <th>3등급 인원</th>\n",
       "      <th>3등급 %</th>\n",
       "      <th>4등급 인원</th>\n",
       "      <th>4등급 %</th>\n",
       "      <th>5등급 인원</th>\n",
       "      <th>5등급 %</th>\n",
       "      <th>검사인원수</th>\n",
       "      <th>학년</th>\n",
       "    </tr>\n",
       "  </thead>\n",
       "  <tbody>\n",
       "    <tr>\n",
       "      <th>0</th>\n",
       "      <td>경상북도</td>\n",
       "      <td>9.0</td>\n",
       "      <td>2.737038</td>\n",
       "      <td>41.0</td>\n",
       "      <td>4.924575</td>\n",
       "      <td>65.0</td>\n",
       "      <td>5.589404</td>\n",
       "      <td>18.0</td>\n",
       "      <td>3.736930</td>\n",
       "      <td>2.0</td>\n",
       "      <td>0.566572</td>\n",
       "      <td>135.0</td>\n",
       "      <td>4학년</td>\n",
       "    </tr>\n",
       "    <tr>\n",
       "      <th>1</th>\n",
       "      <td>경상북도</td>\n",
       "      <td>64.0</td>\n",
       "      <td>1.578214</td>\n",
       "      <td>581.0</td>\n",
       "      <td>4.760860</td>\n",
       "      <td>1141.0</td>\n",
       "      <td>5.734520</td>\n",
       "      <td>329.0</td>\n",
       "      <td>3.940355</td>\n",
       "      <td>28.0</td>\n",
       "      <td>0.386259</td>\n",
       "      <td>2143.0</td>\n",
       "      <td>5학년</td>\n",
       "    </tr>\n",
       "    <tr>\n",
       "      <th>2</th>\n",
       "      <td>경상북도</td>\n",
       "      <td>91.0</td>\n",
       "      <td>2.100978</td>\n",
       "      <td>724.0</td>\n",
       "      <td>5.093180</td>\n",
       "      <td>997.0</td>\n",
       "      <td>5.554773</td>\n",
       "      <td>287.0</td>\n",
       "      <td>3.758197</td>\n",
       "      <td>22.0</td>\n",
       "      <td>0.052416</td>\n",
       "      <td>2121.0</td>\n",
       "      <td>6학년</td>\n",
       "    </tr>\n",
       "    <tr>\n",
       "      <th>3</th>\n",
       "      <td>경상북도</td>\n",
       "      <td>102.0</td>\n",
       "      <td>2.440421</td>\n",
       "      <td>659.0</td>\n",
       "      <td>5.132248</td>\n",
       "      <td>860.0</td>\n",
       "      <td>5.516299</td>\n",
       "      <td>232.0</td>\n",
       "      <td>3.626089</td>\n",
       "      <td>26.0</td>\n",
       "      <td>0.468844</td>\n",
       "      <td>1879.0</td>\n",
       "      <td>6학년</td>\n",
       "    </tr>\n",
       "    <tr>\n",
       "      <th>4</th>\n",
       "      <td>경상북도</td>\n",
       "      <td>9.0</td>\n",
       "      <td>2.715674</td>\n",
       "      <td>50.0</td>\n",
       "      <td>5.189666</td>\n",
       "      <td>54.0</td>\n",
       "      <td>5.300709</td>\n",
       "      <td>21.0</td>\n",
       "      <td>3.938098</td>\n",
       "      <td>3.0</td>\n",
       "      <td>1.130931</td>\n",
       "      <td>137.0</td>\n",
       "      <td>4학년</td>\n",
       "    </tr>\n",
       "    <tr>\n",
       "      <th>5</th>\n",
       "      <td>경상북도</td>\n",
       "      <td>152.0</td>\n",
       "      <td>1.767655</td>\n",
       "      <td>1422.0</td>\n",
       "      <td>4.993448</td>\n",
       "      <td>2265.0</td>\n",
       "      <td>5.665023</td>\n",
       "      <td>559.0</td>\n",
       "      <td>3.646393</td>\n",
       "      <td>66.0</td>\n",
       "      <td>0.563646</td>\n",
       "      <td>4464.0</td>\n",
       "      <td>5학년</td>\n",
       "    </tr>\n",
       "    <tr>\n",
       "      <th>6</th>\n",
       "      <td>경상북도</td>\n",
       "      <td>140.0</td>\n",
       "      <td>1.738984</td>\n",
       "      <td>1332.0</td>\n",
       "      <td>4.989139</td>\n",
       "      <td>2071.0</td>\n",
       "      <td>5.625855</td>\n",
       "      <td>602.0</td>\n",
       "      <td>3.843381</td>\n",
       "      <td>49.0</td>\n",
       "      <td>0.224040</td>\n",
       "      <td>4194.0</td>\n",
       "      <td>6학년</td>\n",
       "    </tr>\n",
       "    <tr>\n",
       "      <th>7</th>\n",
       "      <td>경상북도</td>\n",
       "      <td>3.0</td>\n",
       "      <td>1.980757</td>\n",
       "      <td>29.0</td>\n",
       "      <td>5.253914</td>\n",
       "      <td>32.0</td>\n",
       "      <td>5.395920</td>\n",
       "      <td>11.0</td>\n",
       "      <td>3.855392</td>\n",
       "      <td>1.0</td>\n",
       "      <td>0.396159</td>\n",
       "      <td>76.0</td>\n",
       "      <td>6학년</td>\n",
       "    </tr>\n",
       "    <tr>\n",
       "      <th>8</th>\n",
       "      <td>경상북도</td>\n",
       "      <td>36.0</td>\n",
       "      <td>1.769349</td>\n",
       "      <td>316.0</td>\n",
       "      <td>4.903231</td>\n",
       "      <td>500.0</td>\n",
       "      <td>5.565232</td>\n",
       "      <td>191.0</td>\n",
       "      <td>4.176881</td>\n",
       "      <td>13.0</td>\n",
       "      <td>0.299831</td>\n",
       "      <td>1056.0</td>\n",
       "      <td>6학년</td>\n",
       "    </tr>\n",
       "    <tr>\n",
       "      <th>9</th>\n",
       "      <td>경상북도</td>\n",
       "      <td>9.0</td>\n",
       "      <td>2.346248</td>\n",
       "      <td>63.0</td>\n",
       "      <td>5.153522</td>\n",
       "      <td>85.0</td>\n",
       "      <td>5.585654</td>\n",
       "      <td>18.0</td>\n",
       "      <td>3.346106</td>\n",
       "      <td>2.0</td>\n",
       "      <td>0.176323</td>\n",
       "      <td>177.0</td>\n",
       "      <td>5학년</td>\n",
       "    </tr>\n",
       "    <tr>\n",
       "      <th>10</th>\n",
       "      <td>경상북도</td>\n",
       "      <td>26.0</td>\n",
       "      <td>1.993493</td>\n",
       "      <td>223.0</td>\n",
       "      <td>5.093814</td>\n",
       "      <td>313.0</td>\n",
       "      <td>5.582947</td>\n",
       "      <td>83.0</td>\n",
       "      <td>3.668006</td>\n",
       "      <td>8.0</td>\n",
       "      <td>0.292782</td>\n",
       "      <td>653.0</td>\n",
       "      <td>5학년</td>\n",
       "    </tr>\n",
       "    <tr>\n",
       "      <th>11</th>\n",
       "      <td>경상북도</td>\n",
       "      <td>4.0</td>\n",
       "      <td>1.358396</td>\n",
       "      <td>44.0</td>\n",
       "      <td>4.817879</td>\n",
       "      <td>77.0</td>\n",
       "      <td>5.625241</td>\n",
       "      <td>28.0</td>\n",
       "      <td>4.165832</td>\n",
       "      <td>3.0</td>\n",
       "      <td>0.943359</td>\n",
       "      <td>156.0</td>\n",
       "      <td>4학년</td>\n",
       "    </tr>\n",
       "    <tr>\n",
       "      <th>12</th>\n",
       "      <td>경상북도</td>\n",
       "      <td>42.0</td>\n",
       "      <td>1.614945</td>\n",
       "      <td>381.0</td>\n",
       "      <td>4.796494</td>\n",
       "      <td>748.0</td>\n",
       "      <td>5.769745</td>\n",
       "      <td>177.0</td>\n",
       "      <td>3.690417</td>\n",
       "      <td>23.0</td>\n",
       "      <td>0.746743</td>\n",
       "      <td>1371.0</td>\n",
       "      <td>5학년</td>\n",
       "    </tr>\n",
       "    <tr>\n",
       "      <th>13</th>\n",
       "      <td>경상북도</td>\n",
       "      <td>8.0</td>\n",
       "      <td>1.950468</td>\n",
       "      <td>54.0</td>\n",
       "      <td>4.705259</td>\n",
       "      <td>106.0</td>\n",
       "      <td>5.678297</td>\n",
       "      <td>34.0</td>\n",
       "      <td>4.037821</td>\n",
       "      <td>5.0</td>\n",
       "      <td>1.272023</td>\n",
       "      <td>207.0</td>\n",
       "      <td>5학년</td>\n",
       "    </tr>\n",
       "    <tr>\n",
       "      <th>14</th>\n",
       "      <td>경상북도</td>\n",
       "      <td>4.0</td>\n",
       "      <td>2.136191</td>\n",
       "      <td>20.0</td>\n",
       "      <td>4.457988</td>\n",
       "      <td>49.0</td>\n",
       "      <td>5.750767</td>\n",
       "      <td>17.0</td>\n",
       "      <td>4.223500</td>\n",
       "      <td>1.0</td>\n",
       "      <td>0.136191</td>\n",
       "      <td>91.0</td>\n",
       "      <td>5학년</td>\n",
       "    </tr>\n",
       "    <tr>\n",
       "      <th>15</th>\n",
       "      <td>경상북도</td>\n",
       "      <td>3.0</td>\n",
       "      <td>2.078951</td>\n",
       "      <td>29.0</td>\n",
       "      <td>5.352088</td>\n",
       "      <td>28.0</td>\n",
       "      <td>5.301478</td>\n",
       "      <td>10.0</td>\n",
       "      <td>3.816088</td>\n",
       "      <td>1.0</td>\n",
       "      <td>0.493647</td>\n",
       "      <td>71.0</td>\n",
       "      <td>6학년</td>\n",
       "    </tr>\n",
       "    <tr>\n",
       "      <th>16</th>\n",
       "      <td>경상북도</td>\n",
       "      <td>20.0</td>\n",
       "      <td>1.305679</td>\n",
       "      <td>245.0</td>\n",
       "      <td>4.920484</td>\n",
       "      <td>371.0</td>\n",
       "      <td>5.519133</td>\n",
       "      <td>150.0</td>\n",
       "      <td>4.212647</td>\n",
       "      <td>23.0</td>\n",
       "      <td>1.507414</td>\n",
       "      <td>809.0</td>\n",
       "      <td>5학년</td>\n",
       "    </tr>\n",
       "    <tr>\n",
       "      <th>17</th>\n",
       "      <td>경상북도</td>\n",
       "      <td>34.0</td>\n",
       "      <td>2.098285</td>\n",
       "      <td>226.0</td>\n",
       "      <td>4.831016</td>\n",
       "      <td>366.0</td>\n",
       "      <td>5.526570</td>\n",
       "      <td>151.0</td>\n",
       "      <td>4.249294</td>\n",
       "      <td>17.0</td>\n",
       "      <td>1.098285</td>\n",
       "      <td>794.0</td>\n",
       "      <td>6학년</td>\n",
       "    </tr>\n",
       "    <tr>\n",
       "      <th>18</th>\n",
       "      <td>경상북도</td>\n",
       "      <td>3.0</td>\n",
       "      <td>2.802607</td>\n",
       "      <td>13.0</td>\n",
       "      <td>4.918052</td>\n",
       "      <td>18.0</td>\n",
       "      <td>5.387500</td>\n",
       "      <td>7.0</td>\n",
       "      <td>4.024940</td>\n",
       "      <td>2.0</td>\n",
       "      <td>2.217541</td>\n",
       "      <td>43.0</td>\n",
       "      <td>4학년</td>\n",
       "    </tr>\n",
       "    <tr>\n",
       "      <th>19</th>\n",
       "      <td>경상북도</td>\n",
       "      <td>12.0</td>\n",
       "      <td>1.920293</td>\n",
       "      <td>122.0</td>\n",
       "      <td>5.266262</td>\n",
       "      <td>133.0</td>\n",
       "      <td>5.390805</td>\n",
       "      <td>46.0</td>\n",
       "      <td>3.859075</td>\n",
       "      <td>4.0</td>\n",
       "      <td>0.335712</td>\n",
       "      <td>317.0</td>\n",
       "      <td>5학년</td>\n",
       "    </tr>\n",
       "    <tr>\n",
       "      <th>20</th>\n",
       "      <td>경상북도</td>\n",
       "      <td>22.0</td>\n",
       "      <td>2.627607</td>\n",
       "      <td>153.0</td>\n",
       "      <td>5.425526</td>\n",
       "      <td>138.0</td>\n",
       "      <td>5.276646</td>\n",
       "      <td>37.0</td>\n",
       "      <td>3.377540</td>\n",
       "      <td>6.0</td>\n",
       "      <td>0.752749</td>\n",
       "      <td>356.0</td>\n",
       "      <td>6학년</td>\n",
       "    </tr>\n",
       "    <tr>\n",
       "      <th>21</th>\n",
       "      <td>경상북도</td>\n",
       "      <td>3.0</td>\n",
       "      <td>0.659011</td>\n",
       "      <td>54.0</td>\n",
       "      <td>4.828885</td>\n",
       "      <td>85.0</td>\n",
       "      <td>5.483397</td>\n",
       "      <td>45.0</td>\n",
       "      <td>4.565841</td>\n",
       "      <td>3.0</td>\n",
       "      <td>0.659011</td>\n",
       "      <td>190.0</td>\n",
       "      <td>6학년</td>\n",
       "    </tr>\n",
       "    <tr>\n",
       "      <th>22</th>\n",
       "      <td>경상북도</td>\n",
       "      <td>13.0</td>\n",
       "      <td>2.844386</td>\n",
       "      <td>64.0</td>\n",
       "      <td>5.144006</td>\n",
       "      <td>74.0</td>\n",
       "      <td>5.353464</td>\n",
       "      <td>26.0</td>\n",
       "      <td>3.844486</td>\n",
       "      <td>4.0</td>\n",
       "      <td>1.144046</td>\n",
       "      <td>181.0</td>\n",
       "      <td>5학년</td>\n",
       "    </tr>\n",
       "    <tr>\n",
       "      <th>23</th>\n",
       "      <td>경상북도</td>\n",
       "      <td>15.0</td>\n",
       "      <td>3.075019</td>\n",
       "      <td>59.0</td>\n",
       "      <td>5.050763</td>\n",
       "      <td>79.0</td>\n",
       "      <td>5.471903</td>\n",
       "      <td>22.0</td>\n",
       "      <td>3.627607</td>\n",
       "      <td>3.0</td>\n",
       "      <td>0.752749</td>\n",
       "      <td>178.0</td>\n",
       "      <td>6학년</td>\n",
       "    </tr>\n",
       "    <tr>\n",
       "      <th>24</th>\n",
       "      <td>경상북도</td>\n",
       "      <td>79.0</td>\n",
       "      <td>2.826193</td>\n",
       "      <td>366.0</td>\n",
       "      <td>5.038041</td>\n",
       "      <td>470.0</td>\n",
       "      <td>5.398829</td>\n",
       "      <td>183.0</td>\n",
       "      <td>4.037997</td>\n",
       "      <td>16.0</td>\n",
       "      <td>0.522056</td>\n",
       "      <td>1114.0</td>\n",
       "      <td>5학년</td>\n",
       "    </tr>\n",
       "    <tr>\n",
       "      <th>25</th>\n",
       "      <td>경상북도</td>\n",
       "      <td>49.0</td>\n",
       "      <td>2.176323</td>\n",
       "      <td>379.0</td>\n",
       "      <td>5.127757</td>\n",
       "      <td>524.0</td>\n",
       "      <td>5.595116</td>\n",
       "      <td>121.0</td>\n",
       "      <td>3.480524</td>\n",
       "      <td>11.0</td>\n",
       "      <td>0.021480</td>\n",
       "      <td>1084.0</td>\n",
       "      <td>6학년</td>\n",
       "    </tr>\n",
       "    <tr>\n",
       "      <th>26</th>\n",
       "      <td>경상북도</td>\n",
       "      <td>139.0</td>\n",
       "      <td>2.621290</td>\n",
       "      <td>741.0</td>\n",
       "      <td>5.035712</td>\n",
       "      <td>1029.0</td>\n",
       "      <td>5.509411</td>\n",
       "      <td>306.0</td>\n",
       "      <td>3.759795</td>\n",
       "      <td>44.0</td>\n",
       "      <td>0.961994</td>\n",
       "      <td>2259.0</td>\n",
       "      <td>5학년</td>\n",
       "    </tr>\n",
       "    <tr>\n",
       "      <th>27</th>\n",
       "      <td>경상북도</td>\n",
       "      <td>92.0</td>\n",
       "      <td>2.179511</td>\n",
       "      <td>687.0</td>\n",
       "      <td>5.080061</td>\n",
       "      <td>884.0</td>\n",
       "      <td>5.443772</td>\n",
       "      <td>334.0</td>\n",
       "      <td>4.039577</td>\n",
       "      <td>34.0</td>\n",
       "      <td>0.743300</td>\n",
       "      <td>2031.0</td>\n",
       "      <td>6학년</td>\n",
       "    </tr>\n",
       "    <tr>\n",
       "      <th>28</th>\n",
       "      <td>경상북도</td>\n",
       "      <td>3.0</td>\n",
       "      <td>1.130931</td>\n",
       "      <td>18.0</td>\n",
       "      <td>3.715784</td>\n",
       "      <td>49.0</td>\n",
       "      <td>5.160517</td>\n",
       "      <td>59.0</td>\n",
       "      <td>5.428477</td>\n",
       "      <td>8.0</td>\n",
       "      <td>2.545721</td>\n",
       "      <td>137.0</td>\n",
       "      <td>4학년</td>\n",
       "    </tr>\n",
       "    <tr>\n",
       "      <th>29</th>\n",
       "      <td>경상북도</td>\n",
       "      <td>99.0</td>\n",
       "      <td>1.990592</td>\n",
       "      <td>793.0</td>\n",
       "      <td>4.992542</td>\n",
       "      <td>1224.0</td>\n",
       "      <td>5.618738</td>\n",
       "      <td>343.0</td>\n",
       "      <td>3.783457</td>\n",
       "      <td>32.0</td>\n",
       "      <td>0.361768</td>\n",
       "      <td>2491.0</td>\n",
       "      <td>5학년</td>\n",
       "    </tr>\n",
       "    <tr>\n",
       "      <th>30</th>\n",
       "      <td>서울특별시</td>\n",
       "      <td>10.0</td>\n",
       "      <td>2.403540</td>\n",
       "      <td>76.0</td>\n",
       "      <td>5.329554</td>\n",
       "      <td>84.0</td>\n",
       "      <td>5.473917</td>\n",
       "      <td>17.0</td>\n",
       "      <td>3.169123</td>\n",
       "      <td>2.0</td>\n",
       "      <td>0.081340</td>\n",
       "      <td>189.0</td>\n",
       "      <td>4학년</td>\n",
       "    </tr>\n",
       "    <tr>\n",
       "      <th>31</th>\n",
       "      <td>서울특별시</td>\n",
       "      <td>180.0</td>\n",
       "      <td>2.272620</td>\n",
       "      <td>1341.0</td>\n",
       "      <td>5.169925</td>\n",
       "      <td>1808.0</td>\n",
       "      <td>5.601013</td>\n",
       "      <td>345.0</td>\n",
       "      <td>3.211324</td>\n",
       "      <td>51.0</td>\n",
       "      <td>0.453122</td>\n",
       "      <td>3725.0</td>\n",
       "      <td>5학년</td>\n",
       "    </tr>\n",
       "    <tr>\n",
       "      <th>32</th>\n",
       "      <td>서울특별시</td>\n",
       "      <td>59.0</td>\n",
       "      <td>1.875387</td>\n",
       "      <td>511.0</td>\n",
       "      <td>4.990002</td>\n",
       "      <td>786.0</td>\n",
       "      <td>5.611202</td>\n",
       "      <td>229.0</td>\n",
       "      <td>3.831979</td>\n",
       "      <td>23.0</td>\n",
       "      <td>0.516015</td>\n",
       "      <td>1608.0</td>\n",
       "      <td>5학년</td>\n",
       "    </tr>\n",
       "    <tr>\n",
       "      <th>33</th>\n",
       "      <td>서울특별시</td>\n",
       "      <td>92.0</td>\n",
       "      <td>2.502076</td>\n",
       "      <td>520.0</td>\n",
       "      <td>5.000901</td>\n",
       "      <td>782.0</td>\n",
       "      <td>5.589554</td>\n",
       "      <td>200.0</td>\n",
       "      <td>3.622345</td>\n",
       "      <td>30.0</td>\n",
       "      <td>0.885184</td>\n",
       "      <td>1624.0</td>\n",
       "      <td>6학년</td>\n",
       "    </tr>\n",
       "    <tr>\n",
       "      <th>34</th>\n",
       "      <td>서울특별시</td>\n",
       "      <td>128.0</td>\n",
       "      <td>2.591919</td>\n",
       "      <td>755.0</td>\n",
       "      <td>5.152305</td>\n",
       "      <td>1000.0</td>\n",
       "      <td>5.557747</td>\n",
       "      <td>215.0</td>\n",
       "      <td>3.340135</td>\n",
       "      <td>25.0</td>\n",
       "      <td>0.236340</td>\n",
       "      <td>2123.0</td>\n",
       "      <td>6학년</td>\n",
       "    </tr>\n",
       "    <tr>\n",
       "      <th>35</th>\n",
       "      <td>서울특별시</td>\n",
       "      <td>105.0</td>\n",
       "      <td>1.880881</td>\n",
       "      <td>931.0</td>\n",
       "      <td>5.029232</td>\n",
       "      <td>1425.0</td>\n",
       "      <td>5.643337</td>\n",
       "      <td>361.0</td>\n",
       "      <td>3.662433</td>\n",
       "      <td>29.0</td>\n",
       "      <td>0.024320</td>\n",
       "      <td>2851.0</td>\n",
       "      <td>5학년</td>\n",
       "    </tr>\n",
       "    <tr>\n",
       "      <th>36</th>\n",
       "      <td>서울특별시</td>\n",
       "      <td>112.0</td>\n",
       "      <td>2.063158</td>\n",
       "      <td>940.0</td>\n",
       "      <td>5.132371</td>\n",
       "      <td>1283.0</td>\n",
       "      <td>5.581140</td>\n",
       "      <td>318.0</td>\n",
       "      <td>3.568762</td>\n",
       "      <td>27.0</td>\n",
       "      <td>0.010064</td>\n",
       "      <td>2680.0</td>\n",
       "      <td>6학년</td>\n",
       "    </tr>\n",
       "    <tr>\n",
       "      <th>37</th>\n",
       "      <td>서울특별시</td>\n",
       "      <td>7.0</td>\n",
       "      <td>2.301588</td>\n",
       "      <td>40.0</td>\n",
       "      <td>4.816036</td>\n",
       "      <td>65.0</td>\n",
       "      <td>5.516488</td>\n",
       "      <td>27.0</td>\n",
       "      <td>4.248990</td>\n",
       "      <td>3.0</td>\n",
       "      <td>1.079293</td>\n",
       "      <td>142.0</td>\n",
       "      <td>4학년</td>\n",
       "    </tr>\n",
       "    <tr>\n",
       "      <th>38</th>\n",
       "      <td>서울특별시</td>\n",
       "      <td>54.0</td>\n",
       "      <td>2.005400</td>\n",
       "      <td>422.0</td>\n",
       "      <td>4.971544</td>\n",
       "      <td>655.0</td>\n",
       "      <td>5.605820</td>\n",
       "      <td>188.0</td>\n",
       "      <td>3.805086</td>\n",
       "      <td>26.0</td>\n",
       "      <td>0.950842</td>\n",
       "      <td>1345.0</td>\n",
       "      <td>5학년</td>\n",
       "    </tr>\n",
       "    <tr>\n",
       "      <th>39</th>\n",
       "      <td>서울특별시</td>\n",
       "      <td>90.0</td>\n",
       "      <td>2.091869</td>\n",
       "      <td>678.0</td>\n",
       "      <td>5.005265</td>\n",
       "      <td>1047.0</td>\n",
       "      <td>5.632181</td>\n",
       "      <td>271.0</td>\n",
       "      <td>3.682349</td>\n",
       "      <td>25.0</td>\n",
       "      <td>0.243669</td>\n",
       "      <td>2111.0</td>\n",
       "      <td>5학년</td>\n",
       "    </tr>\n",
       "    <tr>\n",
       "      <th>40</th>\n",
       "      <td>서울특별시</td>\n",
       "      <td>112.0</td>\n",
       "      <td>2.124328</td>\n",
       "      <td>897.0</td>\n",
       "      <td>5.125816</td>\n",
       "      <td>1281.0</td>\n",
       "      <td>5.639927</td>\n",
       "      <td>253.0</td>\n",
       "      <td>3.299831</td>\n",
       "      <td>26.0</td>\n",
       "      <td>0.017209</td>\n",
       "      <td>2569.0</td>\n",
       "      <td>5학년</td>\n",
       "    </tr>\n",
       "    <tr>\n",
       "      <th>41</th>\n",
       "      <td>서울특별시</td>\n",
       "      <td>50.0</td>\n",
       "      <td>3.470667</td>\n",
       "      <td>189.0</td>\n",
       "      <td>5.389119</td>\n",
       "      <td>142.0</td>\n",
       "      <td>4.976639</td>\n",
       "      <td>50.0</td>\n",
       "      <td>3.470667</td>\n",
       "      <td>20.0</td>\n",
       "      <td>2.148934</td>\n",
       "      <td>451.0</td>\n",
       "      <td>4학년</td>\n",
       "    </tr>\n",
       "    <tr>\n",
       "      <th>42</th>\n",
       "      <td>서울특별시</td>\n",
       "      <td>87.0</td>\n",
       "      <td>2.055543</td>\n",
       "      <td>715.0</td>\n",
       "      <td>5.094278</td>\n",
       "      <td>1040.0</td>\n",
       "      <td>5.634855</td>\n",
       "      <td>214.0</td>\n",
       "      <td>3.354029</td>\n",
       "      <td>37.0</td>\n",
       "      <td>0.822118</td>\n",
       "      <td>2093.0</td>\n",
       "      <td>5학년</td>\n",
       "    </tr>\n",
       "    <tr>\n",
       "      <th>43</th>\n",
       "      <td>서울특별시</td>\n",
       "      <td>18.0</td>\n",
       "      <td>4.354382</td>\n",
       "      <td>37.0</td>\n",
       "      <td>5.393862</td>\n",
       "      <td>23.0</td>\n",
       "      <td>4.707966</td>\n",
       "      <td>7.0</td>\n",
       "      <td>2.991862</td>\n",
       "      <td>3.0</td>\n",
       "      <td>1.769349</td>\n",
       "      <td>88.0</td>\n",
       "      <td>4학년</td>\n",
       "    </tr>\n",
       "    <tr>\n",
       "      <th>44</th>\n",
       "      <td>서울특별시</td>\n",
       "      <td>47.0</td>\n",
       "      <td>2.125651</td>\n",
       "      <td>371.0</td>\n",
       "      <td>5.106348</td>\n",
       "      <td>543.0</td>\n",
       "      <td>5.655867</td>\n",
       "      <td>104.0</td>\n",
       "      <td>3.271426</td>\n",
       "      <td>12.0</td>\n",
       "      <td>0.155749</td>\n",
       "      <td>1077.0</td>\n",
       "      <td>5학년</td>\n",
       "    </tr>\n",
       "    <tr>\n",
       "      <th>45</th>\n",
       "      <td>서울특별시</td>\n",
       "      <td>13.0</td>\n",
       "      <td>3.278133</td>\n",
       "      <td>22.0</td>\n",
       "      <td>4.037206</td>\n",
       "      <td>52.0</td>\n",
       "      <td>5.278208</td>\n",
       "      <td>44.0</td>\n",
       "      <td>5.037206</td>\n",
       "      <td>3.0</td>\n",
       "      <td>1.162855</td>\n",
       "      <td>134.0</td>\n",
       "      <td>4학년</td>\n",
       "    </tr>\n",
       "    <tr>\n",
       "      <th>46</th>\n",
       "      <td>서울특별시</td>\n",
       "      <td>71.0</td>\n",
       "      <td>1.655352</td>\n",
       "      <td>723.0</td>\n",
       "      <td>5.003422</td>\n",
       "      <td>1134.0</td>\n",
       "      <td>5.652802</td>\n",
       "      <td>286.0</td>\n",
       "      <td>3.665506</td>\n",
       "      <td>40.0</td>\n",
       "      <td>0.827819</td>\n",
       "      <td>2254.0</td>\n",
       "      <td>5학년</td>\n",
       "    </tr>\n",
       "  </tbody>\n",
       "</table>\n",
       "</div>"
      ],
      "text/plain": [
       "       지역  1등급 인원     1등급 %  2등급 인원     2등급 %  3등급 인원     3등급 %  4등급 인원  \\\n",
       "0    경상북도     9.0  2.737038    41.0  4.924575    65.0  5.589404    18.0   \n",
       "1    경상북도    64.0  1.578214   581.0  4.760860  1141.0  5.734520   329.0   \n",
       "2    경상북도    91.0  2.100978   724.0  5.093180   997.0  5.554773   287.0   \n",
       "3    경상북도   102.0  2.440421   659.0  5.132248   860.0  5.516299   232.0   \n",
       "4    경상북도     9.0  2.715674    50.0  5.189666    54.0  5.300709    21.0   \n",
       "5    경상북도   152.0  1.767655  1422.0  4.993448  2265.0  5.665023   559.0   \n",
       "6    경상북도   140.0  1.738984  1332.0  4.989139  2071.0  5.625855   602.0   \n",
       "7    경상북도     3.0  1.980757    29.0  5.253914    32.0  5.395920    11.0   \n",
       "8    경상북도    36.0  1.769349   316.0  4.903231   500.0  5.565232   191.0   \n",
       "9    경상북도     9.0  2.346248    63.0  5.153522    85.0  5.585654    18.0   \n",
       "10   경상북도    26.0  1.993493   223.0  5.093814   313.0  5.582947    83.0   \n",
       "11   경상북도     4.0  1.358396    44.0  4.817879    77.0  5.625241    28.0   \n",
       "12   경상북도    42.0  1.614945   381.0  4.796494   748.0  5.769745   177.0   \n",
       "13   경상북도     8.0  1.950468    54.0  4.705259   106.0  5.678297    34.0   \n",
       "14   경상북도     4.0  2.136191    20.0  4.457988    49.0  5.750767    17.0   \n",
       "15   경상북도     3.0  2.078951    29.0  5.352088    28.0  5.301478    10.0   \n",
       "16   경상북도    20.0  1.305679   245.0  4.920484   371.0  5.519133   150.0   \n",
       "17   경상북도    34.0  2.098285   226.0  4.831016   366.0  5.526570   151.0   \n",
       "18   경상북도     3.0  2.802607    13.0  4.918052    18.0  5.387500     7.0   \n",
       "19   경상북도    12.0  1.920293   122.0  5.266262   133.0  5.390805    46.0   \n",
       "20   경상북도    22.0  2.627607   153.0  5.425526   138.0  5.276646    37.0   \n",
       "21   경상북도     3.0  0.659011    54.0  4.828885    85.0  5.483397    45.0   \n",
       "22   경상북도    13.0  2.844386    64.0  5.144006    74.0  5.353464    26.0   \n",
       "23   경상북도    15.0  3.075019    59.0  5.050763    79.0  5.471903    22.0   \n",
       "24   경상북도    79.0  2.826193   366.0  5.038041   470.0  5.398829   183.0   \n",
       "25   경상북도    49.0  2.176323   379.0  5.127757   524.0  5.595116   121.0   \n",
       "26   경상북도   139.0  2.621290   741.0  5.035712  1029.0  5.509411   306.0   \n",
       "27   경상북도    92.0  2.179511   687.0  5.080061   884.0  5.443772   334.0   \n",
       "28   경상북도     3.0  1.130931    18.0  3.715784    49.0  5.160517    59.0   \n",
       "29   경상북도    99.0  1.990592   793.0  4.992542  1224.0  5.618738   343.0   \n",
       "30  서울특별시    10.0  2.403540    76.0  5.329554    84.0  5.473917    17.0   \n",
       "31  서울특별시   180.0  2.272620  1341.0  5.169925  1808.0  5.601013   345.0   \n",
       "32  서울특별시    59.0  1.875387   511.0  4.990002   786.0  5.611202   229.0   \n",
       "33  서울특별시    92.0  2.502076   520.0  5.000901   782.0  5.589554   200.0   \n",
       "34  서울특별시   128.0  2.591919   755.0  5.152305  1000.0  5.557747   215.0   \n",
       "35  서울특별시   105.0  1.880881   931.0  5.029232  1425.0  5.643337   361.0   \n",
       "36  서울특별시   112.0  2.063158   940.0  5.132371  1283.0  5.581140   318.0   \n",
       "37  서울특별시     7.0  2.301588    40.0  4.816036    65.0  5.516488    27.0   \n",
       "38  서울특별시    54.0  2.005400   422.0  4.971544   655.0  5.605820   188.0   \n",
       "39  서울특별시    90.0  2.091869   678.0  5.005265  1047.0  5.632181   271.0   \n",
       "40  서울특별시   112.0  2.124328   897.0  5.125816  1281.0  5.639927   253.0   \n",
       "41  서울특별시    50.0  3.470667   189.0  5.389119   142.0  4.976639    50.0   \n",
       "42  서울특별시    87.0  2.055543   715.0  5.094278  1040.0  5.634855   214.0   \n",
       "43  서울특별시    18.0  4.354382    37.0  5.393862    23.0  4.707966     7.0   \n",
       "44  서울특별시    47.0  2.125651   371.0  5.106348   543.0  5.655867   104.0   \n",
       "45  서울특별시    13.0  3.278133    22.0  4.037206    52.0  5.278208    44.0   \n",
       "46  서울특별시    71.0  1.655352   723.0  5.003422  1134.0  5.652802   286.0   \n",
       "\n",
       "       4등급 %  5등급 인원     5등급 %   검사인원수   학년  \n",
       "0   3.736930     2.0  0.566572   135.0  4학년  \n",
       "1   3.940355    28.0  0.386259  2143.0  5학년  \n",
       "2   3.758197    22.0  0.052416  2121.0  6학년  \n",
       "3   3.626089    26.0  0.468844  1879.0  6학년  \n",
       "4   3.938098     3.0  1.130931   137.0  4학년  \n",
       "5   3.646393    66.0  0.563646  4464.0  5학년  \n",
       "6   3.843381    49.0  0.224040  4194.0  6학년  \n",
       "7   3.855392     1.0  0.396159    76.0  6학년  \n",
       "8   4.176881    13.0  0.299831  1056.0  6학년  \n",
       "9   3.346106     2.0  0.176323   177.0  5학년  \n",
       "10  3.668006     8.0  0.292782   653.0  5학년  \n",
       "11  4.165832     3.0  0.943359   156.0  4학년  \n",
       "12  3.690417    23.0  0.746743  1371.0  5학년  \n",
       "13  4.037821     5.0  1.272023   207.0  5학년  \n",
       "14  4.223500     1.0  0.136191    91.0  5학년  \n",
       "15  3.816088     1.0  0.493647    71.0  6학년  \n",
       "16  4.212647    23.0  1.507414   809.0  5학년  \n",
       "17  4.249294    17.0  1.098285   794.0  6학년  \n",
       "18  4.024940     2.0  2.217541    43.0  4학년  \n",
       "19  3.859075     4.0  0.335712   317.0  5학년  \n",
       "20  3.377540     6.0  0.752749   356.0  6학년  \n",
       "21  4.565841     3.0  0.659011   190.0  6학년  \n",
       "22  3.844486     4.0  1.144046   181.0  5학년  \n",
       "23  3.627607     3.0  0.752749   178.0  6학년  \n",
       "24  4.037997    16.0  0.522056  1114.0  5학년  \n",
       "25  3.480524    11.0  0.021480  1084.0  6학년  \n",
       "26  3.759795    44.0  0.961994  2259.0  5학년  \n",
       "27  4.039577    34.0  0.743300  2031.0  6학년  \n",
       "28  5.428477     8.0  2.545721   137.0  4학년  \n",
       "29  3.783457    32.0  0.361768  2491.0  5학년  \n",
       "30  3.169123     2.0  0.081340   189.0  4학년  \n",
       "31  3.211324    51.0  0.453122  3725.0  5학년  \n",
       "32  3.831979    23.0  0.516015  1608.0  5학년  \n",
       "33  3.622345    30.0  0.885184  1624.0  6학년  \n",
       "34  3.340135    25.0  0.236340  2123.0  6학년  \n",
       "35  3.662433    29.0  0.024320  2851.0  5학년  \n",
       "36  3.568762    27.0  0.010064  2680.0  6학년  \n",
       "37  4.248990     3.0  1.079293   142.0  4학년  \n",
       "38  3.805086    26.0  0.950842  1345.0  5학년  \n",
       "39  3.682349    25.0  0.243669  2111.0  5학년  \n",
       "40  3.299831    26.0  0.017209  2569.0  5학년  \n",
       "41  3.470667    20.0  2.148934   451.0  4학년  \n",
       "42  3.354029    37.0  0.822118  2093.0  5학년  \n",
       "43  2.991862     3.0  1.769349    88.0  4학년  \n",
       "44  3.271426    12.0  0.155749  1077.0  5학년  \n",
       "45  5.037206     3.0  1.162855   134.0  4학년  \n",
       "46  3.665506    40.0  0.827819  2254.0  5학년  "
      ]
     },
     "execution_count": 40,
     "metadata": {},
     "output_type": "execute_result"
    }
   ],
   "source": [
    "# 지역이 서울과 경북에 해당되는 데이터만 가져옴(초등학교)\n",
    "str_expr = \"지역 in ['서울특별시' , '경상북도']\"\n",
    "df_3_AAA=df_3_cou_sum_log.query(str_expr)\n",
    "df_3_AAA.reset_index(drop=True, inplace=True) # 인덱스 재지정\n",
    "df_3_AAA"
   ]
  },
  {
   "cell_type": "code",
   "execution_count": 41,
   "id": "1a9d2eb2",
   "metadata": {},
   "outputs": [],
   "source": [
    "df_2_AAA_group = df_2_AAA.copy()\n",
    "df_2_AAA_group2 = df_2_AAA.copy()\n",
    "\n",
    "\n",
    "\n",
    "df_3_AAA_group = df_3_AAA.copy()\n",
    "df_3_AAA_group2 = df_3_AAA.copy()"
   ]
  },
  {
   "cell_type": "code",
   "execution_count": 42,
   "id": "acea739f",
   "metadata": {},
   "outputs": [],
   "source": [
    "df_2_AAA_group2['지역']=df_2_AAA_group2['지역'] + ' ' + df_2_AAA_group2['학년']\n",
    "\n",
    "\n",
    "\n",
    "\n",
    "df_3_AAA_group2['지역']=df_3_AAA_group2['지역'] + ' ' + df_3_AAA_group2['학년']"
   ]
  },
  {
   "cell_type": "code",
   "execution_count": 43,
   "id": "7237fe52",
   "metadata": {},
   "outputs": [
    {
     "name": "stderr",
     "output_type": "stream",
     "text": [
      "C:\\Users\\user\\AppData\\Local\\Temp\\ipykernel_24220\\1123399405.py:1: FutureWarning:\n",
      "\n",
      "The default value of numeric_only in DataFrameGroupBy.sum is deprecated. In a future version, numeric_only will default to False. Either specify numeric_only or select only columns which should be valid for the function.\n",
      "\n",
      "C:\\Users\\user\\AppData\\Local\\Temp\\ipykernel_24220\\1123399405.py:9: FutureWarning:\n",
      "\n",
      "The default value of numeric_only in DataFrameGroupBy.sum is deprecated. In a future version, numeric_only will default to False. Either specify numeric_only or select only columns which should be valid for the function.\n",
      "\n"
     ]
    }
   ],
   "source": [
    "df_2_grade=df_2_AAA_group2.groupby('지역').sum()\n",
    "for i in range(5):\n",
    "    df_2_grade[f'{i+1}등급 %']= round(df_2_grade[f'{i+1}등급 인원']/df_2_grade['검사인원수'] * 100,3)\n",
    "df_2_grade.reset_index(drop=False, inplace=True)\n",
    "\n",
    "\n",
    "\n",
    "\n",
    "df_3_grade=df_3_AAA_group2.groupby('지역').sum()\n",
    "for i in range(5):\n",
    "    df_3_grade[f'{i+1}등급 %']= round(df_3_grade[f'{i+1}등급 인원']/df_3_grade['검사인원수'] * 100,3)\n",
    "df_3_grade.reset_index(drop=False, inplace=True)"
   ]
  },
  {
   "cell_type": "code",
   "execution_count": 44,
   "id": "5554b327",
   "metadata": {
    "scrolled": true
   },
   "outputs": [
    {
     "data": {
      "text/html": [
       "<div>\n",
       "<style scoped>\n",
       "    .dataframe tbody tr th:only-of-type {\n",
       "        vertical-align: middle;\n",
       "    }\n",
       "\n",
       "    .dataframe tbody tr th {\n",
       "        vertical-align: top;\n",
       "    }\n",
       "\n",
       "    .dataframe thead th {\n",
       "        text-align: right;\n",
       "    }\n",
       "</style>\n",
       "<table border=\"1\" class=\"dataframe\">\n",
       "  <thead>\n",
       "    <tr style=\"text-align: right;\">\n",
       "      <th></th>\n",
       "      <th>지역</th>\n",
       "      <th>1등급 인원</th>\n",
       "      <th>1등급 %</th>\n",
       "      <th>2등급 인원</th>\n",
       "      <th>2등급 %</th>\n",
       "      <th>3등급 인원</th>\n",
       "      <th>3등급 %</th>\n",
       "      <th>4등급 인원</th>\n",
       "      <th>4등급 %</th>\n",
       "      <th>5등급 인원</th>\n",
       "      <th>5등급 %</th>\n",
       "      <th>검사인원수</th>\n",
       "    </tr>\n",
       "  </thead>\n",
       "  <tbody>\n",
       "    <tr>\n",
       "      <th>0</th>\n",
       "      <td>경상북도 1학년</td>\n",
       "      <td>859.0</td>\n",
       "      <td>5.349</td>\n",
       "      <td>5422.0</td>\n",
       "      <td>33.761</td>\n",
       "      <td>7000.0</td>\n",
       "      <td>43.587</td>\n",
       "      <td>2478.0</td>\n",
       "      <td>15.430</td>\n",
       "      <td>301.0</td>\n",
       "      <td>1.874</td>\n",
       "      <td>16060.0</td>\n",
       "    </tr>\n",
       "    <tr>\n",
       "      <th>1</th>\n",
       "      <td>경상북도 2학년</td>\n",
       "      <td>667.0</td>\n",
       "      <td>3.357</td>\n",
       "      <td>5995.0</td>\n",
       "      <td>30.177</td>\n",
       "      <td>9309.0</td>\n",
       "      <td>46.859</td>\n",
       "      <td>3465.0</td>\n",
       "      <td>17.442</td>\n",
       "      <td>430.0</td>\n",
       "      <td>2.165</td>\n",
       "      <td>19866.0</td>\n",
       "    </tr>\n",
       "    <tr>\n",
       "      <th>2</th>\n",
       "      <td>경상북도 3학년</td>\n",
       "      <td>798.0</td>\n",
       "      <td>3.997</td>\n",
       "      <td>5323.0</td>\n",
       "      <td>26.663</td>\n",
       "      <td>9094.0</td>\n",
       "      <td>45.552</td>\n",
       "      <td>4122.0</td>\n",
       "      <td>20.647</td>\n",
       "      <td>627.0</td>\n",
       "      <td>3.141</td>\n",
       "      <td>19964.0</td>\n",
       "    </tr>\n",
       "    <tr>\n",
       "      <th>3</th>\n",
       "      <td>서울특별시 1학년</td>\n",
       "      <td>2413.0</td>\n",
       "      <td>4.684</td>\n",
       "      <td>17528.0</td>\n",
       "      <td>34.027</td>\n",
       "      <td>22949.0</td>\n",
       "      <td>44.551</td>\n",
       "      <td>7638.0</td>\n",
       "      <td>14.828</td>\n",
       "      <td>984.0</td>\n",
       "      <td>1.910</td>\n",
       "      <td>51512.0</td>\n",
       "    </tr>\n",
       "    <tr>\n",
       "      <th>4</th>\n",
       "      <td>서울특별시 2학년</td>\n",
       "      <td>2587.0</td>\n",
       "      <td>3.559</td>\n",
       "      <td>20878.0</td>\n",
       "      <td>28.723</td>\n",
       "      <td>34102.0</td>\n",
       "      <td>46.916</td>\n",
       "      <td>13055.0</td>\n",
       "      <td>17.960</td>\n",
       "      <td>2066.0</td>\n",
       "      <td>2.842</td>\n",
       "      <td>72688.0</td>\n",
       "    </tr>\n",
       "    <tr>\n",
       "      <th>5</th>\n",
       "      <td>서울특별시 3학년</td>\n",
       "      <td>2347.0</td>\n",
       "      <td>3.168</td>\n",
       "      <td>19641.0</td>\n",
       "      <td>26.513</td>\n",
       "      <td>34016.0</td>\n",
       "      <td>45.918</td>\n",
       "      <td>15457.0</td>\n",
       "      <td>20.865</td>\n",
       "      <td>2619.0</td>\n",
       "      <td>3.535</td>\n",
       "      <td>74080.0</td>\n",
       "    </tr>\n",
       "  </tbody>\n",
       "</table>\n",
       "</div>"
      ],
      "text/plain": [
       "          지역  1등급 인원  1등급 %   2등급 인원   2등급 %   3등급 인원   3등급 %   4등급 인원  \\\n",
       "0   경상북도 1학년   859.0  5.349   5422.0  33.761   7000.0  43.587   2478.0   \n",
       "1   경상북도 2학년   667.0  3.357   5995.0  30.177   9309.0  46.859   3465.0   \n",
       "2   경상북도 3학년   798.0  3.997   5323.0  26.663   9094.0  45.552   4122.0   \n",
       "3  서울특별시 1학년  2413.0  4.684  17528.0  34.027  22949.0  44.551   7638.0   \n",
       "4  서울특별시 2학년  2587.0  3.559  20878.0  28.723  34102.0  46.916  13055.0   \n",
       "5  서울특별시 3학년  2347.0  3.168  19641.0  26.513  34016.0  45.918  15457.0   \n",
       "\n",
       "    4등급 %  5등급 인원  5등급 %    검사인원수  \n",
       "0  15.430   301.0  1.874  16060.0  \n",
       "1  17.442   430.0  2.165  19866.0  \n",
       "2  20.647   627.0  3.141  19964.0  \n",
       "3  14.828   984.0  1.910  51512.0  \n",
       "4  17.960  2066.0  2.842  72688.0  \n",
       "5  20.865  2619.0  3.535  74080.0  "
      ]
     },
     "execution_count": 44,
     "metadata": {},
     "output_type": "execute_result"
    }
   ],
   "source": [
    "df_2_grade"
   ]
  },
  {
   "cell_type": "code",
   "execution_count": 45,
   "id": "b9433131",
   "metadata": {},
   "outputs": [
    {
     "name": "stderr",
     "output_type": "stream",
     "text": [
      "C:\\Users\\user\\AppData\\Local\\Temp\\ipykernel_24220\\3504986360.py:1: FutureWarning:\n",
      "\n",
      "The default value of numeric_only in DataFrameGroupBy.sum is deprecated. In a future version, numeric_only will default to False. Either specify numeric_only or select only columns which should be valid for the function.\n",
      "\n",
      "C:\\Users\\user\\AppData\\Local\\Temp\\ipykernel_24220\\3504986360.py:10: FutureWarning:\n",
      "\n",
      "The default value of numeric_only in DataFrameGroupBy.sum is deprecated. In a future version, numeric_only will default to False. Either specify numeric_only or select only columns which should be valid for the function.\n",
      "\n"
     ]
    }
   ],
   "source": [
    "df_2_region=df_2_AAA_group.groupby('지역').sum()\n",
    "# %값 다시 구함\n",
    "for i in range(5):\n",
    "    df_2_region[f'{i+1}등급 %']= round(df_2_region[f'{i+1}등급 인원']/df_2_region['검사인원수'] * 100,3)\n",
    "df_2_region.reset_index(drop=False, inplace=True)\n",
    "\n",
    "\n",
    "\n",
    "\n",
    "df_3_region=df_3_AAA_group.groupby('지역').sum()\n",
    "# %값 다시 구함\n",
    "for i in range(5):\n",
    "    df_3_region[f'{i+1}등급 %']= round(df_3_region[f'{i+1}등급 인원']/df_3_region['검사인원수'] * 100,3)\n",
    "df_3_region.reset_index(drop=False, inplace=True)"
   ]
  },
  {
   "cell_type": "code",
   "execution_count": 46,
   "id": "da40244e",
   "metadata": {},
   "outputs": [
    {
     "data": {
      "text/html": [
       "<div>\n",
       "<style scoped>\n",
       "    .dataframe tbody tr th:only-of-type {\n",
       "        vertical-align: middle;\n",
       "    }\n",
       "\n",
       "    .dataframe tbody tr th {\n",
       "        vertical-align: top;\n",
       "    }\n",
       "\n",
       "    .dataframe thead th {\n",
       "        text-align: right;\n",
       "    }\n",
       "</style>\n",
       "<table border=\"1\" class=\"dataframe\">\n",
       "  <thead>\n",
       "    <tr style=\"text-align: right;\">\n",
       "      <th></th>\n",
       "      <th>지역</th>\n",
       "      <th>1등급 인원</th>\n",
       "      <th>1등급 %</th>\n",
       "      <th>2등급 인원</th>\n",
       "      <th>2등급 %</th>\n",
       "      <th>3등급 인원</th>\n",
       "      <th>3등급 %</th>\n",
       "      <th>4등급 인원</th>\n",
       "      <th>4등급 %</th>\n",
       "      <th>5등급 인원</th>\n",
       "      <th>5등급 %</th>\n",
       "      <th>검사인원수</th>\n",
       "    </tr>\n",
       "  </thead>\n",
       "  <tbody>\n",
       "    <tr>\n",
       "      <th>0</th>\n",
       "      <td>경상북도</td>\n",
       "      <td>2324.0</td>\n",
       "      <td>4.158</td>\n",
       "      <td>16740.0</td>\n",
       "      <td>29.952</td>\n",
       "      <td>25403.0</td>\n",
       "      <td>45.452</td>\n",
       "      <td>10065.0</td>\n",
       "      <td>18.009</td>\n",
       "      <td>1358.0</td>\n",
       "      <td>2.430</td>\n",
       "      <td>55890.0</td>\n",
       "    </tr>\n",
       "    <tr>\n",
       "      <th>1</th>\n",
       "      <td>서울특별시</td>\n",
       "      <td>7347.0</td>\n",
       "      <td>3.705</td>\n",
       "      <td>58047.0</td>\n",
       "      <td>29.275</td>\n",
       "      <td>91067.0</td>\n",
       "      <td>45.928</td>\n",
       "      <td>36150.0</td>\n",
       "      <td>18.232</td>\n",
       "      <td>5669.0</td>\n",
       "      <td>2.859</td>\n",
       "      <td>198280.0</td>\n",
       "    </tr>\n",
       "  </tbody>\n",
       "</table>\n",
       "</div>"
      ],
      "text/plain": [
       "      지역  1등급 인원  1등급 %   2등급 인원   2등급 %   3등급 인원   3등급 %   4등급 인원   4등급 %  \\\n",
       "0   경상북도  2324.0  4.158  16740.0  29.952  25403.0  45.452  10065.0  18.009   \n",
       "1  서울특별시  7347.0  3.705  58047.0  29.275  91067.0  45.928  36150.0  18.232   \n",
       "\n",
       "   5등급 인원  5등급 %     검사인원수  \n",
       "0  1358.0  2.430   55890.0  \n",
       "1  5669.0  2.859  198280.0  "
      ]
     },
     "execution_count": 46,
     "metadata": {},
     "output_type": "execute_result"
    }
   ],
   "source": [
    "df_2_region"
   ]
  },
  {
   "cell_type": "code",
   "execution_count": 47,
   "id": "dce80218",
   "metadata": {},
   "outputs": [],
   "source": [
    "df2=pd.concat([df_2_grade, df_2_region])\n",
    "df2\n",
    "\n",
    "\n",
    "\n",
    "df3=pd.concat([df_3_grade, df_3_region])\n"
   ]
  },
  {
   "cell_type": "code",
   "execution_count": 48,
   "id": "5d708796",
   "metadata": {},
   "outputs": [],
   "source": [
    "df2.replace('서울특별시','서울특별시 전학년 평균', inplace = True)\n",
    "df2.replace('경상북도','경상북도 전학년 평균', inplace = True)\n",
    "df2.sort_values('지역', ascending = False, inplace = True)\n",
    "\n",
    "\n",
    "df2.reset_index(drop=True, inplace=True)\n",
    "df2\n",
    "\n",
    "\n",
    "\n",
    "\n",
    "df3.replace('서울특별시','서울특별시 전학년 평균', inplace = True)\n",
    "df3.replace('경상북도','경상북도 전학년 평균', inplace = True)\n",
    "df3.sort_values('지역', ascending = False, inplace = True)\n",
    "\n",
    "\n",
    "df3.reset_index(drop=True, inplace=True)\n"
   ]
  },
  {
   "cell_type": "code",
   "execution_count": 49,
   "id": "b32d1b7b",
   "metadata": {},
   "outputs": [],
   "source": [
    "for i in range(5):\n",
    "    df2[f'{i+1}등급 %']= round(np.log2(df2[f'{i+1}등급 %']),3) # %지수를 log값으로(소숫점 3자리) 반환\n",
    "    \n",
    "    \n",
    "    \n",
    "    \n",
    "for i in range(5):\n",
    "    df3[f'{i+1}등급 %']= round(np.log2(df3[f'{i+1}등급 %']),3) # %지수를 log값으로(소숫점 3자리) 반환"
   ]
  },
  {
   "cell_type": "code",
   "execution_count": 50,
   "id": "cf536bb7",
   "metadata": {},
   "outputs": [
    {
     "data": {
      "text/html": [
       "<div>\n",
       "<style scoped>\n",
       "    .dataframe tbody tr th:only-of-type {\n",
       "        vertical-align: middle;\n",
       "    }\n",
       "\n",
       "    .dataframe tbody tr th {\n",
       "        vertical-align: top;\n",
       "    }\n",
       "\n",
       "    .dataframe thead th {\n",
       "        text-align: right;\n",
       "    }\n",
       "</style>\n",
       "<table border=\"1\" class=\"dataframe\">\n",
       "  <thead>\n",
       "    <tr style=\"text-align: right;\">\n",
       "      <th></th>\n",
       "      <th>지역</th>\n",
       "      <th>1등급 인원</th>\n",
       "      <th>1등급 %</th>\n",
       "      <th>2등급 인원</th>\n",
       "      <th>2등급 %</th>\n",
       "      <th>3등급 인원</th>\n",
       "      <th>3등급 %</th>\n",
       "      <th>4등급 인원</th>\n",
       "      <th>4등급 %</th>\n",
       "      <th>5등급 인원</th>\n",
       "      <th>5등급 %</th>\n",
       "      <th>검사인원수</th>\n",
       "    </tr>\n",
       "  </thead>\n",
       "  <tbody>\n",
       "    <tr>\n",
       "      <th>0</th>\n",
       "      <td>서울특별시 전학년 평균</td>\n",
       "      <td>7347.0</td>\n",
       "      <td>1.889</td>\n",
       "      <td>58047.0</td>\n",
       "      <td>4.872</td>\n",
       "      <td>91067.0</td>\n",
       "      <td>5.521</td>\n",
       "      <td>36150.0</td>\n",
       "      <td>4.188</td>\n",
       "      <td>5669.0</td>\n",
       "      <td>1.516</td>\n",
       "      <td>198280.0</td>\n",
       "    </tr>\n",
       "  </tbody>\n",
       "</table>\n",
       "</div>"
      ],
      "text/plain": [
       "             지역  1등급 인원  1등급 %   2등급 인원  2등급 %   3등급 인원  3등급 %   4등급 인원  \\\n",
       "0  서울특별시 전학년 평균  7347.0  1.889  58047.0  4.872  91067.0  5.521  36150.0   \n",
       "\n",
       "   4등급 %  5등급 인원  5등급 %     검사인원수  \n",
       "0  4.188  5669.0  1.516  198280.0  "
      ]
     },
     "execution_count": 50,
     "metadata": {},
     "output_type": "execute_result"
    }
   ],
   "source": [
    "df2.head(1)"
   ]
  },
  {
   "cell_type": "code",
   "execution_count": 51,
   "id": "911e465a",
   "metadata": {},
   "outputs": [
    {
     "data": {
      "application/vnd.plotly.v1+json": {
       "config": {
        "plotlyServerURL": "https://plot.ly"
       },
       "data": [
        {
         "name": "서울특별시 3학년",
         "type": "bar",
         "x": [
          "1등급",
          "2등급",
          "3등급",
          "4등급",
          "5등급"
         ],
         "y": [
          1.664,
          4.729,
          5.521,
          4.383,
          1.822
         ]
        }
       ],
       "layout": {
        "template": {
         "data": {
          "bar": [
           {
            "error_x": {
             "color": "#2a3f5f"
            },
            "error_y": {
             "color": "#2a3f5f"
            },
            "marker": {
             "line": {
              "color": "#E5ECF6",
              "width": 0.5
             },
             "pattern": {
              "fillmode": "overlay",
              "size": 10,
              "solidity": 0.2
             }
            },
            "type": "bar"
           }
          ],
          "barpolar": [
           {
            "marker": {
             "line": {
              "color": "#E5ECF6",
              "width": 0.5
             },
             "pattern": {
              "fillmode": "overlay",
              "size": 10,
              "solidity": 0.2
             }
            },
            "type": "barpolar"
           }
          ],
          "carpet": [
           {
            "aaxis": {
             "endlinecolor": "#2a3f5f",
             "gridcolor": "white",
             "linecolor": "white",
             "minorgridcolor": "white",
             "startlinecolor": "#2a3f5f"
            },
            "baxis": {
             "endlinecolor": "#2a3f5f",
             "gridcolor": "white",
             "linecolor": "white",
             "minorgridcolor": "white",
             "startlinecolor": "#2a3f5f"
            },
            "type": "carpet"
           }
          ],
          "choropleth": [
           {
            "colorbar": {
             "outlinewidth": 0,
             "ticks": ""
            },
            "type": "choropleth"
           }
          ],
          "contour": [
           {
            "colorbar": {
             "outlinewidth": 0,
             "ticks": ""
            },
            "colorscale": [
             [
              0,
              "#0d0887"
             ],
             [
              0.1111111111111111,
              "#46039f"
             ],
             [
              0.2222222222222222,
              "#7201a8"
             ],
             [
              0.3333333333333333,
              "#9c179e"
             ],
             [
              0.4444444444444444,
              "#bd3786"
             ],
             [
              0.5555555555555556,
              "#d8576b"
             ],
             [
              0.6666666666666666,
              "#ed7953"
             ],
             [
              0.7777777777777778,
              "#fb9f3a"
             ],
             [
              0.8888888888888888,
              "#fdca26"
             ],
             [
              1,
              "#f0f921"
             ]
            ],
            "type": "contour"
           }
          ],
          "contourcarpet": [
           {
            "colorbar": {
             "outlinewidth": 0,
             "ticks": ""
            },
            "type": "contourcarpet"
           }
          ],
          "heatmap": [
           {
            "colorbar": {
             "outlinewidth": 0,
             "ticks": ""
            },
            "colorscale": [
             [
              0,
              "#0d0887"
             ],
             [
              0.1111111111111111,
              "#46039f"
             ],
             [
              0.2222222222222222,
              "#7201a8"
             ],
             [
              0.3333333333333333,
              "#9c179e"
             ],
             [
              0.4444444444444444,
              "#bd3786"
             ],
             [
              0.5555555555555556,
              "#d8576b"
             ],
             [
              0.6666666666666666,
              "#ed7953"
             ],
             [
              0.7777777777777778,
              "#fb9f3a"
             ],
             [
              0.8888888888888888,
              "#fdca26"
             ],
             [
              1,
              "#f0f921"
             ]
            ],
            "type": "heatmap"
           }
          ],
          "heatmapgl": [
           {
            "colorbar": {
             "outlinewidth": 0,
             "ticks": ""
            },
            "colorscale": [
             [
              0,
              "#0d0887"
             ],
             [
              0.1111111111111111,
              "#46039f"
             ],
             [
              0.2222222222222222,
              "#7201a8"
             ],
             [
              0.3333333333333333,
              "#9c179e"
             ],
             [
              0.4444444444444444,
              "#bd3786"
             ],
             [
              0.5555555555555556,
              "#d8576b"
             ],
             [
              0.6666666666666666,
              "#ed7953"
             ],
             [
              0.7777777777777778,
              "#fb9f3a"
             ],
             [
              0.8888888888888888,
              "#fdca26"
             ],
             [
              1,
              "#f0f921"
             ]
            ],
            "type": "heatmapgl"
           }
          ],
          "histogram": [
           {
            "marker": {
             "pattern": {
              "fillmode": "overlay",
              "size": 10,
              "solidity": 0.2
             }
            },
            "type": "histogram"
           }
          ],
          "histogram2d": [
           {
            "colorbar": {
             "outlinewidth": 0,
             "ticks": ""
            },
            "colorscale": [
             [
              0,
              "#0d0887"
             ],
             [
              0.1111111111111111,
              "#46039f"
             ],
             [
              0.2222222222222222,
              "#7201a8"
             ],
             [
              0.3333333333333333,
              "#9c179e"
             ],
             [
              0.4444444444444444,
              "#bd3786"
             ],
             [
              0.5555555555555556,
              "#d8576b"
             ],
             [
              0.6666666666666666,
              "#ed7953"
             ],
             [
              0.7777777777777778,
              "#fb9f3a"
             ],
             [
              0.8888888888888888,
              "#fdca26"
             ],
             [
              1,
              "#f0f921"
             ]
            ],
            "type": "histogram2d"
           }
          ],
          "histogram2dcontour": [
           {
            "colorbar": {
             "outlinewidth": 0,
             "ticks": ""
            },
            "colorscale": [
             [
              0,
              "#0d0887"
             ],
             [
              0.1111111111111111,
              "#46039f"
             ],
             [
              0.2222222222222222,
              "#7201a8"
             ],
             [
              0.3333333333333333,
              "#9c179e"
             ],
             [
              0.4444444444444444,
              "#bd3786"
             ],
             [
              0.5555555555555556,
              "#d8576b"
             ],
             [
              0.6666666666666666,
              "#ed7953"
             ],
             [
              0.7777777777777778,
              "#fb9f3a"
             ],
             [
              0.8888888888888888,
              "#fdca26"
             ],
             [
              1,
              "#f0f921"
             ]
            ],
            "type": "histogram2dcontour"
           }
          ],
          "mesh3d": [
           {
            "colorbar": {
             "outlinewidth": 0,
             "ticks": ""
            },
            "type": "mesh3d"
           }
          ],
          "parcoords": [
           {
            "line": {
             "colorbar": {
              "outlinewidth": 0,
              "ticks": ""
             }
            },
            "type": "parcoords"
           }
          ],
          "pie": [
           {
            "automargin": true,
            "type": "pie"
           }
          ],
          "scatter": [
           {
            "fillpattern": {
             "fillmode": "overlay",
             "size": 10,
             "solidity": 0.2
            },
            "type": "scatter"
           }
          ],
          "scatter3d": [
           {
            "line": {
             "colorbar": {
              "outlinewidth": 0,
              "ticks": ""
             }
            },
            "marker": {
             "colorbar": {
              "outlinewidth": 0,
              "ticks": ""
             }
            },
            "type": "scatter3d"
           }
          ],
          "scattercarpet": [
           {
            "marker": {
             "colorbar": {
              "outlinewidth": 0,
              "ticks": ""
             }
            },
            "type": "scattercarpet"
           }
          ],
          "scattergeo": [
           {
            "marker": {
             "colorbar": {
              "outlinewidth": 0,
              "ticks": ""
             }
            },
            "type": "scattergeo"
           }
          ],
          "scattergl": [
           {
            "marker": {
             "colorbar": {
              "outlinewidth": 0,
              "ticks": ""
             }
            },
            "type": "scattergl"
           }
          ],
          "scattermapbox": [
           {
            "marker": {
             "colorbar": {
              "outlinewidth": 0,
              "ticks": ""
             }
            },
            "type": "scattermapbox"
           }
          ],
          "scatterpolar": [
           {
            "marker": {
             "colorbar": {
              "outlinewidth": 0,
              "ticks": ""
             }
            },
            "type": "scatterpolar"
           }
          ],
          "scatterpolargl": [
           {
            "marker": {
             "colorbar": {
              "outlinewidth": 0,
              "ticks": ""
             }
            },
            "type": "scatterpolargl"
           }
          ],
          "scatterternary": [
           {
            "marker": {
             "colorbar": {
              "outlinewidth": 0,
              "ticks": ""
             }
            },
            "type": "scatterternary"
           }
          ],
          "surface": [
           {
            "colorbar": {
             "outlinewidth": 0,
             "ticks": ""
            },
            "colorscale": [
             [
              0,
              "#0d0887"
             ],
             [
              0.1111111111111111,
              "#46039f"
             ],
             [
              0.2222222222222222,
              "#7201a8"
             ],
             [
              0.3333333333333333,
              "#9c179e"
             ],
             [
              0.4444444444444444,
              "#bd3786"
             ],
             [
              0.5555555555555556,
              "#d8576b"
             ],
             [
              0.6666666666666666,
              "#ed7953"
             ],
             [
              0.7777777777777778,
              "#fb9f3a"
             ],
             [
              0.8888888888888888,
              "#fdca26"
             ],
             [
              1,
              "#f0f921"
             ]
            ],
            "type": "surface"
           }
          ],
          "table": [
           {
            "cells": {
             "fill": {
              "color": "#EBF0F8"
             },
             "line": {
              "color": "white"
             }
            },
            "header": {
             "fill": {
              "color": "#C8D4E3"
             },
             "line": {
              "color": "white"
             }
            },
            "type": "table"
           }
          ]
         },
         "layout": {
          "annotationdefaults": {
           "arrowcolor": "#2a3f5f",
           "arrowhead": 0,
           "arrowwidth": 1
          },
          "autotypenumbers": "strict",
          "coloraxis": {
           "colorbar": {
            "outlinewidth": 0,
            "ticks": ""
           }
          },
          "colorscale": {
           "diverging": [
            [
             0,
             "#8e0152"
            ],
            [
             0.1,
             "#c51b7d"
            ],
            [
             0.2,
             "#de77ae"
            ],
            [
             0.3,
             "#f1b6da"
            ],
            [
             0.4,
             "#fde0ef"
            ],
            [
             0.5,
             "#f7f7f7"
            ],
            [
             0.6,
             "#e6f5d0"
            ],
            [
             0.7,
             "#b8e186"
            ],
            [
             0.8,
             "#7fbc41"
            ],
            [
             0.9,
             "#4d9221"
            ],
            [
             1,
             "#276419"
            ]
           ],
           "sequential": [
            [
             0,
             "#0d0887"
            ],
            [
             0.1111111111111111,
             "#46039f"
            ],
            [
             0.2222222222222222,
             "#7201a8"
            ],
            [
             0.3333333333333333,
             "#9c179e"
            ],
            [
             0.4444444444444444,
             "#bd3786"
            ],
            [
             0.5555555555555556,
             "#d8576b"
            ],
            [
             0.6666666666666666,
             "#ed7953"
            ],
            [
             0.7777777777777778,
             "#fb9f3a"
            ],
            [
             0.8888888888888888,
             "#fdca26"
            ],
            [
             1,
             "#f0f921"
            ]
           ],
           "sequentialminus": [
            [
             0,
             "#0d0887"
            ],
            [
             0.1111111111111111,
             "#46039f"
            ],
            [
             0.2222222222222222,
             "#7201a8"
            ],
            [
             0.3333333333333333,
             "#9c179e"
            ],
            [
             0.4444444444444444,
             "#bd3786"
            ],
            [
             0.5555555555555556,
             "#d8576b"
            ],
            [
             0.6666666666666666,
             "#ed7953"
            ],
            [
             0.7777777777777778,
             "#fb9f3a"
            ],
            [
             0.8888888888888888,
             "#fdca26"
            ],
            [
             1,
             "#f0f921"
            ]
           ]
          },
          "colorway": [
           "#636efa",
           "#EF553B",
           "#00cc96",
           "#ab63fa",
           "#FFA15A",
           "#19d3f3",
           "#FF6692",
           "#B6E880",
           "#FF97FF",
           "#FECB52"
          ],
          "font": {
           "color": "#2a3f5f"
          },
          "geo": {
           "bgcolor": "white",
           "lakecolor": "white",
           "landcolor": "#E5ECF6",
           "showlakes": true,
           "showland": true,
           "subunitcolor": "white"
          },
          "hoverlabel": {
           "align": "left"
          },
          "hovermode": "closest",
          "mapbox": {
           "style": "light"
          },
          "paper_bgcolor": "white",
          "plot_bgcolor": "#E5ECF6",
          "polar": {
           "angularaxis": {
            "gridcolor": "white",
            "linecolor": "white",
            "ticks": ""
           },
           "bgcolor": "#E5ECF6",
           "radialaxis": {
            "gridcolor": "white",
            "linecolor": "white",
            "ticks": ""
           }
          },
          "scene": {
           "xaxis": {
            "backgroundcolor": "#E5ECF6",
            "gridcolor": "white",
            "gridwidth": 2,
            "linecolor": "white",
            "showbackground": true,
            "ticks": "",
            "zerolinecolor": "white"
           },
           "yaxis": {
            "backgroundcolor": "#E5ECF6",
            "gridcolor": "white",
            "gridwidth": 2,
            "linecolor": "white",
            "showbackground": true,
            "ticks": "",
            "zerolinecolor": "white"
           },
           "zaxis": {
            "backgroundcolor": "#E5ECF6",
            "gridcolor": "white",
            "gridwidth": 2,
            "linecolor": "white",
            "showbackground": true,
            "ticks": "",
            "zerolinecolor": "white"
           }
          },
          "shapedefaults": {
           "line": {
            "color": "#2a3f5f"
           }
          },
          "ternary": {
           "aaxis": {
            "gridcolor": "white",
            "linecolor": "white",
            "ticks": ""
           },
           "baxis": {
            "gridcolor": "white",
            "linecolor": "white",
            "ticks": ""
           },
           "bgcolor": "#E5ECF6",
           "caxis": {
            "gridcolor": "white",
            "linecolor": "white",
            "ticks": ""
           }
          },
          "title": {
           "x": 0.05
          },
          "xaxis": {
           "automargin": true,
           "gridcolor": "white",
           "linecolor": "white",
           "ticks": "",
           "title": {
            "standoff": 15
           },
           "zerolinecolor": "white",
           "zerolinewidth": 2
          },
          "yaxis": {
           "automargin": true,
           "gridcolor": "white",
           "linecolor": "white",
           "ticks": "",
           "title": {
            "standoff": 15
           },
           "zerolinecolor": "white",
           "zerolinewidth": 2
          }
         }
        }
       }
      }
     },
     "metadata": {},
     "output_type": "display_data"
    }
   ],
   "source": [
    "df2_A = df2\n",
    "\n",
    "fig = go.Figure(data=[go.Bar(\n",
    "    name='서울특별시 3학년',\n",
    "    x=['1등급', '2등급', '3등급' ,'4등급','5등급'],\n",
    "    y=[df2_A['1등급 %'][1], df2_A['2등급 %'][1], df2_A['3등급 %'][1], df2_A['4등급 %'][1], df2_A['5등급 %'][1]]\n",
    ")])\n",
    "\n",
    "fig.show()\n"
   ]
  },
  {
   "cell_type": "code",
   "execution_count": 52,
   "id": "173f0143",
   "metadata": {
    "scrolled": false
   },
   "outputs": [
    {
     "data": {
      "text/html": [
       "\n",
       "        <iframe\n",
       "            width=\"100%\"\n",
       "            height=\"650\"\n",
       "            src=\"http://127.0.0.1:8099/\"\n",
       "            frameborder=\"0\"\n",
       "            allowfullscreen\n",
       "            \n",
       "        ></iframe>\n",
       "        "
      ],
      "text/plain": [
       "<IPython.lib.display.IFrame at 0x170ace62050>"
      ]
     },
     "metadata": {},
     "output_type": "display_data"
    }
   ],
   "source": [
    "app = Dash(__name__)\n",
    "\n",
    "df3=df_2_cou_sum_log\n",
    "df2_A = df2\n",
    "\n",
    "fig2 = px.pie(df1, values='공시가격', names=\"시도\")\n",
    "\n",
    "\n",
    "\n",
    "#Figure 생성\n",
    "fig = go.Figure()\n",
    "\n",
    "#그래프 생성\n",
    "x = ['1등급', '2등급', '3등급' ,'4등급','5등급']\n",
    "\n",
    "def fig_name(name_n, i,color_A ):\n",
    "    fig.add_trace(go.Bar(name=name_n, x=x, y=[df2_A['1등급 %'][i],df2_A['2등급 %'][i],\n",
    "                                          df2_A['3등급 %'][i],df2_A['4등급 %'][i],df2_A['5등급 %'][i]],marker = {'color':color_A, },\n",
    "                     text = [df2_A['1등급 %'][i],df2_A['2등급 %'][i],\n",
    "                                          df2_A['3등급 %'][i],df2_A['4등급 %'][i],df2_A['5등급 %'][i]],\n",
    "                     textposition = 'auto') )\n",
    "\n",
    "\n",
    "# 1번 그래프\n",
    "fig_name('서울특별시 1학년', 3,'#3274A1')\n",
    "fig_name('서울특별시 2학년', 2,'#3274A1')\n",
    "fig_name('서울특별시 3학년', 1,'#3274A1')\n",
    "\n",
    "fig_name('경상북도 1학년', 7,'#E1912C')\n",
    "fig_name('경상북도 2학년', 6,'#E1912C')\n",
    "fig_name('경상북도 3학년', 5,'#E1912C')\n",
    "\n",
    "\n",
    "fig_name('서울특별시 전학년', 0,'#3274A1') \n",
    "fig_name('경상북도 전학년', 4,'#E1912C')\n",
    "\n",
    "\n",
    "# 버튼 4개 생성\n",
    "fig.update_layout(\n",
    "    updatemenus=[\n",
    "        dict(\n",
    "            type=\"dropdown\",\n",
    "            direction = \"down\",\n",
    "            buttons=list([dict(label=\"전체\",\n",
    "                                method=\"update\",\n",
    "                                args=[{\"visible\": [True,True,True,True,True,True,True,True ]},\n",
    "                                       {\"title\": \"전체 등급분포\"}]),\n",
    "                            dict(label=\"전학년 평균\",\n",
    "                                 method=\"update\",\n",
    "                                 args=[{\"visible\": [False,False,False,False,False,False,True, True ]},\n",
    "                                       {\"title\": \"전학년 평균 등급분포\"}]),\n",
    "                            dict(label=\"1학년\",\n",
    "                                 method=\"update\",\n",
    "                                 args=[{\"visible\": [True, False, False, True, False, False,False, False]},\n",
    "                                       {\"title\": \"1학년 등급분포\",\n",
    "                                        }]),\n",
    "                            dict(label=\"2학년\",\n",
    "                                 method=\"update\",\n",
    "                                 args=[{\"visible\": [False, True, False,False, True, False,False,False]},\n",
    "                                       {\"title\": \"2학년 등급분포\",\n",
    "                                        }]),\n",
    "                            dict(label=\"3학년\",\n",
    "                                 method=\"update\",\n",
    "                                 args=[{\"visible\": [False, False, True, False, False, True,False, False]},\n",
    "                                       {\"title\": \"3학년 등급분포\",\n",
    "                                        }]),\n",
    "                ]),\n",
    "      \n",
    "\n",
    "        ),\n",
    "    ]\n",
    ")\n",
    "\n",
    "app = Dash(__name__)\n",
    "\n",
    "app.layout = html.Div([\n",
    "    html.Div([\n",
    "        html.Div([\n",
    "            html.H1(children='지역별 공시가격 비교', style={'textAlign':'center'}),\n",
    "            dcc.Graph(figure=fig2),],style={'width': '49%', 'display': 'inline-block', 'padding': '0 20'}),\n",
    "    \n",
    "        \n",
    "        html.Div([\n",
    "            html.H1(children='지역별 학생등급 분포', style={'textAlign':'center'}),\n",
    "            dcc.Dropdown(df3['지역'].unique(), '서울특별시', id='dropdown-selection'),\n",
    "            dcc.RadioItems(['1등급 %','2등급 %','3등급 %', '4등급 %', '5등급 %'],'1등급 %', id = 'xaxis-type', inline=True),\n",
    "            dcc.Graph(id='graph-content')], style={'width': '49%', 'float': 'right', 'display': 'inline-block'}),\n",
    "       \n",
    "        html.Div([\n",
    "            html.H1(children='서울 경북지역 학년별 비교', style={'textAlign':'center'}),\n",
    "            dcc.Graph(figure=fig)],style={'width': '100%',  'display': 'inline-block'}),\n",
    "        \n",
    "        html.Div([\n",
    "            dash_table.DataTable(df2_A.to_dict('records'),[{\"name\" : i ,\"id\" : i}for i in df2_A.columns])])\n",
    "    ])\n",
    "])\n",
    "\n",
    "\n",
    "@callback(   # @ = 데코레이트  / (id ,형식)\n",
    "    Output('graph-content', 'figure'),\n",
    "    \n",
    "    Input('dropdown-selection', 'value'),\n",
    "    Input('xaxis-type','value')\n",
    ")\n",
    "def update_graph(dropdown_selection,xaxis_type):\n",
    "    dff = df3[df3['지역'] == dropdown_selection][xaxis_type]\n",
    "    \n",
    "    return  px.histogram(dff,nbins=20)\n",
    "\n",
    "if __name__ == '__main__':  \n",
    "    app.run_server(mode = 'external', port=8099, debug=True)      \n",
    "    \n",
    "    \n",
    "    \n",
    "    \n",
    "  "
   ]
  },
  {
   "cell_type": "code",
   "execution_count": null,
   "id": "0fd95c52",
   "metadata": {},
   "outputs": [],
   "source": []
  },
  {
   "cell_type": "code",
   "execution_count": null,
   "id": "88b7cac1",
   "metadata": {},
   "outputs": [],
   "source": []
  },
  {
   "cell_type": "code",
   "execution_count": 53,
   "id": "44b3aaa5",
   "metadata": {},
   "outputs": [
    {
     "data": {
      "text/html": [
       "<div>\n",
       "<style scoped>\n",
       "    .dataframe tbody tr th:only-of-type {\n",
       "        vertical-align: middle;\n",
       "    }\n",
       "\n",
       "    .dataframe tbody tr th {\n",
       "        vertical-align: top;\n",
       "    }\n",
       "\n",
       "    .dataframe thead th {\n",
       "        text-align: right;\n",
       "    }\n",
       "</style>\n",
       "<table border=\"1\" class=\"dataframe\">\n",
       "  <thead>\n",
       "    <tr style=\"text-align: right;\">\n",
       "      <th></th>\n",
       "      <th>지역</th>\n",
       "      <th>1등급 인원</th>\n",
       "      <th>1등급 %</th>\n",
       "      <th>2등급 인원</th>\n",
       "      <th>2등급 %</th>\n",
       "      <th>3등급 인원</th>\n",
       "      <th>3등급 %</th>\n",
       "      <th>4등급 인원</th>\n",
       "      <th>4등급 %</th>\n",
       "      <th>5등급 인원</th>\n",
       "      <th>5등급 %</th>\n",
       "      <th>검사인원수</th>\n",
       "      <th>학년</th>\n",
       "    </tr>\n",
       "  </thead>\n",
       "  <tbody>\n",
       "    <tr>\n",
       "      <th>0</th>\n",
       "      <td>경상북도</td>\n",
       "      <td>72.0</td>\n",
       "      <td>1.975997</td>\n",
       "      <td>506.0</td>\n",
       "      <td>4.789208</td>\n",
       "      <td>867.0</td>\n",
       "      <td>5.566115</td>\n",
       "      <td>359.0</td>\n",
       "      <td>4.294033</td>\n",
       "      <td>26.0</td>\n",
       "      <td>0.506907</td>\n",
       "      <td>1830.0</td>\n",
       "      <td>1학년</td>\n",
       "    </tr>\n",
       "    <tr>\n",
       "      <th>1</th>\n",
       "      <td>경상북도</td>\n",
       "      <td>67.0</td>\n",
       "      <td>1.811471</td>\n",
       "      <td>543.0</td>\n",
       "      <td>4.830052</td>\n",
       "      <td>893.0</td>\n",
       "      <td>5.547758</td>\n",
       "      <td>372.0</td>\n",
       "      <td>4.284440</td>\n",
       "      <td>34.0</td>\n",
       "      <td>0.832688</td>\n",
       "      <td>1909.0</td>\n",
       "      <td>2학년</td>\n",
       "    </tr>\n",
       "    <tr>\n",
       "      <th>2</th>\n",
       "      <td>경상북도</td>\n",
       "      <td>62.0</td>\n",
       "      <td>1.678973</td>\n",
       "      <td>482.0</td>\n",
       "      <td>4.637900</td>\n",
       "      <td>833.0</td>\n",
       "      <td>5.427170</td>\n",
       "      <td>472.0</td>\n",
       "      <td>4.607626</td>\n",
       "      <td>87.0</td>\n",
       "      <td>2.168000</td>\n",
       "      <td>1936.0</td>\n",
       "      <td>3학년</td>\n",
       "    </tr>\n",
       "    <tr>\n",
       "      <th>3</th>\n",
       "      <td>경상북도</td>\n",
       "      <td>154.0</td>\n",
       "      <td>2.862154</td>\n",
       "      <td>829.0</td>\n",
       "      <td>5.290609</td>\n",
       "      <td>814.0</td>\n",
       "      <td>5.264236</td>\n",
       "      <td>292.0</td>\n",
       "      <td>3.785237</td>\n",
       "      <td>29.0</td>\n",
       "      <td>0.453122</td>\n",
       "      <td>2118.0</td>\n",
       "      <td>1학년</td>\n",
       "    </tr>\n",
       "    <tr>\n",
       "      <th>4</th>\n",
       "      <td>경상북도</td>\n",
       "      <td>91.0</td>\n",
       "      <td>2.083384</td>\n",
       "      <td>767.0</td>\n",
       "      <td>5.158822</td>\n",
       "      <td>996.0</td>\n",
       "      <td>5.535742</td>\n",
       "      <td>269.0</td>\n",
       "      <td>3.647199</td>\n",
       "      <td>24.0</td>\n",
       "      <td>0.160920</td>\n",
       "      <td>2147.0</td>\n",
       "      <td>2학년</td>\n",
       "    </tr>\n",
       "    <tr>\n",
       "      <th>...</th>\n",
       "      <td>...</td>\n",
       "      <td>...</td>\n",
       "      <td>...</td>\n",
       "      <td>...</td>\n",
       "      <td>...</td>\n",
       "      <td>...</td>\n",
       "      <td>...</td>\n",
       "      <td>...</td>\n",
       "      <td>...</td>\n",
       "      <td>...</td>\n",
       "      <td>...</td>\n",
       "      <td>...</td>\n",
       "      <td>...</td>\n",
       "    </tr>\n",
       "    <tr>\n",
       "      <th>120</th>\n",
       "      <td>서울특별시</td>\n",
       "      <td>95.0</td>\n",
       "      <td>2.424116</td>\n",
       "      <td>592.0</td>\n",
       "      <td>5.063762</td>\n",
       "      <td>824.0</td>\n",
       "      <td>5.540833</td>\n",
       "      <td>222.0</td>\n",
       "      <td>3.648696</td>\n",
       "      <td>37.0</td>\n",
       "      <td>1.063503</td>\n",
       "      <td>1770.0</td>\n",
       "      <td>1학년</td>\n",
       "    </tr>\n",
       "    <tr>\n",
       "      <th>121</th>\n",
       "      <td>서울특별시</td>\n",
       "      <td>95.0</td>\n",
       "      <td>2.224349</td>\n",
       "      <td>567.0</td>\n",
       "      <td>4.801676</td>\n",
       "      <td>977.0</td>\n",
       "      <td>5.586675</td>\n",
       "      <td>348.0</td>\n",
       "      <td>4.097442</td>\n",
       "      <td>46.0</td>\n",
       "      <td>1.178237</td>\n",
       "      <td>2033.0</td>\n",
       "      <td>2학년</td>\n",
       "    </tr>\n",
       "    <tr>\n",
       "      <th>122</th>\n",
       "      <td>서울특별시</td>\n",
       "      <td>84.0</td>\n",
       "      <td>1.922578</td>\n",
       "      <td>610.0</td>\n",
       "      <td>4.782775</td>\n",
       "      <td>1077.0</td>\n",
       "      <td>5.602914</td>\n",
       "      <td>382.0</td>\n",
       "      <td>4.107520</td>\n",
       "      <td>63.0</td>\n",
       "      <td>1.507414</td>\n",
       "      <td>2216.0</td>\n",
       "      <td>3학년</td>\n",
       "    </tr>\n",
       "    <tr>\n",
       "      <th>123</th>\n",
       "      <td>서울특별시</td>\n",
       "      <td>74.0</td>\n",
       "      <td>1.912267</td>\n",
       "      <td>616.0</td>\n",
       "      <td>4.969611</td>\n",
       "      <td>974.0</td>\n",
       "      <td>5.630580</td>\n",
       "      <td>273.0</td>\n",
       "      <td>3.795559</td>\n",
       "      <td>29.0</td>\n",
       "      <td>0.560715</td>\n",
       "      <td>1966.0</td>\n",
       "      <td>2학년</td>\n",
       "    </tr>\n",
       "    <tr>\n",
       "      <th>124</th>\n",
       "      <td>서울특별시</td>\n",
       "      <td>70.0</td>\n",
       "      <td>1.812293</td>\n",
       "      <td>613.0</td>\n",
       "      <td>4.942890</td>\n",
       "      <td>982.0</td>\n",
       "      <td>5.622696</td>\n",
       "      <td>296.0</td>\n",
       "      <td>3.892585</td>\n",
       "      <td>32.0</td>\n",
       "      <td>0.683472</td>\n",
       "      <td>1993.0</td>\n",
       "      <td>3학년</td>\n",
       "    </tr>\n",
       "  </tbody>\n",
       "</table>\n",
       "<p>125 rows × 13 columns</p>\n",
       "</div>"
      ],
      "text/plain": [
       "        지역  1등급 인원     1등급 %  2등급 인원     2등급 %  3등급 인원     3등급 %  4등급 인원  \\\n",
       "0     경상북도    72.0  1.975997   506.0  4.789208   867.0  5.566115   359.0   \n",
       "1     경상북도    67.0  1.811471   543.0  4.830052   893.0  5.547758   372.0   \n",
       "2     경상북도    62.0  1.678973   482.0  4.637900   833.0  5.427170   472.0   \n",
       "3     경상북도   154.0  2.862154   829.0  5.290609   814.0  5.264236   292.0   \n",
       "4     경상북도    91.0  2.083384   767.0  5.158822   996.0  5.535742   269.0   \n",
       "..     ...     ...       ...     ...       ...     ...       ...     ...   \n",
       "120  서울특별시    95.0  2.424116   592.0  5.063762   824.0  5.540833   222.0   \n",
       "121  서울특별시    95.0  2.224349   567.0  4.801676   977.0  5.586675   348.0   \n",
       "122  서울특별시    84.0  1.922578   610.0  4.782775  1077.0  5.602914   382.0   \n",
       "123  서울특별시    74.0  1.912267   616.0  4.969611   974.0  5.630580   273.0   \n",
       "124  서울특별시    70.0  1.812293   613.0  4.942890   982.0  5.622696   296.0   \n",
       "\n",
       "        4등급 %  5등급 인원     5등급 %   검사인원수   학년  \n",
       "0    4.294033    26.0  0.506907  1830.0  1학년  \n",
       "1    4.284440    34.0  0.832688  1909.0  2학년  \n",
       "2    4.607626    87.0  2.168000  1936.0  3학년  \n",
       "3    3.785237    29.0  0.453122  2118.0  1학년  \n",
       "4    3.647199    24.0  0.160920  2147.0  2학년  \n",
       "..        ...     ...       ...     ...  ...  \n",
       "120  3.648696    37.0  1.063503  1770.0  1학년  \n",
       "121  4.097442    46.0  1.178237  2033.0  2학년  \n",
       "122  4.107520    63.0  1.507414  2216.0  3학년  \n",
       "123  3.795559    29.0  0.560715  1966.0  2학년  \n",
       "124  3.892585    32.0  0.683472  1993.0  3학년  \n",
       "\n",
       "[125 rows x 13 columns]"
      ]
     },
     "execution_count": 53,
     "metadata": {},
     "output_type": "execute_result"
    }
   ],
   "source": [
    "df_2_AAA"
   ]
  },
  {
   "cell_type": "code",
   "execution_count": 54,
   "id": "2ee2d4f8",
   "metadata": {},
   "outputs": [
    {
     "data": {
      "text/plain": [
       "<Axes: xlabel='지역', ylabel='1등급 %'>"
      ]
     },
     "execution_count": 54,
     "metadata": {},
     "output_type": "execute_result"
    },
    {
     "data": {
      "image/png": "[encoded data removed]",
      "text/plain": [
       "<Figure size 640x480 with 1 Axes>"
      ]
     },
     "metadata": {},
     "output_type": "display_data"
    }
   ],
   "source": [
    "sns.boxplot(data=df_2_AAA, x='지역', y= '1등급 %')"
   ]
  },
  {
   "cell_type": "code",
   "execution_count": 55,
   "id": "75c55fb1",
   "metadata": {},
   "outputs": [],
   "source": [
    "from statannot import add_stat_annotation\n"
   ]
  },
  {
   "cell_type": "code",
   "execution_count": 56,
   "id": "8273945a",
   "metadata": {},
   "outputs": [
    {
     "name": "stdout",
     "output_type": "stream",
     "text": [
      "p-value annotation legend:\n",
      "ns: 5.00e-02 < p <= 1.00e+00\n",
      "*: 1.00e-02 < p <= 5.00e-02\n",
      "**: 1.00e-03 < p <= 1.00e-02\n",
      "***: 1.00e-04 < p <= 1.00e-03\n",
      "****: p <= 1.00e-04\n",
      "\n",
      "경상북도 v.s. 서울특별시: t-test independent samples with Bonferroni correction, P_val=1.639e-03 stat=3.220e+00\n"
     ]
    },
    {
     "data": {
      "text/plain": [
       "(<Axes: xlabel='지역', ylabel='1등급 %'>,\n",
       " [<statannot.StatResult.StatResult at 0x170abd163b0>])"
      ]
     },
     "execution_count": 56,
     "metadata": {},
     "output_type": "execute_result"
    },
    {
     "data": {
      "image/png": "[encoded data removed]",
      "text/plain": [
       "<Figure size 640x480 with 1 Axes>"
      ]
     },
     "metadata": {},
     "output_type": "display_data"
    }
   ],
   "source": [
    "data=df_2_AAA\n",
    "fig = sns.boxplot(data = df_2_AAA, x='지역',y='1등급 %')\n",
    "fig2 = sns.stripplot(data = df_2_AAA, x='지역',y='1등급 %',\n",
    "                    color='k', alpha=.3)\n",
    "add_stat_annotation(ax=fig, data=df_2_AAA, x='지역', y='1등급 %',\n",
    "                   box_pairs=[(('경상북도'),\n",
    "                             ('서울특별시'))],\n",
    "                   test ='t-test_ind')"
   ]
  },
  {
   "cell_type": "code",
   "execution_count": 57,
   "id": "f670358a",
   "metadata": {},
   "outputs": [
    {
     "name": "stdout",
     "output_type": "stream",
     "text": [
      "p-value annotation legend:\n",
      "ns: 5.00e-02 < p <= 1.00e+00\n",
      "*: 1.00e-02 < p <= 5.00e-02\n",
      "**: 1.00e-03 < p <= 1.00e-02\n",
      "***: 1.00e-04 < p <= 1.00e-03\n",
      "****: p <= 1.00e-04\n",
      "\n",
      "경상북도 v.s. 서울특별시: t-test independent samples with Bonferroni correction, P_val=4.731e-02 stat=2.004e+00\n"
     ]
    },
    {
     "data": {
      "text/plain": [
       "(<Axes: xlabel='지역', ylabel='2등급 %'>,\n",
       " [<statannot.StatResult.StatResult at 0x170aba66e30>])"
      ]
     },
     "execution_count": 57,
     "metadata": {},
     "output_type": "execute_result"
    },
    {
     "data": {
      "image/png": "[encoded data removed]",
      "text/plain": [
       "<Figure size 640x480 with 1 Axes>"
      ]
     },
     "metadata": {},
     "output_type": "display_data"
    }
   ],
   "source": [
    "data=df_2_AAA\n",
    "fig = sns.boxplot(data = df_2_AAA, x='지역',y='2등급 %')\n",
    "fig2 = sns.stripplot(data = df_2_AAA, x='지역',y='2등급 %',\n",
    "                    color='k', alpha=.3)\n",
    "add_stat_annotation(ax=fig, data=df_2_AAA, x='지역', y='2등급 %',\n",
    "                   box_pairs=[(('경상북도'),\n",
    "                             ('서울특별시'))],\n",
    "                   test ='t-test_ind')"
   ]
  },
  {
   "cell_type": "code",
   "execution_count": 58,
   "id": "44235aca",
   "metadata": {},
   "outputs": [
    {
     "name": "stdout",
     "output_type": "stream",
     "text": [
      "p-value annotation legend:\n",
      "ns: 5.00e-02 < p <= 1.00e+00\n",
      "*: 1.00e-02 < p <= 5.00e-02\n",
      "**: 1.00e-03 < p <= 1.00e-02\n",
      "***: 1.00e-04 < p <= 1.00e-03\n",
      "****: p <= 1.00e-04\n",
      "\n",
      "경상북도 v.s. 서울특별시: t-test independent samples with Bonferroni correction, P_val=4.554e-03 stat=-2.890e+00\n"
     ]
    },
    {
     "data": {
      "text/plain": [
       "(<Axes: xlabel='지역', ylabel='3등급 %'>,\n",
       " [<statannot.StatResult.StatResult at 0x170ab9c91b0>])"
      ]
     },
     "execution_count": 58,
     "metadata": {},
     "output_type": "execute_result"
    },
    {
     "data": {
      "image/png": "[encoded data removed]",
      "text/plain": [
       "<Figure size 640x480 with 1 Axes>"
      ]
     },
     "metadata": {},
     "output_type": "display_data"
    }
   ],
   "source": [
    "data=df_2_AAA\n",
    "fig = sns.boxplot(data = df_2_AAA, x='지역',y='3등급 %')\n",
    "fig2 = sns.stripplot(data = df_2_AAA, x='지역',y='3등급 %',\n",
    "                    color='k', alpha=.3)\n",
    "add_stat_annotation(ax=fig, data=df_2_AAA, x='지역', y='3등급 %',\n",
    "                   box_pairs=[(('경상북도'),\n",
    "                             ('서울특별시'))],\n",
    "                   test ='t-test_ind')"
   ]
  },
  {
   "cell_type": "code",
   "execution_count": 59,
   "id": "eb48c5cb",
   "metadata": {},
   "outputs": [
    {
     "name": "stdout",
     "output_type": "stream",
     "text": [
      "p-value annotation legend:\n",
      "ns: 5.00e-02 < p <= 1.00e+00\n",
      "*: 1.00e-02 < p <= 5.00e-02\n",
      "**: 1.00e-03 < p <= 1.00e-02\n",
      "***: 1.00e-04 < p <= 1.00e-03\n",
      "****: p <= 1.00e-04\n",
      "\n",
      "경상북도 v.s. 서울특별시: t-test independent samples with Bonferroni correction, P_val=1.955e-01 stat=-1.302e+00\n"
     ]
    },
    {
     "data": {
      "text/plain": [
       "(<Axes: xlabel='지역', ylabel='4등급 %'>,\n",
       " [<statannot.StatResult.StatResult at 0x170ab752dd0>])"
      ]
     },
     "execution_count": 59,
     "metadata": {},
     "output_type": "execute_result"
    },
    {
     "data": {
      "image/png": "[encoded data removed]",
      "text/plain": [
       "<Figure size 640x480 with 1 Axes>"
      ]
     },
     "metadata": {},
     "output_type": "display_data"
    }
   ],
   "source": [
    "data=df_2_AAA\n",
    "fig = sns.boxplot(data = df_2_AAA, x='지역',y='4등급 %')\n",
    "fig2 = sns.stripplot(data = df_2_AAA, x='지역',y='4등급 %',\n",
    "                    color='k', alpha=.3)\n",
    "add_stat_annotation(ax=fig, data=df_2_AAA, x='지역', y='4등급 %',\n",
    "                   box_pairs=[(('경상북도'),\n",
    "                             ('서울특별시'))],\n",
    "                   test ='t-test_ind')"
   ]
  },
  {
   "cell_type": "code",
   "execution_count": 60,
   "id": "49b2ae5c",
   "metadata": {},
   "outputs": [
    {
     "name": "stdout",
     "output_type": "stream",
     "text": [
      "p-value annotation legend:\n",
      "ns: 5.00e-02 < p <= 1.00e+00\n",
      "*: 1.00e-02 < p <= 5.00e-02\n",
      "**: 1.00e-03 < p <= 1.00e-02\n",
      "***: 1.00e-04 < p <= 1.00e-03\n",
      "****: p <= 1.00e-04\n",
      "\n",
      "경상북도 v.s. 서울특별시: t-test independent samples with Bonferroni correction, P_val=5.660e-01 stat=-5.755e-01\n"
     ]
    },
    {
     "data": {
      "text/plain": [
       "(<Axes: xlabel='지역', ylabel='5등급 %'>,\n",
       " [<statannot.StatResult.StatResult at 0x170ab6ba6e0>])"
      ]
     },
     "execution_count": 60,
     "metadata": {},
     "output_type": "execute_result"
    },
    {
     "data": {
      "image/png": "[encoded data removed]",
      "text/plain": [
       "<Figure size 640x480 with 1 Axes>"
      ]
     },
     "metadata": {},
     "output_type": "display_data"
    }
   ],
   "source": [
    "data=df_2_AAA\n",
    "fig = sns.boxplot(data = df_2_AAA, x='지역',y='5등급 %')\n",
    "fig2 = sns.stripplot(data = df_2_AAA, x='지역',y='5등급 %',\n",
    "                    color='k', alpha=.3)\n",
    "add_stat_annotation(ax=fig, data=df_2_AAA, x='지역', y='5등급 %',\n",
    "                   box_pairs=[(('경상북도'),\n",
    "                             ('서울특별시'))],\n",
    "                   test ='t-test_ind')"
   ]
  },
  {
   "cell_type": "code",
   "execution_count": null,
   "id": "27ebca12",
   "metadata": {},
   "outputs": [],
   "source": []
  },
  {
   "cell_type": "code",
   "execution_count": null,
   "id": "aa8b4383",
   "metadata": {},
   "outputs": [],
   "source": []
  }
 ],
 "metadata": {
  "kernelspec": {
   "display_name": "Python 3 (ipykernel)",
   "language": "python",
   "name": "python3"
  },
  "language_info": {
   "codemirror_mode": {
    "name": "ipython",
    "version": 3
   },
   "file_extension": ".py",
   "mimetype": "text/x-python",
   "name": "python",
   "nbconvert_exporter": "python",
   "pygments_lexer": "ipython3",
   "version": "3.10.9"
  }
 },
 "nbformat": 4,
 "nbformat_minor": 5
}
